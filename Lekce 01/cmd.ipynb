{
 "cells": [
  {
   "cell_type": "markdown",
   "metadata": {},
   "source": [
    "# Tahák: Příkazový řádek pro začátečníky (Windows & Unix)\n",
    "\n",
    "## Základní příkazy\n",
    "\n",
    "| Úkol                         | Unix/Linux/macOS (bash)  | Windows (cmd)             |\n",
    "|------------------------------|---------------------------|---------------------------|\n",
    "| Zobraz aktuální složku       | `pwd`                     | `cd` nebo `echo %cd%`     |\n",
    "| Výpis obsahu složky          | `ls`                      | `dir`                     |\n",
    "| Přesun do složky             | `cd složka`               | `cd složka`               |\n",
    "| Vytvoření složky             | `mkdir složka`            | `mkdir složka`            |\n",
    "| Vytvoření souboru            | `touch soubor.txt`        | `type nul > soubor.txt`   |\n",
    "| Smazání souboru              | `rm soubor.txt`           | `del soubor.txt`          |\n",
    "| Smazání složky               | `rm -r složka`            | `rmdir /s složka`         |\n",
    "| Kopírování souboru           | `cp a.txt b.txt`          | `copy a.txt b.txt`        |\n",
    "| Přejmenování / přesun        | `mv a.txt b.txt`          | `move a.txt b.txt`        |\n",
    "| Zobrazení obsahu souboru     | `cat soubor.txt`          | `type soubor.txt`         |\n",
    "\n",
    "---\n",
    "\n",
    "## Python příkazy\n",
    "\n",
    "| Úkol                              | Unix/Linux/macOS (bash)     | Windows (cmd)             |\n",
    "|-----------------------------------|------------------------------|---------------------------|\n",
    "| Spuštění Python skriptu           | `python script.py`           | `python script.py`        |\n",
    "| Vytvoření virtuálního prostředí   | `python -m venv venv`        | `python -m venv venv`     |\n",
    "| Aktivace virtuálního prostředí    | `source venv/bin/activate`   | `venv\\Scripts\\activate`   |\n",
    "| Instalace balíčku                 | `pip install nazev`          | `pip install nazev`       |\n",
    "\n",
    "---\n",
    "\n",
    "## Mini výzvy pro trénink\n",
    "\n",
    "1. Vytvoř složku s názvem `projekt` a vstup do ní.\n",
    "2. Vytvoř v ní soubor `hello.py` a napiš do něj `print(\"Ahoj svět!\")`.\n",
    "3. Spusť soubor pomocí Pythonu.\n",
    "4. Vytvoř kopii tohoto souboru pod názvem `hello_kopie.py`.\n",
    "5. Smaž původní soubor.\n"
   ]
  },
  {
   "cell_type": "markdown",
   "metadata": {},
   "source": []
  }
 ],
 "metadata": {
  "language_info": {
   "name": "python"
  }
 },
 "nbformat": 4,
 "nbformat_minor": 2
}
