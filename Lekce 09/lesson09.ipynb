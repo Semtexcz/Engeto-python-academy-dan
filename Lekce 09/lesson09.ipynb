{
 "cells": [
  {
   "cell_type": "markdown",
   "metadata": {},
   "source": [
    "# Python akademie\n",
    "\n",
    "---\n",
    "\n",
    "<br>\n",
    "\n",
    "## Obsah lekce\n",
    "---\n",
    "\n",
    "\n",
    "1. [Úvod do IO](#Úvod-do-IO),\n",
    "2. [Spojení se souborem pomocí Pythonu](#Spojení-se-souborem-pomocí-Pythonu),\n",
    "3. [Textové soubory](#Textové-soubory),\n",
    "4. [Zápis s kontextovým manažerem](#Zápis-s-kontextovým-manažerem),\n",
    "5. [Formátování řetězců (~string formatting)](#Formátování-řetězců-(~string-formatting)).\n",
    "\n",
    "\n",
    "---"
   ]
  },
  {
   "cell_type": "markdown",
   "metadata": {},
   "source": [
    "<br>\n",
    "\n",
    "<img src=\"https://external-content.duckduckgo.com/iu/?u=https%3A%2F%2Ftse4.mm.bing.net%2Fth%3Fid%3DOIP.BPYuvKj05Xo_oF_oXiL1yAHaHa%26pid%3DApi&f=1\" width=\"250\" style=\"margin-left:auto; margin-right:auto\">"
   ]
  },
  {
   "cell_type": "markdown",
   "metadata": {},
   "source": [
    "## Úvod do I/O (Input/Output)\n",
    "\n",
    "---\n",
    "\n",
    "Nyní pracuješ pouze s objekty **Pythonu vlastními** nebo **s jeho knihovnami**.\n",
    "\n",
    "Všechny tyto *objekty* si vytvoříš a zpracováváš **v rámci paměti RAM** (*random access memory*).\n",
    "\n",
    "<br>\n",
    "\n",
    "*Paměť RAM* je **velmi rychlá**, ale současně náročná a vyžaduje **neustálý zdroj** (není elektřina, ztratíš data).\n",
    "\n",
    "Takový **disk počítače** je o dost **pomalejší** než paměť *RAM*, ale umožňuje ti uchovávat tebou získaná, zpracovaná data.\n",
    "\n",
    "<table>\n",
    "  <thead>\n",
    "    <tr>\n",
    "      <th>Technologie</th>\n",
    "      <th>Rychlost čtení/zápisu (přibližně)</th>\n",
    "      <th>Latence</th>\n",
    "      <th>Použití</th>\n",
    "    </tr>\n",
    "  </thead>\n",
    "  <tbody>\n",
    "    <tr>\n",
    "      <td>RAM</td>\n",
    "      <td>25–50+ GB/s</td>\n",
    "      <td>Nanosekundy</td>\n",
    "      <td>Dočasná data pro CPU</td>\n",
    "    </tr>\n",
    "    <tr>\n",
    "      <td>SSD</td>\n",
    "      <td>500 MB/s – 7 GB/s</td>\n",
    "      <td>Mikrosekundy</td>\n",
    "      <td>Úložiště OS a aplikací</td>\n",
    "    </tr>\n",
    "    <tr>\n",
    "      <td>HD</td>\n",
    "      <td>100–200 MB/s</td>\n",
    "      <td>Milisekundy</td>\n",
    "      <td>Archivace a zálohy dat</td>\n",
    "    </tr>\n",
    "  </tbody>\n",
    "</table>\n",
    "\n",
    "\n",
    "\n",
    "<br>\n",
    "\n",
    "Proto je dobré osvojit si pravidla a postupy v Pythonu, jak vytvořit **persistentní data**.\n",
    "\n",
    "<br>"
   ]
  },
  {
   "cell_type": "markdown",
   "metadata": {},
   "source": [
    "### Co je soubor?\n",
    "\n",
    "**Počítačový soubor**\n",
    "\n",
    "- Základní jednotka ukládání dat v počítačích\n",
    "- Obsahuje informace různých typů (text, obrázek, video, binární data)\n",
    "- Struktura souboru usnadňuje interpretaci dat aplikacemi a operačním systémem\n",
    "\n",
    "---\n",
    "\n",
    "<img src=\"https://realpython.com/cdn-cgi/image/width=337,format=auto/https://files.realpython.com/media/FileFormat.02335d06829d.png\">\n",
    "\n",
    "**Struktura počítačového souboru**\n",
    "\n",
    "1. **Header (záhlaví)**\n",
    "   - První část souboru s metadaty\n",
    "   - Obsahuje informace o typu souboru, formátu, délce souboru\n",
    "   - Pomáhá aplikacím rozpoznat, jak soubor zpracovat\n",
    "\n",
    "2. **Data (tělo)**\n",
    "   - Hlavní obsah souboru\n",
    "   - Například text, pixely obrázku nebo zvukové frekvence\n",
    "   - Reprezentováno různými způsoby podle účelu souboru\n",
    "\n",
    "3. **EOF (End of File)**\n",
    "   - Značka nebo příznak konce souboru\n",
    "   - Označuje, kde data končí\n",
    "   - Někdy určeno explicitně, jindy pouze délkou souboru\n",
    "\n",
    "---\n",
    "\n",
    "\n",
    "**Reprezentace souboru**\n",
    "\n",
    "- Sekvence bajtů v paměti nebo na disku\n",
    "- Každý bajt = binární data (0 nebo 1)\n",
    "- Na vyšší úrovni operační systém ukládá:\n",
    "  - Název souboru\n",
    "  - Umístění\n",
    "  - Oprávnění\n",
    "  - Datum vytvoření a další vlastnosti"
   ]
  },
  {
   "cell_type": "markdown",
   "metadata": {},
   "source": [
    "\n",
    "### Adresa souboru\n",
    "\n",
    "Každý soubor má v operačním systému svou adresu, podle které ho lze najít. Tato adresa je jedinečná a jednoznačně identifikuje umístění souboru ve stromové struktuře souborového systému.\n",
    "\n",
    "Skládá se ze tří částí:\n",
    "\n",
    "<ul>\n",
    "    <li style=\"color:#28abed;font-weight:700\">Adresa složky</li>\n",
    "    <p>Označuje cestu k umístění souboru. V Linuxu cesta začíná od kořenového adresáře <code>/</code>, kdežto ve Windows od písmena jednotky (např. <code>C:\\</code>). Cesta obsahuje názvy všech složek, které vedou k danému souboru.</p>\n",
    "\n",
    "   <li style=\"color:#e00846;font-weight:700\">Jméno souboru</li>\n",
    "   <p>Jméno souboru je jedinečný název v rámci konkrétní složky. Soubor se tak odlišuje od ostatních souborů ve stejném adresáři. Jméno by mělo být výstižné a stručné, aby se dalo snadno rozpoznat.</p>\n",
    "\n",
    "   <li style=\"color:#44ed8d;font-weight:700\">Přípona souboru</li>\n",
    "   <p>Přípona určuje typ souboru, například <code>.txt</code> pro textové dokumenty nebo <code>.jpg</code> pro obrázky. Operační systémy, zejména Windows, využívají příponu pro rozpoznání aplikace, kterou by měly použít k otevření souboru. V Linuxu není přípona striktně nutná pro identifikaci typu souboru, ale je užitečná pro uživatele.</p>\n",
    "</ul>\n",
    "\n",
    "### Stromová struktura\n",
    "\n",
    "Souborový systém v Linuxu i Windows používá stromovou strukturu, kde každý soubor a složka mají své místo ve větvené hierarchii:\n",
    "\n",
    "- **Kořenový adresář** je výchozím bodem stromu. V Linuxu je kořen označen <code>/</code>, zatímco ve Windows se používá písmeno jednotky s následným zpětným lomítkem (např `C:\\`).\n",
    "- **Adresáře a podadresáře** tvoří větve stromu, kde každý adresář může obsahovat další soubory a složky.\n",
    "- **Soubory** jsou na koncích větví (listy stromu), kde každý soubor je přístupný přes konkrétní cestu, která sleduje hierarchii složek od kořene až po cílový soubor."
   ]
  },
  {
   "cell_type": "code",
   "execution_count": null,
   "metadata": {},
   "outputs": [],
   "source": [
    "!tree .."
   ]
  },
  {
   "cell_type": "markdown",
   "metadata": {},
   "source": [
    "**Porovnání souborových systémů Windows a Linux**\n",
    "\n",
    "1. **Cesta k souboru**:\n",
    "   - **Linux**: Používá dopředná lomítka `/` pro oddělení složek (např. <code><span style=\"color:#28abed\">/home/user/documents/</span><span style=\"color:#e00846\">file</span><span style=\"color:#44ed8d\">.txt</span></code>).\n",
    "   - **Windows**: Používá zpětná lomítka `\\` a začíná písmenem jednotky (např. <code><span style=\"color:#28abed\"> C:\\Users\\User\\Documents&#92;</span><span style=\"color:#e00846\">file</span><span style=\"color:#44ed8d\">.txt</span><</code>).\n",
    "\n",
    "2. **Jednotky a připojení disku**:\n",
    "   - **Linux**: Jednotky a další zařízení (např. USB) jsou připojovány k určitému adresáři (např. `/media/usb`), což umožňuje jednotnou strukturu bez potřeby odlišných písmen.\n",
    "   - **Windows**: Každý disk nebo oddíl je identifikován písmenem jednotky (např. `C:`, `D:`), což může působit méně sjednoceně.\n",
    "\n",
    "3. **Oprávnění**:\n",
    "   - **Linux**: Systém oprávnění je složitější a zahrnuje práva pro čtení, zápis a spouštění pro vlastníka, skupinu a ostatní uživatele.\n",
    "   - **Windows**: Oprávnění jsou spravována pomocí systému ACL (Access Control List), což umožňuje detailnější nastavení, ale pro běžné uživatele je často obtížněji přístupné.\n",
    "\n",
    "4. **Přípony souborů**:\n",
    "   - **Linux**: Rozpoznává typ souboru podle obsahu, takže přípony nejsou nezbytné (např. binární soubory nemusí mít .exe). Přípony jsou však užitečné pro přehlednost.\n",
    "   - **Windows**: Přípony jsou klíčové pro identifikaci a otevření souboru správnou aplikací, což je důležité zejména pro spustitelné soubory (.exe)."
   ]
  },
  {
   "cell_type": "markdown",
   "metadata": {},
   "source": [
    "### Ukončení řádku\n",
    "\n",
    "- **Historie**:\n",
    "  - Původ ve zvyklostech z Morseovy abecedy, kde se používalo specifické značení konce řádku nebo přenosu.\n",
    "  - Standardizováno pro telegrafy organizacemi ISO a ASA.\n",
    "\n",
    "- **Standardizace znaků**:\n",
    "  - **ASA standard**: Používá sekvenci Carriage Return (CR nebo `\\r`) a Line Feed (LF nebo `\\n`) pro konec řádku (CR+LF nebo `\\r\\n`).\n",
    "  - **ISO standard**: Povolen buď CR+LF nebo pouze LF.\n",
    "\n",
    "- **Operační systémy**:\n",
    "  - **Windows**: Používá CR+LF (`\\r\\n`) pro nový řádek.\n",
    "  - **Unix a novější verze MacOS**: Používají pouze LF (`\\n`).\n",
    "\n",
    "- **Problémy při zpracování souborů**:\n",
    "  - Soubor vytvořený v jednom OS může mít jinou interpretaci na jiném OS.\n",
    "  - Příklad: Soubor `windows.txt` vytvořený na Windows bude obsahovat řádky zakončené `\\r\\n`.\n",
    "  - Na Unixových systémech bude stejný soubor interpretován takto:\n",
    "    - Každá položka se rozdělí na `\\r` a `\\n`, což způsobí nečekané řádkování.\n",
    "    ```\n",
    "    Český jazyk je krásný a bohatý.\\r\\n\n",
    "    Každé slovo má svůj význam.\\r\\n\n",
    "    Jazyk nás spojuje i odlišuje.\\r\\n\n",
    "    Příroda je plná inspirace.\\r\\n\n",
    "    Díky ní objevujeme nové světy.\\r\\n\n",
    "    ```\n",
    "\n",
    "- **Důsledky**:\n",
    "  - Při iteraci přes jednotlivé řádky může dojít k problémům.\n",
    "  - Při práci s různými OS je potřeba ošetřit rozdíly v zakončení řádků.\n"
   ]
  },
  {
   "cell_type": "markdown",
   "metadata": {},
   "source": [
    "### Kódování znaků\n",
    "\n",
    "**ASCII kódování**\n",
    "\n",
    "ASCII používá 7 bitů na znak, takže každý znak má přiřazený kód v rozsahu 0–127.\n",
    "\n",
    "| Znak | ASCII Kód | Binární kódování (7 bitů) |\n",
    "|------|-----------|--------------------------|\n",
    "| `A`  | 65        | 01000001                 |\n",
    "| `a`  | 97        | 01100001                 |\n",
    "| `1`  | 49        | 00110001                 |\n",
    "| `?`  | 63        | 00111111                 |\n",
    "\n",
    "Příklad:\n",
    "- Znak `A` má kód 65, což je v binárním zápisu `01000001`.\n",
    "- Znak `a` má kód 97, což je v binárním zápisu `01100001`.\n",
    "\n",
    "ASCII je omezený pouze na znaky základní latinské abecedy a několik speciálních znaků, takže třeba znak `č` v ASCII nelze reprezentovat.\n",
    "\n",
    "**UTF-8 kódování**\n",
    "\n",
    "UTF-8 je proměnlivě dlouhé kódování a umožňuje použít 1 až 4 byty na znak. Znaky odpovídající ASCII jsou zakódovány pomocí 1 bytu, zatímco znaky mimo ASCII používají více bytů.\n",
    "\n",
    "| Znak | Unicode Kód (desítkově) | Unicode Kód (hexadecimálně) | Binární kódování (UTF-8)       |\n",
    "|------|--------------------------|-----------------------------|--------------------------------|\n",
    "| `A`  | 65                       | 0041                        | 01000001                       |\n",
    "| `a`  | 97                       | 0061                        | 01100001                       |\n",
    "| `č`  | 269                      | 010D                        | 11000101 10101101              |\n",
    "| `😊` | 128522                   | 1F60A                       | 11110000 10011111 10011000 10101010 |\n",
    "\n",
    "Příklad:\n",
    "- Znak `A` má kód 65, což je v UTF-8 `01000001` (shodné s ASCII, protože UTF-8 je zpětně kompatibilní).\n",
    "- Znak `č` má kód 269, což je v hexadecimálním zápisu `010D`. V UTF-8 se zakóduje jako dva byty: `11000101 10101101`.\n",
    "- Emotikon `😊` má kód 128522, což je v hexadecimálním zápisu `1F60A`. V UTF-8 potřebuje 4 byty: `11110000 10011111 10011000 10101010`.\n",
    "\n",
    "**Jak to funguje?**\n",
    "\n",
    "UTF-8 používá specifický formát, který indikuje počet bytů potřebných pro znak podle předpony:\n",
    "\n",
    "- 1 byte: `0xxxxxxx` (ASCII znak)\n",
    "- 2 byty: `110xxxxx 10xxxxxx` (např. `č`)\n",
    "- 3 byty: `1110xxxx 10xxxxxx 10xxxxxx`\n",
    "- 4 byty: `11110xxx 10xxxxxx 10xxxxxx 10xxxxxx` (např. emotikon `😊`)\n",
    "\n",
    "Díky této struktuře počítač rozpozná, kolik bytů má načíst, což zajišťuje efektivitu i kompatibilitu.\n",
    "\n",
    "**Shrnutí příkladu**\n",
    "\n",
    "Při kódování řetězce, např. `\"Ač😊\"` v UTF-8, by výsledek vypadal takto:\n",
    "- `A` → `01000001`\n",
    "- `č` → `11000101 10101101`\n",
    "- `😊` → `11110000 10011111 10011000 10101010`\n",
    "\n",
    "V bajtech tedy `Ač😊` bude reprezentováno jako:\n",
    "```\n",
    "01000001 11000101 10101101 11110000 10011111 10011000 10101010\n",
    "``` \n",
    "\n",
    "Tento způsob kódování umožňuje, aby byly současně zastoupeny všechny možné znaky z různých písem, což činí UTF-8 univerzálním kódováním pro text na webu a ve většině moderních aplikací."
   ]
  },
  {
   "cell_type": "markdown",
   "metadata": {},
   "source": [
    "<br>\n",
    "\n",
    "<img src=\"https://external-content.duckduckgo.com/iu/?u=https%3A%2F%2Ftse1.mm.bing.net%2Fth%3Fid%3DOIP.h0qswb-mu-Ay17g7L_gwYwHaHa%26pid%3DApi&f=1&ipt=88ac91ad4993d84f5f1996a1644d85f41dead53dc1526c82b95099dfc7e5a6b1&ipo=images\" width=\"200\" style=\"margin-left:auto; margin-right:auto\">"
   ]
  },
  {
   "cell_type": "markdown",
   "metadata": {},
   "source": [
    "### Spojení se souborem pomocí Pythonu\n",
    "\n",
    "---\n",
    "\n",
    "Klasickou cestou, jak vytvořit obyčejný soubor je poskládat údaje (bajty) za hlavičkou, tedy **jménem souboru**.\n",
    "\n",
    "<br>\n",
    "\n",
    "Než ale začneš se souborem pracovat, potřebuješ si v Pythonu vytvořit *pomocný objekt*, který jej bude **zastupovat** (nebo se na něj odkazovat):"
   ]
  },
  {
   "cell_type": "markdown",
   "metadata": {},
   "source": [
    "```python\n",
    "muj_soubor = open(jmeno_souboru, pravidla)  # pomocný objekt\n",
    "\n",
    "# ... libovolná ohlášení\n",
    "\n",
    "muj_soubor.close()\n",
    "```"
   ]
  },
  {
   "cell_type": "markdown",
   "metadata": {},
   "source": [
    "1. `muj_soubor`, je **Pythonovský objekt** odkazující na **soubor**,\n",
    "2. `open()`, *zabudovaná funkce*, která **vytváří spojení** (*stream*) mezi objektem a souborem,\n",
    "3. `jmeno_souboru`, jméno souboru (*relativní* cesta/*absolutní* cesta),\n",
    "4. `pravidla`, výběr argumentů upřesňujících, **jak soubor otevřít**,\n",
    "5. `muj_soubor.close`, způsob, kterým **ukončíš spojení** mezi objektem a souborem."
   ]
  },
  {
   "cell_type": "markdown",
   "metadata": {},
   "source": [
    "<br>\n",
    "\n",
    "<img src=\"https://external-content.duckduckgo.com/iu/?u=https%3A%2F%2Ftse2.mm.bing.net%2Fth%3Fid%3DOIP.JhMJc09m94e9V3oKtb_n3AHaHa%26pid%3DApi&f=1\" width=\"200\" style=\"margin-left:auto; margin-right:auto\">"
   ]
  },
  {
   "cell_type": "markdown",
   "metadata": {},
   "source": [
    "## Textové soubory\n",
    "\n",
    "---\n",
    "\n",
    "Nejlepším souborem na začátek bude prostý **textový soubor**.\n",
    "\n",
    "Textovým souborem rozuměj jakýkoliv soubor, který má příponu `.txt`.\n",
    "\n",
    "#### Demo: Ukázka textového souboru"
   ]
  },
  {
   "cell_type": "markdown",
   "metadata": {},
   "source": [
    "**Vytvoření souboru**"
   ]
  },
  {
   "cell_type": "code",
   "execution_count": null,
   "metadata": {},
   "outputs": [],
   "source": [
    "!echo -e \"Ahoj, světe!\\nToto je ukázkový textový soubor.\" > demo.txt"
   ]
  },
  {
   "cell_type": "markdown",
   "metadata": {},
   "source": [
    "**Metadata souboru**"
   ]
  },
  {
   "cell_type": "code",
   "execution_count": null,
   "metadata": {},
   "outputs": [],
   "source": [
    "!stat demo.txt"
   ]
  },
  {
   "cell_type": "markdown",
   "metadata": {},
   "source": [
    "**Binární reprezentace**"
   ]
  },
  {
   "cell_type": "code",
   "execution_count": null,
   "metadata": {},
   "outputs": [],
   "source": [
    "!xxd -b demo.txt"
   ]
  },
  {
   "cell_type": "markdown",
   "metadata": {},
   "source": [
    "<br>\n",
    "\n",
    "### Úvod k souborům\n",
    "\n",
    "---\n",
    "\n",
    "Základními procesy pro práci se soubory obecně jsou:\n",
    "1. **Čtení** souborů,\n",
    "2. **Zápis** do souborů."
   ]
  },
  {
   "cell_type": "markdown",
   "metadata": {},
   "source": [
    "### Čtení souborů\n",
    "\n",
    "---\n",
    "\n",
    "Otevřít a přečíst *textový soubor* pomocí *editorů* jistě ovládáš.\n",
    "\n",
    "Teď se podívej, jak můžeš naučit otevírání a čtení souborů také **interpreta Pythonu**:"
   ]
  },
  {
   "cell_type": "code",
   "execution_count": null,
   "metadata": {},
   "outputs": [],
   "source": [
    "muj_nacteny_txt_soubor = open(demo.txt)"
   ]
  },
  {
   "cell_type": "code",
   "execution_count": null,
   "metadata": {},
   "outputs": [],
   "source": [
    "muj_nacteny_txt_soubor = open('demo.txt')"
   ]
  },
  {
   "cell_type": "code",
   "execution_count": null,
   "metadata": {},
   "outputs": [],
   "source": [
    "!ls"
   ]
  },
  {
   "cell_type": "code",
   "execution_count": null,
   "metadata": {},
   "outputs": [],
   "source": [
    "muj_nacteny_txt_soubor = open('maj.txt',\n",
    "                              mode='r',\n",
    "                              encoding='UTF-8')"
   ]
  },
  {
   "cell_type": "markdown",
   "metadata": {},
   "source": [
    "<hr>\n",
    "\n",
    "Dávej pozor, jakým způsobem **jméno souboru** používáš. Python potřebuje pracovat s takovým datovým typem, který dobře zná."
   ]
  },
  {
   "cell_type": "code",
   "execution_count": null,
   "metadata": {},
   "outputs": [],
   "source": [
    "print(muj_nacteny_txt_soubor)"
   ]
  },
  {
   "cell_type": "markdown",
   "metadata": {},
   "source": [
    "Další kolizí může být **umístění** souboru.\n",
    "\n",
    "<br>\n",
    "\n",
    "*Interpret* pracuje **v aktuálním umístění**.\n",
    "\n",
    "Takže buď soubor přesuneš, nebo na něj odkážeš pomocí:\n",
    "1. **Relativní cesty** (tedy vzhledem k aktuálnímu umístění),\n",
    "2. **absolutní cesty** (celá cesta od *roota* nebo *jména disku*)."
   ]
  },
  {
   "cell_type": "markdown",
   "metadata": {},
   "source": [
    "<br>\n",
    "\n",
    "#### Relativní cesta\n",
    "```\n",
    "\"muj_textovy_soubor.txt\"                # v aktuální složce\n",
    "\"../muj_textovy_soubor.txt\"             # v rodičovské složce\n",
    "\"../shared/onsite/muj_textovy_soubor.txt\"  # v dceřinné složce 'shared', v dceřinné složce 'onsite'\n",
    "```\n",
    "\n",
    "#### Absolutní cesta, Windows\n",
    "```\n",
    "\"C:\\users\\admin\\docs\\muj_textovy_soubor.txt\"\n",
    "```\n",
    "\n",
    "#### Absolutní cesta, unix\n",
    "```\n",
    "\"/home/user/project/shared/onsite/muj_textovy_soubor.txt\"\n",
    "```"
   ]
  },
  {
   "cell_type": "code",
   "execution_count": null,
   "metadata": {},
   "outputs": [],
   "source": [
    "print(muj_nacteny_txt_soubor)"
   ]
  },
  {
   "cell_type": "code",
   "execution_count": null,
   "metadata": {},
   "outputs": [],
   "source": [
    "print(type(muj_nacteny_txt_soubor))"
   ]
  },
  {
   "cell_type": "markdown",
   "metadata": {},
   "source": [
    "<br>\n",
    "\n",
    "Metody **pro čtění obsahu** *TextIOWrapper* objektu (zabudovaná knihovna [io](https://docs.python.org/3/library/io.html)):\n",
    "\n",
    "1. `read` - přečte celý soubor jako jeden string,\n",
    "2. `readline` - přečte pouze první řádek jako string,\n",
    "3. `readlines` - přečte celý soubor jako list (co řádek, to údaj)\n",
    "\n",
    "<br>"
   ]
  },
  {
   "cell_type": "markdown",
   "metadata": {},
   "source": [
    "<details>\n",
    "  <summary>▶️ Poznámky ke knihovně io</summary>\n",
    "   \n",
    "https://www.remnote.com/a/io/67237016d73bd77515132c26\n",
    "</details>"
   ]
  },
  {
   "cell_type": "code",
   "execution_count": null,
   "metadata": {},
   "outputs": [],
   "source": [
    "obsah_txt = muj_nacteny_txt_soubor.read()"
   ]
  },
  {
   "cell_type": "code",
   "execution_count": null,
   "metadata": {},
   "outputs": [],
   "source": [
    "print(obsah_txt,\n",
    "      type(obsah_txt),\n",
    "      sep='\\n')"
   ]
  },
  {
   "cell_type": "code",
   "execution_count": null,
   "metadata": {},
   "outputs": [],
   "source": [
    "print(obsah_txt.split())"
   ]
  },
  {
   "cell_type": "code",
   "execution_count": null,
   "metadata": {},
   "outputs": [],
   "source": [
    "# muj_nacteny_txt_soubor.seek(0)"
   ]
  },
  {
   "cell_type": "code",
   "execution_count": null,
   "metadata": {},
   "outputs": [],
   "source": [
    "obsah_txt_list = muj_nacteny_txt_soubor.readlines()"
   ]
  },
  {
   "cell_type": "code",
   "execution_count": null,
   "metadata": {},
   "outputs": [],
   "source": [
    "print(obsah_txt_list)"
   ]
  },
  {
   "cell_type": "markdown",
   "metadata": {},
   "source": [
    "<br>\n",
    "\n",
    "Pokud čteš jednotlivé znaky, **pomyslný kurzor** je postupně prochází.\n",
    "\n",
    "Jakmile s ním dojdeš nakonec, **musíš jej ručně vrátit na začátek**, pokud chceš obsah souboru znovu načíst:"
   ]
  },
  {
   "cell_type": "code",
   "execution_count": null,
   "metadata": {},
   "outputs": [],
   "source": [
    "muj_nacteny_txt_soubor.seek(0)     # Nastaví kurzor na začátek .txt souboru"
   ]
  },
  {
   "cell_type": "code",
   "execution_count": null,
   "metadata": {},
   "outputs": [],
   "source": [
    "muj_txt_soubor.seek(0, 1)  # Nastaví kurzor na konec .txt souboru"
   ]
  },
  {
   "cell_type": "code",
   "execution_count": null,
   "metadata": {},
   "outputs": [],
   "source": [
    "obsah_txt_list = muj_nacteny_txt_soubor.readlines()"
   ]
  },
  {
   "cell_type": "code",
   "execution_count": null,
   "metadata": {},
   "outputs": [],
   "source": [
    "print(obsah_txt_list)"
   ]
  },
  {
   "cell_type": "code",
   "execution_count": null,
   "metadata": {},
   "outputs": [],
   "source": [
    "print(type(obsah_txt_list))"
   ]
  },
  {
   "cell_type": "markdown",
   "metadata": {},
   "source": [
    "Jakmile tvoje práce s textovými souborem skončí, nezapomeň soubor zavřít."
   ]
  },
  {
   "cell_type": "markdown",
   "metadata": {},
   "source": [
    "<br>\n",
    "\n",
    "Pokud si potřebuješ jen ověřit, jestli je spojení se souborem ukončené, použij metodu `closed`:"
   ]
  },
  {
   "cell_type": "code",
   "execution_count": null,
   "metadata": {},
   "outputs": [],
   "source": [
    "muj_nacteny_txt_soubor.closed  # is_close --> bool"
   ]
  },
  {
   "cell_type": "code",
   "execution_count": null,
   "metadata": {},
   "outputs": [],
   "source": [
    "muj_nacteny_txt_soubor.close()"
   ]
  },
  {
   "cell_type": "code",
   "execution_count": null,
   "metadata": {},
   "outputs": [],
   "source": [
    "muj_nacteny_txt_soubor.closed  # --> bool"
   ]
  },
  {
   "cell_type": "markdown",
   "metadata": {},
   "source": [
    "#### Rekapitulace\n",
    "\n",
    "---"
   ]
  },
  {
   "cell_type": "code",
   "execution_count": null,
   "metadata": {},
   "outputs": [],
   "source": [
    "muj_nacteny_txt_soubor = open(\n",
    "    'maj.txt', mode='r'\n",
    ")\n",
    "\n",
    "obsah_txt = muj_nacteny_txt_soubor.readlines()\n",
    "\n",
    "muj_nacteny_txt_soubor.close()"
   ]
  },
  {
   "cell_type": "code",
   "execution_count": null,
   "metadata": {},
   "outputs": [],
   "source": [
    "def precti_txt_soubor(jmeno_souboru: str,\n",
    "                      mod: str = 'r') -> list:\n",
    "    muj_nacteny_txt_soubor = open(jmeno_souboru,\n",
    "                                  mode=mod)\n",
    "\n",
    "    obsah_txt = muj_nacteny_txt_soubor.readlines()\n",
    "    \n",
    "    muj_nacteny_txt_soubor.close()\n",
    "    \n",
    "    return obsah_txt"
   ]
  },
  {
   "cell_type": "code",
   "execution_count": null,
   "metadata": {},
   "outputs": [],
   "source": [
    "obsah_txt_souboru = precti_txt_soubor(\n",
    "    jmeno_souboru='maj.txt'\n",
    ")"
   ]
  },
  {
   "cell_type": "code",
   "execution_count": null,
   "metadata": {},
   "outputs": [],
   "source": [
    "print(obsah_txt_souboru)"
   ]
  },
  {
   "cell_type": "markdown",
   "metadata": {},
   "source": [
    "<br>\n",
    "\n",
    "### Zápis do souborů\n",
    "\n",
    "---\n",
    "\n",
    "Pokud žádný textový soubor nemáš, nebo jej chceš naopak **vytvořit**, musíš jej prvně **zapsat**:"
   ]
  },
  {
   "cell_type": "code",
   "execution_count": null,
   "metadata": {},
   "outputs": [],
   "source": [
    "muj_string = \"Toto je můj nový soubor^.^\""
   ]
  },
  {
   "cell_type": "markdown",
   "metadata": {},
   "source": [
    "<br>\n",
    "\n",
    "*String* `muj_txt` máš aktuálně k dispozici pouze jako nějaký objekt Pythonu.\n",
    "\n",
    "Opět je potřeba nejprve spojit **objekt v Pythonu** se skutečným souborem na disku."
   ]
  },
  {
   "cell_type": "code",
   "execution_count": null,
   "metadata": {},
   "outputs": [],
   "source": [
    "muj_druhy_txt_soubor = open(\n",
    "    \"../muj_zapsany.txt\",\n",
    "    mode='w'\n",
    ")"
   ]
  },
  {
   "cell_type": "markdown",
   "metadata": {},
   "source": [
    "<br>\n",
    "\n",
    "Soubor si následně můžeš otevřít, ale zjistíš, že je **v tento moment prázdný**.\n",
    "\n",
    "Funkce `open` pouze vytvoří (*~iniciuje*) nový objekt `muj_druhy_txt_soubor`.\n",
    "\n",
    "Příslušný text teprve musíme zapsat, pomocí vhodné *funkce* `write`:"
   ]
  },
  {
   "cell_type": "code",
   "execution_count": null,
   "metadata": {},
   "outputs": [],
   "source": [
    "print(muj_string)"
   ]
  },
  {
   "cell_type": "code",
   "execution_count": null,
   "metadata": {},
   "outputs": [],
   "source": [
    "muj_druhy_txt_soubor.write(muj_string)"
   ]
  },
  {
   "cell_type": "markdown",
   "metadata": {},
   "source": [
    "<br>\n",
    "\n",
    "Spojení se souborem je **pořád aktivní**."
   ]
  },
  {
   "cell_type": "code",
   "execution_count": null,
   "metadata": {},
   "outputs": [],
   "source": [
    "muj_druhy_txt_soubor.closed"
   ]
  },
  {
   "cell_type": "code",
   "execution_count": null,
   "metadata": {},
   "outputs": [],
   "source": [
    "muj_druhy_txt_soubor.close()"
   ]
  },
  {
   "cell_type": "code",
   "execution_count": null,
   "metadata": {},
   "outputs": [],
   "source": [
    "muj_druhy_txt_soubor.closed"
   ]
  },
  {
   "cell_type": "markdown",
   "metadata": {},
   "source": [
    "<br>\n",
    "\n",
    "Teprve nyní je soubor uzavřený a můžeme zkontrolovat jeho obsah."
   ]
  },
  {
   "cell_type": "code",
   "execution_count": null,
   "metadata": {},
   "outputs": [],
   "source": [
    "muj_druhy_string = \"Očekávám text na druhém řádku!\""
   ]
  },
  {
   "cell_type": "code",
   "execution_count": null,
   "metadata": {},
   "outputs": [],
   "source": [
    "muj_existujici_txt = open(\n",
    "    \"../muj_zapsany.txt\",\n",
    "    mode=\"w\"\n",
    ")"
   ]
  },
  {
   "cell_type": "code",
   "execution_count": null,
   "metadata": {},
   "outputs": [],
   "source": [
    "muj_existujici_txt.write(muj_druhy_string)"
   ]
  },
  {
   "cell_type": "code",
   "execution_count": null,
   "metadata": {},
   "outputs": [],
   "source": [
    "muj_existujici_txt.close()"
   ]
  },
  {
   "cell_type": "markdown",
   "metadata": {},
   "source": [
    "Teprve po ukončení *streamu* (nebo také zápisu) objektu, můžeš soubor `muj_novy_soubor.txt` prozkoumat."
   ]
  },
  {
   "cell_type": "code",
   "execution_count": null,
   "metadata": {},
   "outputs": [],
   "source": [
    "muj_existujici_txt = open(\n",
    "    \"../muj_zapsany.txt\",\n",
    "    mode=\"w\"\n",
    ")"
   ]
  },
  {
   "cell_type": "code",
   "execution_count": null,
   "metadata": {},
   "outputs": [],
   "source": [
    "muj_string  # \\n"
   ]
  },
  {
   "cell_type": "code",
   "execution_count": null,
   "metadata": {},
   "outputs": [],
   "source": [
    "muj_druhy_string"
   ]
  },
  {
   "cell_type": "code",
   "execution_count": null,
   "metadata": {},
   "outputs": [],
   "source": [
    "muj_existujici_txt.write(muj_string)\n",
    "muj_existujici_txt.write(muj_druhy_string)"
   ]
  },
  {
   "cell_type": "code",
   "execution_count": null,
   "metadata": {},
   "outputs": [],
   "source": [
    "muj_existujici_txt.close()"
   ]
  },
  {
   "cell_type": "code",
   "execution_count": null,
   "metadata": {},
   "outputs": [],
   "source": [
    "muj_existujici_txt_list = open(\n",
    "    \"../muj_zapsany.txt\",\n",
    "    mode=\"w\"\n",
    ")"
   ]
  },
  {
   "cell_type": "code",
   "execution_count": null,
   "metadata": {},
   "outputs": [],
   "source": [
    "# Zapíšu několik řádků současně, pomocí sekvence\n",
    "muj_existujici_txt_list.writelines((muj_string, f'\\n{muj_druhy_string}'))"
   ]
  },
  {
   "cell_type": "code",
   "execution_count": null,
   "metadata": {},
   "outputs": [],
   "source": [
    "# TOTO NE!\n",
    "# for line in (muj_string, f'\\n{muj_druhy_string}'):\n",
    "#     muj_existujici_txt_list.write(line)"
   ]
  },
  {
   "cell_type": "code",
   "execution_count": null,
   "metadata": {},
   "outputs": [],
   "source": [
    "muj_existujici_txt_list.close()"
   ]
  },
  {
   "cell_type": "markdown",
   "metadata": {},
   "source": [
    "<br>\n",
    "\n",
    "### 🧠 CVIČENÍ 🧠, Vyzkoušej si práci s *textovým souborem*:"
   ]
  },
  {
   "cell_type": "markdown",
   "metadata": {},
   "source": [
    "1. Funkce `zapis_zpravu_do_txt_souboru` přijímá dva parametry `zprava` a `jmeno_souboru`,\n",
    "2. Funkce otevře nový soubor, zapíše zprávu a spojení se souborem ukončí,\n",
    "3. Vyzkoušej funkci spustit pro dva různé textové soubory."
   ]
  },
  {
   "cell_type": "code",
   "execution_count": null,
   "metadata": {},
   "outputs": [],
   "source": []
  },
  {
   "cell_type": "code",
   "execution_count": null,
   "metadata": {},
   "outputs": [],
   "source": [
    "zapis_zpravu_do_txt_souboru(\n",
    "    zprava=\"Ahojte, toto je testovací zpráva!\",\n",
    "    jmeno_souboru='test_soubor.txt'\n",
    ")"
   ]
  },
  {
   "cell_type": "markdown",
   "metadata": {},
   "source": [
    "<details>\n",
    "  <summary>▶️ Klikni zde pro zobrazení řešení</summary>\n",
    "   \n",
    "```python\n",
    "def zapis_zpravu_do_txt_souboru(zprava: str, jmeno_souboru: str) -> None:\n",
    "    muj_soubor = open(jmeno_souboru, mode='w')\n",
    "    muj_soubor.write(zprava)\n",
    "    muj_soubor.close()\n",
    "\n",
    "zapis_zpravu_do_txt_souboru(\"Ahojte, toto je testovací zpráva!\", 'test_soubor.txt')\n",
    "```\n",
    "</details>"
   ]
  },
  {
   "cell_type": "markdown",
   "metadata": {},
   "source": [
    "<br>\n",
    "\n",
    "### Opakovaný zápis do souboru\n",
    "\n",
    "---\n",
    "\n",
    "Máš situaci, kdy tebou vytvořený soubor existuje a ty jej chceš znovu otevřít a rozšířit:"
   ]
  },
  {
   "cell_type": "code",
   "execution_count": null,
   "metadata": {},
   "outputs": [],
   "source": [
    "dalsi_string = \"\\nRád čtu a hraji na klavír\""
   ]
  },
  {
   "cell_type": "markdown",
   "metadata": {},
   "source": [
    "<br>\n",
    "\n",
    "Opět potřebuješ inicializovat **pomocný objekt**, jako v předchozích scénářích:"
   ]
  },
  {
   "cell_type": "code",
   "execution_count": null,
   "metadata": {},
   "outputs": [],
   "source": [
    "muj_stavajici_soubor = open(\n",
    "    \"../muj_zapsany.txt\",\n",
    "    mode=\"w\"\n",
    ")"
   ]
  },
  {
   "cell_type": "code",
   "execution_count": null,
   "metadata": {},
   "outputs": [],
   "source": [
    "muj_stavajici_soubor.write(dalsi_string)"
   ]
  },
  {
   "cell_type": "code",
   "execution_count": null,
   "metadata": {},
   "outputs": [],
   "source": [
    "muj_stavajici_soubor.close()"
   ]
  },
  {
   "cell_type": "markdown",
   "metadata": {},
   "source": [
    "Když zkontroluješ, jak vypadá **nově přidaný text**, bude vypadat zmateně.\n",
    "\n",
    "<br>\n",
    "\n",
    "Pokud opětovně načteš **stejný soubor** v režimu `w`, přesuneš \"zapisovač\" (*představ si jej jako blikající kurzor v editoru*) opět **na začátek souboru**.\n",
    "\n",
    "*Interpret* zapisuje od místa, kde se zapisovač nachází, takže dojde **k přepsání původního obsahu**.\n",
    "\n",
    "<br>\n",
    "\n",
    "Pokud chceš automaticky zapisovat **od konce souboru**, otevři soubor s argumentem `mode=\"a\"`, tedy v režimu `append`."
   ]
  },
  {
   "cell_type": "code",
   "execution_count": null,
   "metadata": {},
   "outputs": [],
   "source": [
    "prvni_radek = \"Ahoj, ja jsem Matouš (:\""
   ]
  },
  {
   "cell_type": "code",
   "execution_count": null,
   "metadata": {},
   "outputs": [],
   "source": [
    "druhy_radek = \"\\nToto je druhý řádek!\""
   ]
  },
  {
   "cell_type": "code",
   "execution_count": null,
   "metadata": {},
   "outputs": [],
   "source": [
    "treti_radek = \"\\nRád čtu, hraji na klavír\""
   ]
  },
  {
   "cell_type": "markdown",
   "metadata": {},
   "source": [
    "<br>\n",
    "\n",
    "V kombinaci s novým režimem **append**:"
   ]
  },
  {
   "cell_type": "code",
   "execution_count": null,
   "metadata": {},
   "outputs": [],
   "source": [
    "muj_soubor = open(\"../muj_zapsany.txt\", mode=\"a\")"
   ]
  },
  {
   "cell_type": "code",
   "execution_count": null,
   "metadata": {},
   "outputs": [],
   "source": [
    "muj_soubor.write(prvni_radek)"
   ]
  },
  {
   "cell_type": "code",
   "execution_count": null,
   "metadata": {},
   "outputs": [],
   "source": [
    "muj_soubor.close()"
   ]
  },
  {
   "cell_type": "code",
   "execution_count": null,
   "metadata": {},
   "outputs": [],
   "source": [
    "muj_soubor = open(\"../muj_zapsany.txt\", mode=\"a\")"
   ]
  },
  {
   "cell_type": "code",
   "execution_count": null,
   "metadata": {},
   "outputs": [],
   "source": [
    "muj_soubor.write(druhy_radek)"
   ]
  },
  {
   "cell_type": "code",
   "execution_count": null,
   "metadata": {},
   "outputs": [],
   "source": [
    "muj_soubor.close()"
   ]
  },
  {
   "cell_type": "code",
   "execution_count": null,
   "metadata": {},
   "outputs": [],
   "source": [
    "muj_soubor = open(\"../muj_zapsany.txt\", mode=\"r+\")"
   ]
  },
  {
   "cell_type": "code",
   "execution_count": null,
   "metadata": {},
   "outputs": [],
   "source": [
    "muj_soubor.write(treti_radek)"
   ]
  },
  {
   "cell_type": "code",
   "execution_count": null,
   "metadata": {},
   "outputs": [],
   "source": [
    "muj_soubor.close()"
   ]
  },
  {
   "cell_type": "markdown",
   "metadata": {},
   "source": [
    "<br>\n",
    "\n",
    "Pokud budeš někdy pracovat se stejným souborem tak, že jej budeš současně:\n",
    "1. **číst** soubor,\n",
    "2. **zapisovat** do něj.\n",
    "    \n",
    "Vyzkoušej režim `r+`."
   ]
  },
  {
   "cell_type": "code",
   "execution_count": null,
   "metadata": {},
   "outputs": [],
   "source": [
    "muj_soubor = open(\"../muj_zapsany.txt\", mode=\"r+\")"
   ]
  },
  {
   "cell_type": "code",
   "execution_count": null,
   "metadata": {},
   "outputs": [],
   "source": [
    "obsah_pred_zapisem = muj_soubor.readlines()"
   ]
  },
  {
   "cell_type": "code",
   "execution_count": null,
   "metadata": {},
   "outputs": [],
   "source": [
    "print(obsah_pred_zapisem)"
   ]
  },
  {
   "cell_type": "code",
   "execution_count": null,
   "metadata": {},
   "outputs": [],
   "source": [
    "muj_soubor.tell()"
   ]
  },
  {
   "cell_type": "code",
   "execution_count": null,
   "metadata": {},
   "outputs": [],
   "source": [
    "muj_soubor.write('\\nA ještě poslední řádek')"
   ]
  },
  {
   "cell_type": "code",
   "execution_count": null,
   "metadata": {},
   "outputs": [],
   "source": [
    "muj_soubor.close()"
   ]
  },
  {
   "cell_type": "markdown",
   "metadata": {},
   "source": [
    "### Práce s binárními soubory\n",
    "\n",
    "Pokud chceme pracovat s binárními soubory, tak musíme použít `mode=rb` pro čtení nebo `mode=wb` pro zápis.\n",
    "\n",
    "V binárním módu můžeme číst a zapisovat i textové soubory."
   ]
  },
  {
   "cell_type": "code",
   "execution_count": 16,
   "metadata": {},
   "outputs": [],
   "source": [
    "demo_binarne = open(\"demo.txt\", mode=\"rb\")"
   ]
  },
  {
   "cell_type": "code",
   "execution_count": 17,
   "metadata": {},
   "outputs": [
    {
     "name": "stdout",
     "output_type": "stream",
     "text": [
      "<class '_io.BufferedReader'>\n"
     ]
    }
   ],
   "source": [
    "print(type(demo_binarne))"
   ]
  },
  {
   "cell_type": "code",
   "execution_count": 18,
   "metadata": {},
   "outputs": [
    {
     "name": "stdout",
     "output_type": "stream",
     "text": [
      "[b'Ahoj, sv\\xc4\\x9bte!\\n', b'Toto je uk\\xc3\\xa1zkov\\xc3\\xbd textov\\xc3\\xbd soubor.\\n']\n"
     ]
    }
   ],
   "source": [
    "print(demo_binarne.readlines())"
   ]
  },
  {
   "cell_type": "markdown",
   "metadata": {},
   "source": [
    "Číst text je nuda. Zkusme to s obrázkem.\n",
    "\n",
    "<figure>\n",
    "<img src=\"./Jack_Russell_Terrier_1.jpg\" style=\"max-width: 200px\">\n",
    "<figcaption style=\"font-size:10px\">CC BY 3.0 https://commons.wikimedia.org/wiki/File:Jack_Russell_Terrier_1.jpg</figcaption>\n",
    "<figure>"
   ]
  },
  {
   "cell_type": "code",
   "execution_count": 19,
   "metadata": {},
   "outputs": [
    {
     "name": "stdout",
     "output_type": "stream",
     "text": [
      "b'\\xff'\n",
      "b'\\xd8\\xff\\xe0'\n",
      "b'\\x00\\x10'\n",
      "b'J'\n",
      "b'F'\n"
     ]
    }
   ],
   "source": [
    "binary_dog = open('Jack_Russell_Terrier_1.jpg', 'rb')\n",
    "print(binary_dog.read(1))\n",
    "print(binary_dog.read(3))\n",
    "print(binary_dog.read(2))\n",
    "print(binary_dog.read(1))\n",
    "print(binary_dog.read(1))\n"
   ]
  },
  {
   "cell_type": "code",
   "execution_count": 20,
   "metadata": {},
   "outputs": [
    {
     "name": "stdout",
     "output_type": "stream",
     "text": [
      "b'\\xff\\xd8\\xff\\xe0\\x00\\x10JFIF\\x00\\x01\\x02\\x01\\x01\\n'\n"
     ]
    }
   ],
   "source": [
    "binary_dog.seek(0)\n",
    "print(binary_dog.readline())\n",
    "binary_dog.close()"
   ]
  },
  {
   "cell_type": "markdown",
   "metadata": {},
   "source": [
    "| Hodnota         | Význam                                                    |\n",
    "|-----------------|-----------------------------------------------------------|\n",
    "| 0x89            | „Magické“ číslo označující začátek PNG                    |\n",
    "| 0x50 0x4E 0x47  | PNG v ASCII                                               |\n",
    "| 0x0D 0x0A       | Konec řádku ve stylu DOS (`\\r\\n`)                         |\n",
    "| 0x1A            | Znak konce souboru (EOF) ve stylu DOS                     |\n",
    "| 0x0A            | Konec řádku ve stylu Unix (`\\n`)                          |"
   ]
  },
  {
   "cell_type": "markdown",
   "metadata": {},
   "source": [
    "<hr>\n",
    "<br>\n",
    "\n",
    "<img src=\"https://external-content.duckduckgo.com/iu/?u=https%3A%2F%2Ftse1.mm.bing.net%2Fth%3Fid%3DOIP.eUy0yqtKrsDHeiUI1dWKggHaHa%26pid%3DApi&f=1&ipt=69ae33045a754823160a963754bc498c4c560ed92d3f57186fdc778816155ef9&ipo=images\" width=\"200\" style=\"margin-left:auto; margin-right:auto\">"
   ]
  },
  {
   "cell_type": "markdown",
   "metadata": {},
   "source": [
    "### Zápis s kontextovým manažerem\n",
    "\n",
    "Zápis můžeš doplnit/rozšířit tzv. *kontextovým manažerem*."
   ]
  },
  {
   "cell_type": "code",
   "execution_count": null,
   "metadata": {},
   "outputs": [],
   "source": [
    "muj_soubor = open(\"demo.txt\", mode=\"r\")  # open\n",
    "print(muj_soubor.readlines())            # process\n",
    "\n",
    "# Nastane chyba! IndexError --> Vadí!\n",
    "\n",
    "muj_soubor.close()                       # close"
   ]
  },
  {
   "cell_type": "markdown",
   "metadata": {},
   "source": [
    "<br>\n",
    "\n",
    "Opakování a hlídání 3 základních kroků se může zdát svazující.\n",
    "\n",
    "V Pythonu existuje klíčový výraz `with`:"
   ]
  },
  {
   "cell_type": "code",
   "execution_count": null,
   "metadata": {},
   "outputs": [],
   "source": [
    "with open(\"demo.txt\", mode=\"r\") as muj_soubor:  # open\n",
    "    print(muj_soubor.readlines())               # process + close\n",
    "\n",
    "print()"
   ]
  },
  {
   "cell_type": "code",
   "execution_count": null,
   "metadata": {},
   "outputs": [],
   "source": [
    "muj_soubor.closed"
   ]
  },
  {
   "cell_type": "markdown",
   "metadata": {},
   "source": [
    "**Alternativní zápis s blokem `try` a `finally`**"
   ]
  },
  {
   "cell_type": "code",
   "execution_count": null,
   "metadata": {},
   "outputs": [],
   "source": [
    "muj_soubor = open(\"demo.txt\", mode=\"r\") \n",
    "try: \n",
    "      print(muj_soubor.readlines())  \n",
    "finally:\n",
    "     muj_soubor.close()        \n",
    "\n",
    "\n",
    "print(muj_soubor.closed)                       # close"
   ]
  },
  {
   "cell_type": "markdown",
   "metadata": {},
   "source": [
    "<br>\n",
    "\n",
    "### 🧠 CVIČENÍ 2 🧠, práce s textovými souborem:\n",
    "---"
   ]
  },
  {
   "cell_type": "markdown",
   "metadata": {},
   "source": [
    "- Definuj funkci `precti_logy`, která splňuje:\n",
    "    - parametr: `soubor` (string),\n",
    "    - vrací: seznam záznamů z logovacího souboru,\n",
    "    - popis: Tato funkce přečte obsah logovacích souboru. Kde každý řádek bude oddělený údaj sekvence.\n",
    "\n",
    "- definuj funkci `vyber_pouze_typ`, která splňuje:\n",
    "    - parametr: `obsah_souboru` (list),\n",
    "    - vrací: tuple,\n",
    "    - popis: Tato funkce ze zadaného seznamu logů rozdělí každý řádek a uloží pouze typ logovací zprávy (`INFO`, `WARN`, ...). Výsledný údaj vrať jako `tuple`."
   ]
  },
  {
   "cell_type": "code",
   "execution_count": null,
   "metadata": {},
   "outputs": [],
   "source": [
    "zaznamy = \"\"\"\\\n",
    "INFO 2023-07-26 10:30:22 Aplikace úspěšně spuštěna\n",
    "INFO 2023-07-26 10:31:12 Uživatel přihlášen\n",
    "WARN 2023-07-26 10:35:05 Nedostatek místa na disku\n",
    "INFO 2023-07-26 10:36:17 Data úspěšně uložena\n",
    "ERROR 2023-07-26 10:40:44 Připojení k databázi selhalo\n",
    "WARN 2023-07-26 10:45:30 Možná chyba v konfiguraci\n",
    "ERROR 2023-07-26 10:50:01 Nelze odeslat e-mail\n",
    "INFO 2023-07-26 10:55:12 Aplikace úspěšně ukončena\n",
    "\"\"\""
   ]
  },
  {
   "cell_type": "markdown",
   "metadata": {},
   "source": [
    "<details>\n",
    "    <summary>▶️ Řešení</summary>\n",
    "    \n",
    "```python\n",
    "def precti_logy(soubor: str) -> list:\n",
    "    muj_soubor = open(soubor, mode='w')\n",
    "    obsah_souboru = muj_soubor.readlines()\n",
    "    return obsah_souboru\n",
    "    \n",
    "\n",
    "def vyber_pouze_typ(obsah_souboru: list) -> tuple:\n",
    "    return tuple(\n",
    "        [log.split()[0] for log in obsah_souboru if len(log) > 3]\n",
    "    )\n",
    "```\n",
    "</details>"
   ]
  },
  {
   "cell_type": "markdown",
   "metadata": {},
   "source": [
    "## Práce se soubory a složkami"
   ]
  },
  {
   "cell_type": "markdown",
   "metadata": {},
   "source": [
    "Rozepíšu jednotlivé případy užití s příklady kódu pomocí knihovny `pathlib`:\n",
    "\n",
    "### 1. Manipulace se složkami\n",
    "\n",
    "\n",
    "- **Vytváření složky**\n",
    " "
   ]
  },
  {
   "cell_type": "code",
   "execution_count": 22,
   "metadata": {},
   "outputs": [],
   "source": [
    "from pathlib import Path\n",
    "\n",
    "# Vytvoření nové složky\n",
    "folder = Path(\"new_directory\")\n",
    "folder.mkdir(parents=True, exist_ok=True)"
   ]
  },
  {
   "cell_type": "markdown",
   "metadata": {},
   "source": [
    "- **Přejmenování složky**"
   ]
  },
  {
   "cell_type": "code",
   "execution_count": 23,
   "metadata": {},
   "outputs": [],
   "source": [
    "new_folder = folder.rename(\"renamed_directory\")"
   ]
  },
  {
   "cell_type": "markdown",
   "metadata": {},
   "source": [
    "- **Mazání složky**"
   ]
  },
  {
   "cell_type": "code",
   "execution_count": 25,
   "metadata": {},
   "outputs": [],
   "source": [
    "\n",
    "new_folder.rmdir()  # Smaže složku, pokud je prázdná"
   ]
  },
  {
   "cell_type": "markdown",
   "metadata": {},
   "source": [
    "### 2. Kopírování, přesouvání a mazání souborů\n",
    "\n",
    "Tyto operace jsou klíčové při práci s různými verzemi dat nebo zálohami.\n",
    "\n",
    "- **Kopírování souborů**\n",
    "  \n",
    "   `pathlib` nemá přímou podporu pro kopírování, proto použijeme `shutil`."
   ]
  },
  {
   "cell_type": "code",
   "execution_count": 40,
   "metadata": {},
   "outputs": [
    {
     "data": {
      "text/plain": [
       "4"
      ]
     },
     "execution_count": 40,
     "metadata": {},
     "output_type": "execute_result"
    }
   ],
   "source": [
    "zdroj = Path(\"zdrojovy_soubor.txt\")\n",
    "zdroj.write_text(\"Ahoj\")"
   ]
  },
  {
   "cell_type": "code",
   "execution_count": 41,
   "metadata": {},
   "outputs": [
    {
     "data": {
      "text/plain": [
       "'destinace/zdrojovy_soubor.txt'"
      ]
     },
     "execution_count": 41,
     "metadata": {},
     "output_type": "execute_result"
    }
   ],
   "source": [
    "import shutil\n",
    "\n",
    "cilova_slozka = Path(\"destinace\")\n",
    "cilova_slozka.mkdir(parents=True, exist_ok=True)\n",
    "shutil.copy(zdroj, cilova_slozka)  # Kopíruje soubor na novou cestu"
   ]
  },
  {
   "cell_type": "markdown",
   "metadata": {},
   "source": [
    "- **Přesouvání souborů**"
   ]
  },
  {
   "cell_type": "code",
   "execution_count": 44,
   "metadata": {},
   "outputs": [
    {
     "data": {
      "text/plain": [
       "PosixPath('destinace/kopie.txt')"
      ]
     },
     "execution_count": 44,
     "metadata": {},
     "output_type": "execute_result"
    }
   ],
   "source": [
    "Path(cilova_slozka / zdroj.name).rename(cilova_slozka / \"kopie.txt\")  # Přesune soubor na novou cestu"
   ]
  },
  {
   "cell_type": "markdown",
   "metadata": {},
   "source": [
    "- **Mazání souborů**\n",
    "  "
   ]
  },
  {
   "cell_type": "code",
   "execution_count": 45,
   "metadata": {},
   "outputs": [],
   "source": [
    "kopie = cilova_slozka / \"kopie.txt\"\n",
    "if kopie.exists():\n",
    "    kopie.unlink()  # Smaže soubor\n"
   ]
  },
  {
   "cell_type": "code",
   "execution_count": 46,
   "metadata": {},
   "outputs": [],
   "source": [
    "cilova_slozka.rmdir()"
   ]
  },
  {
   "cell_type": "markdown",
   "metadata": {},
   "source": [
    "### 3. Hledání souborů podle vzorů\n",
    "\n",
    "Vyhledání souborů podle specifických vzorů (např. všech `.txt` souborů) se často hodí při zpracování souborů stejného typu.\n",
    "\n",
    "- **Vyhledání všech `.txt` souborů ve složce**"
   ]
  },
  {
   "cell_type": "code",
   "execution_count": 48,
   "metadata": {},
   "outputs": [
    {
     "name": "stdout",
     "output_type": "stream",
     "text": [
      "[PosixPath('demo.txt'), PosixPath('zdrojovy_soubor.txt')]\n"
     ]
    }
   ],
   "source": [
    "folder = Path(\".\")\n",
    "txt_files = list(folder.glob(\"*.txt\"))  # Vrátí seznam všech .txt souborů v adresáři\n",
    "print(txt_files)"
   ]
  },
  {
   "cell_type": "markdown",
   "metadata": {},
   "source": [
    "- **Rekurzivní hledání všech `.txt` souborů ve složce a podadresářích**"
   ]
  },
  {
   "cell_type": "code",
   "execution_count": 49,
   "metadata": {},
   "outputs": [
    {
     "name": "stdout",
     "output_type": "stream",
     "text": [
      "[PosixPath('demo.txt'), PosixPath('zdrojovy_soubor.txt'), PosixPath('task/input/vstupni_data.txt'), PosixPath('task/output/output_0.txt')]\n"
     ]
    }
   ],
   "source": [
    "txt_files_recursive = list(folder.rglob(\"*.txt\"))\n",
    "print(txt_files_recursive)"
   ]
  },
  {
   "cell_type": "markdown",
   "metadata": {},
   "source": [
    "### 4. Kontrola existence a typu souboru nebo složky\n",
    "\n",
    "Před čtením nebo zápisem je užitečné zkontrolovat, zda soubor existuje a jestli je to soubor nebo složka.\n",
    "\n",
    "- **Kontrola existence**"
   ]
  },
  {
   "cell_type": "code",
   "execution_count": 50,
   "metadata": {},
   "outputs": [
    {
     "name": "stdout",
     "output_type": "stream",
     "text": [
      "Soubor existuje\n"
     ]
    }
   ],
   "source": [
    "file = Path(\"demo.txt\")\n",
    "if file.exists():\n",
    "    print(\"Soubor existuje\")\n"
   ]
  },
  {
   "cell_type": "markdown",
   "metadata": {},
   "source": [
    "- **Kontrola, zda jde o soubor nebo složku**"
   ]
  },
  {
   "cell_type": "code",
   "execution_count": 51,
   "metadata": {},
   "outputs": [
    {
     "name": "stdout",
     "output_type": "stream",
     "text": [
      "Jedná se o soubor\n"
     ]
    }
   ],
   "source": [
    "if file.is_file():\n",
    "    print(\"Jedná se o soubor\")\n",
    "elif file.is_dir():\n",
    "    print(\"Jedná se o složku\")"
   ]
  },
  {
   "cell_type": "markdown",
   "metadata": {},
   "source": [
    "### 5. Získávání informací o souborech\n",
    "\n",
    "Metadata souborů, jako je velikost, datum vytvoření nebo modifikace, mohou být užitečné pro správu dat.\n",
    "\n",
    "- **Velikost souboru**"
   ]
  },
  {
   "cell_type": "code",
   "execution_count": 52,
   "metadata": {},
   "outputs": [
    {
     "name": "stdout",
     "output_type": "stream",
     "text": [
      "Velikost souboru: 50 bajtů\n"
     ]
    }
   ],
   "source": [
    "size = file.stat().st_size  # Velikost v bytech\n",
    "print(f\"Velikost souboru: {size} bajtů\")"
   ]
  },
  {
   "cell_type": "markdown",
   "metadata": {},
   "source": [
    "- **Datum modifikace**"
   ]
  },
  {
   "cell_type": "code",
   "execution_count": 58,
   "metadata": {},
   "outputs": [
    {
     "name": "stdout",
     "output_type": "stream",
     "text": [
      "Datum modifikace: čtvrtek, 7. listopad 2024\n"
     ]
    }
   ],
   "source": [
    "import arrow # better datetime\n",
    "\n",
    "modification_time = arrow.get(file.stat().st_mtime)\n",
    "print(f\"Datum modifikace: {modification_time.format(\"dddd, D. MMMM YYYY\", locale=\"cs\")}\")\n"
   ]
  },
  {
   "cell_type": "markdown",
   "metadata": {},
   "source": [
    "### 7. Práce s cestami a formátování cest\n",
    "\n",
    "Práce s cestami zahrnuje vytváření, úpravy a analýzu cest k souborům a složkám, což je zásadní pro zajištění přenositelnosti a robustnosti kódu.\n",
    "\n",
    "- **Spojování cest**  \n",
    "  `pathlib` umožňuje snadno kombinovat cesty pomocí `/` operátoru, což dělá kód čitelnější a zabraňuje chybám při vytváření cest.\n",
    "  "
   ]
  },
  {
   "cell_type": "code",
   "execution_count": 67,
   "metadata": {},
   "outputs": [
    {
     "name": "stdout",
     "output_type": "stream",
     "text": [
      "task/sub_directory/file.txt\n"
     ]
    }
   ],
   "source": [
    "base_dir = Path(\"task\")\n",
    "sub_dir = base_dir / \"sub_directory\"\n",
    "file_path = sub_dir / \"file.txt\"\n",
    "print(file_path)  # Výstup: base_directory/sub_directory/file.txt\n"
   ]
  },
  {
   "cell_type": "markdown",
   "metadata": {},
   "source": [
    "- **Získání absolutní cesty**\n",
    "  Použití `.resolve()` vám umožní získat absolutní cestu k souboru nebo složce, což může být užitečné při práci s různými adresáři."
   ]
  },
  {
   "cell_type": "code",
   "execution_count": 61,
   "metadata": {},
   "outputs": [
    {
     "name": "stdout",
     "output_type": "stream",
     "text": [
      "Absolutní cesta: /mnt/Data/Drive/Projekty/Pracovní/Engeto/Materiály/Python/Engeto-python-academy-dan/Lekce 09/new_directory/sub_directory/file.txt\n"
     ]
    }
   ],
   "source": [
    "absolute_path = file_path.resolve()\n",
    "print(f\"Absolutní cesta: {absolute_path}\")"
   ]
  },
  {
   "cell_type": "markdown",
   "metadata": {},
   "source": [
    "- **Rodičovské složky**  \n",
    "  Pomocí `.parent` můžeme přistupovat k rodičovské složce souboru nebo složky, a `.parents` poskytuje přístup k vyšším úrovním v cestě."
   ]
  },
  {
   "cell_type": "code",
   "execution_count": 62,
   "metadata": {},
   "outputs": [
    {
     "name": "stdout",
     "output_type": "stream",
     "text": [
      "new_directory/sub_directory\n",
      "new_directory/sub_directory\n",
      "new_directory\n"
     ]
    }
   ],
   "source": [
    "print(file_path.parent)  # Vrátí jednu úroveň nad file_path\n",
    "print(file_path.parents[0])  # Taky jednu úroveň nad file_path\n",
    "print(file_path.parents[1])  # Dvě úrovně nad file_path\n"
   ]
  },
  {
   "cell_type": "markdown",
   "metadata": {},
   "source": [
    "- **Rozdělení cesty na části**  \n",
    "  Pomocí atributu `.parts` lze rozdělit cestu na jednotlivé části, což se hodí při analýze cesty."
   ]
  },
  {
   "cell_type": "code",
   "execution_count": 63,
   "metadata": {},
   "outputs": [
    {
     "name": "stdout",
     "output_type": "stream",
     "text": [
      "('new_directory', 'sub_directory', 'file.txt')\n"
     ]
    }
   ],
   "source": [
    "parts = file_path.parts\n",
    "print(parts)  # Výstup: ('base_directory', 'sub_directory', 'file.txt')"
   ]
  },
  {
   "cell_type": "markdown",
   "metadata": {},
   "source": [
    "- **Název souboru a přípona**  \n",
    "  Cesta může být rozdělena na samotný název souboru a jeho příponu. To se hodí při kontrole typu souboru nebo přejmenování."
   ]
  },
  {
   "cell_type": "code",
   "execution_count": 64,
   "metadata": {},
   "outputs": [
    {
     "name": "stdout",
     "output_type": "stream",
     "text": [
      "file.txt\n",
      "file\n",
      ".txt\n"
     ]
    }
   ],
   "source": [
    "print(file_path.name)     # Výstup: 'file.txt' - název souboru s příponou\n",
    "print(file_path.stem)     # Výstup: 'file' - pouze název bez přípony\n",
    "print(file_path.suffix)   # Výstup: '.txt' - pouze přípona souboru\n"
   ]
  },
  {
   "cell_type": "markdown",
   "metadata": {},
   "source": [
    "- **Změna přípony souboru**  \n",
    "  `with_suffix()` umožňuje změnit příponu, což je užitečné, pokud pracujeme s různými formáty dat nebo potřebujeme ukládat kopie v jiném formátu."
   ]
  },
  {
   "cell_type": "code",
   "execution_count": 65,
   "metadata": {},
   "outputs": [
    {
     "name": "stdout",
     "output_type": "stream",
     "text": [
      "new_directory/sub_directory/file.md\n"
     ]
    }
   ],
   "source": [
    "new_file_path = file_path.with_suffix(\".md\")\n",
    "print(new_file_path)  # Výstup: base_directory/sub_directory/file.md\n"
   ]
  },
  {
   "cell_type": "markdown",
   "metadata": {},
   "source": [
    "- **Kontrola, zda je cesta absolutní nebo relativní**  \n",
    "  Cesty mohou být buď absolutní (od kořene souborového systému) nebo relativní (od aktuálního pracovního adresáře). `pathlib` umožňuje snadno zjistit, zda je cesta absolutní.\n",
    "  "
   ]
  },
  {
   "cell_type": "code",
   "execution_count": 66,
   "metadata": {},
   "outputs": [
    {
     "name": "stdout",
     "output_type": "stream",
     "text": [
      "False\n",
      "True\n"
     ]
    }
   ],
   "source": [
    "print(file_path.is_absolute())  # Výstup: False, protože je relativní\n",
    "print(file_path.resolve().is_absolute())  # Výstup: True\n"
   ]
  },
  {
   "cell_type": "markdown",
   "metadata": {},
   "source": [
    "- **Iterace přes podadresáře a soubory**  \n",
    "  Metoda `.iterdir()` umožňuje procházet adresář a získat všechny položky v něm."
   ]
  },
  {
   "cell_type": "code",
   "execution_count": 68,
   "metadata": {},
   "outputs": [
    {
     "name": "stdout",
     "output_type": "stream",
     "text": [
      "task/implementace.py\n",
      "task/implementace2.py\n",
      "task/input\n",
      "task/output\n",
      "task/vzor.py\n",
      "task/__pycache__\n"
     ]
    }
   ],
   "source": [
    "for item in base_dir.iterdir():\n",
    "    print(item)  # Vypíše všechny soubory a složky v base_directory\n"
   ]
  },
  {
   "cell_type": "markdown",
   "metadata": {},
   "source": [
    "- **Normalizace cesty**  \n",
    "  `pathlib` automaticky normalizuje cesty odstraněním nadbytečných lomítek a řešením zkratek jako `.` a `..`."
   ]
  },
  {
   "cell_type": "code",
   "execution_count": 69,
   "metadata": {},
   "outputs": [
    {
     "name": "stdout",
     "output_type": "stream",
     "text": [
      "/mnt/Data/Drive/Projekty/Pracovní/Engeto/Materiály/Python/Engeto-python-academy-dan/Lekce 09/some_dir/file.txt\n"
     ]
    }
   ],
   "source": [
    "normalized_path = Path(\"some_dir/../some_dir/file.txt\").resolve()\n",
    "print(normalized_path)  # Výstup: absolutní cesta k 'some_dir/file.txt'"
   ]
  },
  {
   "cell_type": "markdown",
   "metadata": {},
   "source": [
    "- **Kombinace s relativní cestou**  \n",
    "  Můžeme kombinovat cesty pomocí `.relative_to()`, což nám umožňuje získat relativní cestu k určitému základnímu adresáři."
   ]
  },
  {
   "cell_type": "code",
   "execution_count": 70,
   "metadata": {},
   "outputs": [
    {
     "name": "stdout",
     "output_type": "stream",
     "text": [
      "sub_directory/file.txt\n"
     ]
    }
   ],
   "source": [
    "relative_path = file_path.relative_to(base_dir)\n",
    "print(relative_path)  # Výstup: sub_directory/file.txt\n"
   ]
  },
  {
   "cell_type": "markdown",
   "metadata": {},
   "source": [
    "<br>\n",
    "\n",
    "<img src=\"https://external-content.duckduckgo.com/iu/?u=https%3A%2F%2Ftse1.mm.bing.net%2Fth%3Fid%3DOIP.eIepNW0QqoKS0nHKxdHb_gHaHa%26pid%3DApi&f=1&ipt=f8fbd56c24a7f9c26b35553a95d220e93ce3bdce6bce019cdf455c712cd8e1b5&ipo=images\" width=\"200\" style=\"margin-left:auto; margin-right:auto\">"
   ]
  },
  {
   "cell_type": "markdown",
   "metadata": {},
   "source": [
    "## Formátování řetězců (~string formatting)\n",
    "\n",
    "---\n",
    "\n",
    "Jde o způsob, jakým efektivně zapisovat klasický string ve spojením se jmény proměnných, doplňujícím upravováním a dalšími variantami.\n",
    "\n",
    "<br>"
   ]
  },
  {
   "cell_type": "markdown",
   "metadata": {},
   "source": [
    "### Formátování řetězců\n",
    "\n",
    "---\n",
    "\n",
    "Povíme si více o těchto třech způsobech:\n",
    "1. **Formátovací výraz** (`%`-formatting)\n",
    "2. **Formátovací metoda** (`str.format()`)\n",
    "3. **Formátovaný string** (`f\"\"`)\n",
    "\n",
    "<br>"
   ]
  },
  {
   "cell_type": "markdown",
   "metadata": {},
   "source": [
    "### Formátovací výraz\n",
    "\n",
    "---\n",
    "\n",
    "Je to prapůvodní způsob formátování stringu v Pythonu už od uplného začátku:"
   ]
  },
  {
   "cell_type": "code",
   "execution_count": null,
   "metadata": {},
   "outputs": [],
   "source": [
    "JMENO = \"Lukas\"\n",
    "VEK = 27\n",
    "\"Ahoj, jmenuji se %s a je mi %d let\" % (JMENO, VEK)"
   ]
  },
  {
   "cell_type": "markdown",
   "metadata": {},
   "source": [
    "<br>\n",
    "\n",
    "**Pozor!** dnes se již oficiálně nedoporučuje, jelikož často selhává, nesprávně zobrazuje tuple nebo slovníky. Vypisování není příliš praktické.\n",
    "\n",
    "<br>\n",
    "\n",
    "### Formátovací metoda\n",
    "\n",
    "---\n",
    "\n",
    "Od verze Pythonu 2.6 máme k dispozici další způsob pro formátování:"
   ]
  },
  {
   "cell_type": "code",
   "execution_count": null,
   "metadata": {},
   "outputs": [],
   "source": [
    "JMENO = \"Eliška\"\n",
    "VEK = 26\n",
    "\"Ahoj, jmenuji se {} a je mi {} let\".format(JMENO, VEK)"
   ]
  },
  {
   "cell_type": "code",
   "execution_count": null,
   "metadata": {},
   "outputs": [],
   "source": [
    "JMENO = \"Eliška\"\n",
    "VEK = 26\n",
    "\"Ahoj, jmenuji se {} a je mi {} let\".format(VEK, JMENO)"
   ]
  },
  {
   "cell_type": "code",
   "execution_count": null,
   "metadata": {},
   "outputs": [],
   "source": [
    "JMENO = \"Eliška\"\n",
    "VEK = 26\n",
    "\"Ahoj, jmenuji se {1} a je mi {0} let\".format(VEK, JMENO)"
   ]
  },
  {
   "cell_type": "markdown",
   "metadata": {},
   "source": [
    "<br>\n",
    "\n",
    "**Pozor!** použití je pořád poměrně upovídaní např. při zápisu více proměnných. Má rozhodně široké možnosti formátování, ale vždy prakticky použitelné.\n",
    "\n",
    "<br>\n",
    "\n",
    "### 🔝 Formátovaný string (f-string)\n",
    "\n",
    "---\n",
    "\n",
    "Od verze Pythonu 3.6 máme k dispozici ještě třetí metodu pro formátování stringů."
   ]
  },
  {
   "cell_type": "code",
   "execution_count": null,
   "metadata": {},
   "outputs": [],
   "source": [
    "JMENO = \"Lucie\"\n",
    "VEK = 28\n",
    "f\"Ahoj, jmenuji se {JMENO} a je mi {VEK} let\""
   ]
  },
  {
   "cell_type": "markdown",
   "metadata": {},
   "source": [
    "<br>\n",
    "\n",
    "Syntaxe je stručná přesto čitelná. Zvládá různé platné operace v Pythonu včetně volání funkcí. Opatrně při důsledném zapisování uvozovek."
   ]
  },
  {
   "cell_type": "code",
   "execution_count": null,
   "metadata": {},
   "outputs": [],
   "source": [
    "f\"|{JMENO:^10}|{VEK:^10}|\""
   ]
  },
  {
   "cell_type": "markdown",
   "metadata": {},
   "source": [
    "<br>\n",
    "\n",
    "Vhodná také pro zaokrouhlování desetinných čísel a převádění číselných hodnot na procenta:"
   ]
  },
  {
   "cell_type": "code",
   "execution_count": null,
   "metadata": {},
   "outputs": [],
   "source": [
    "value = 11.1234\n",
    "print(f\"value: {value:.2f}\")"
   ]
  },
  {
   "cell_type": "code",
   "execution_count": null,
   "metadata": {},
   "outputs": [],
   "source": [
    "data = {'name': 'Matouš'}\n",
    "print(f\"Ahoj, já jsem {data[\"name\"]}\")"
   ]
  },
  {
   "cell_type": "markdown",
   "metadata": {},
   "source": [
    "<details>\n",
    "    <summary>▶️ Více metod f-strings</summary>\n",
    "    \n",
    "[https://www.remnote.com/a/f-string/672a2e78334d7d91da25dabc](https://www.remnote.com/a/f-string/672a2e78334d7d91da25dabc)\n",
    "</details>"
   ]
  },
  {
   "cell_type": "markdown",
   "metadata": {},
   "source": [
    "[Formulář po deváté lekci](https://forms.gle/Py5UjJ8573DLLdCr8)"
   ]
  },
  {
   "cell_type": "markdown",
   "metadata": {},
   "source": [
    "---"
   ]
  },
  {
   "cell_type": "markdown",
   "metadata": {},
   "source": [
    "\n",
    "<img src=\"https://external-content.duckduckgo.com/iu/?u=https%3A%2F%2Ftse1.mm.bing.net%2Fth%3Fid%3DOIP.GMJvJ-GG0YS8H5JmHR3CbwHaHm%26pid%3DApi&f=1\" width=\"200\" style=\"margin-left:auto; margin-right:auto\" />\n",
    "\n",
    "\n",
    "## Domácí úkol\n",
    "\n",
    "---"
   ]
  }
 ],
 "metadata": {
  "kernelspec": {
   "display_name": "Python 3 (ipykernel)",
   "language": "python",
   "name": "python3"
  },
  "language_info": {
   "codemirror_mode": {
    "name": "ipython",
    "version": 3
   },
   "file_extension": ".py",
   "mimetype": "text/x-python",
   "name": "python",
   "nbconvert_exporter": "python",
   "pygments_lexer": "ipython3",
   "version": "3.12.3"
  }
 },
 "nbformat": 4,
 "nbformat_minor": 4
}
