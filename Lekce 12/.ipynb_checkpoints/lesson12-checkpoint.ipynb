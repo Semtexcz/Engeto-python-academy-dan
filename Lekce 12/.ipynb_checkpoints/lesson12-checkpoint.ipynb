{
 "cells": [
  {
   "cell_type": "markdown",
   "metadata": {},
   "source": [
    "# Python akademie, pokročilí"
   ]
  },
  {
   "attachments": {},
   "cell_type": "markdown",
   "metadata": {},
   "source": [
    "<br>\n",
    "\n",
    "## Obsah\n",
    "\n",
    "---\n",
    "\n",
    "\n",
    "1. [Představení](https://www.matousholinka.com),\n",
    "1. [Úvod do problematiky](#Úvod-do-problematiky),\n",
    "2. [Nastavení prostředí](#Nastavení-prostředí),\n",
    "4. [HTML](#HTML),\n",
    "5. [Postup web scrapování](#Obecný-postup-web-scrapování),\n",
    "6. [Pokročilé scrapování](),\n",
    "7. [Domácí úloha](#Domácí-úloha).\n",
    "\n",
    "---"
   ]
  },
  {
   "cell_type": "markdown",
   "metadata": {},
   "source": [
    "### Nápady\n",
    "\n",
    "- Poetry (uv, pdm)\n",
    "- HTTP protokol (OSI model)\n",
    "- HTTP statusy (kočky, psi) - https://httpstatusdogs.com/\n",
    "- reklama na frontend: https://engeto.cz/webova-akademie/\n",
    "- ukázat práci s developer tools\n",
    "- zmínit SPA - nedodává HTML (Selenium, Playwright)\n",
    "- HTML - podmnožina XML\n",
    "- Vysvětlit CSS selektory"
   ]
  },
  {
   "cell_type": "markdown",
   "metadata": {},
   "source": [
    "<br>\n",
    "\n",
    "<img src=\"https://external-content.duckduckgo.com/iu/?u=https%3A%2F%2Ftse2.mm.bing.net%2Fth%3Fid%3DOIP.E7biPUYoI-y9G-YFp3eq8wHaHa%26pid%3DApi&f=1\" width=\"200\" style=\"margin-left:auto; margin-right:auto\">"
   ]
  },
  {
   "cell_type": "markdown",
   "metadata": {},
   "source": [
    "## Úvod do problematiky\n",
    "\n",
    "---\n",
    "\n",
    "<br>"
   ]
  },
  {
   "cell_type": "markdown",
   "metadata": {},
   "source": [
    "Co je *skrejpování webu*?\n",
    "\n",
    "Jde **o získávání dat**, které najdeš uložené na webu.\n",
    "\n",
    "Obecně se tento proces označuje jako *web scraping*, ale jindy jej můžeš najít označený jako *data mining*, *web harvesting* atd.\n",
    "\n",
    "<br>"
   ]
  },
  {
   "cell_type": "markdown",
   "metadata": {},
   "source": [
    "###  Proč web scraping\n",
    "\n",
    "---\n",
    "\n",
    "Jako běžný uživatel jsi zvyklý, prohlížet obsah na webu **pomocí prohlížeče**.\n",
    "\n",
    "Tento postup je velmi **pohodlný** a dovolí ti, nechat si vykreslovat různé obrázky, videa, texty, aj.\n",
    "\n",
    "Ale, pokud tě **zajímají spíše data**, kterými web disponuje a ne jejich *vyrenderovaná* (vykreslená) podoba, potom je **web scraping** přesně pro tebe:\n",
    "- umožňuje ti **rychle stahovat** zdrojová data,\n",
    "- umožňuje ti stahovat **větší množství dat** současně,\n",
    "- umožňuje ti vyhnout se **grafickému rozhraní**.\n",
    "\n",
    "<br>"
   ]
  },
  {
   "cell_type": "markdown",
   "metadata": {},
   "source": [
    "### Code sample\n",
    "\n",
    "---\n",
    "\n",
    "<a href=\"https://books.toscrape.com/catalogue/a-light-in-the-attic_1000/index.html\" target=\"_blank\">Odkaz pro demo</a>\n",
    "\n",
    "```python\n",
    "import requests\n",
    "from bs4 import BeautifulSoup\n",
    "\n",
    "url = \"...\"\n",
    "```"
   ]
  },
  {
   "cell_type": "markdown",
   "metadata": {},
   "source": [
    "Postup je relativně rychlý, opakovatelný."
   ]
  },
  {
   "cell_type": "code",
   "execution_count": 1,
   "metadata": {},
   "outputs": [
    {
     "name": "stdout",
     "output_type": "stream",
     "text": [
      "Requirement already satisfied: requests in /mnt/Data/Drive/Projekty/Pracovní/Engeto/Materiály/Python/Engeto-python-academy-dan/.venv/lib/python3.12/site-packages (2.32.3)\n",
      "Requirement already satisfied: beautifulsoup4 in /mnt/Data/Drive/Projekty/Pracovní/Engeto/Materiály/Python/Engeto-python-academy-dan/.venv/lib/python3.12/site-packages (4.12.3)\n",
      "Requirement already satisfied: charset-normalizer<4,>=2 in /mnt/Data/Drive/Projekty/Pracovní/Engeto/Materiály/Python/Engeto-python-academy-dan/.venv/lib/python3.12/site-packages (from requests) (3.4.0)\n",
      "Requirement already satisfied: idna<4,>=2.5 in /mnt/Data/Drive/Projekty/Pracovní/Engeto/Materiály/Python/Engeto-python-academy-dan/.venv/lib/python3.12/site-packages (from requests) (3.10)\n",
      "Requirement already satisfied: urllib3<3,>=1.21.1 in /mnt/Data/Drive/Projekty/Pracovní/Engeto/Materiály/Python/Engeto-python-academy-dan/.venv/lib/python3.12/site-packages (from requests) (2.2.3)\n",
      "Requirement already satisfied: certifi>=2017.4.17 in /mnt/Data/Drive/Projekty/Pracovní/Engeto/Materiály/Python/Engeto-python-academy-dan/.venv/lib/python3.12/site-packages (from requests) (2024.8.30)\n",
      "Requirement already satisfied: soupsieve>1.2 in /mnt/Data/Drive/Projekty/Pracovní/Engeto/Materiály/Python/Engeto-python-academy-dan/.venv/lib/python3.12/site-packages (from beautifulsoup4) (2.6)\n",
      "Note: you may need to restart the kernel to use updated packages.\n"
     ]
    }
   ],
   "source": [
    "%pip install requests beautifulsoup4"
   ]
  },
  {
   "cell_type": "code",
   "execution_count": 2,
   "metadata": {},
   "outputs": [],
   "source": [
    "import requests\n",
    "from bs4 import BeautifulSoup\n",
    "\n",
    "url = 'https://books.toscrape.com/catalogue/a-light-in-the-attic_1000/index.html'\n",
    "\n",
    "odpoved_serveru = requests.get(url)"
   ]
  },
  {
   "cell_type": "code",
   "execution_count": 3,
   "metadata": {},
   "outputs": [
    {
     "name": "stdout",
     "output_type": "stream",
     "text": [
      "<Response [200]>\n"
     ]
    }
   ],
   "source": [
    "print(odpoved_serveru)"
   ]
  },
  {
   "cell_type": "code",
   "execution_count": 4,
   "metadata": {},
   "outputs": [
    {
     "name": "stdout",
     "output_type": "stream",
     "text": [
      "<class 'requests.models.Response'>\n"
     ]
    }
   ],
   "source": [
    "print(type(odpoved_serveru))"
   ]
  },
  {
   "cell_type": "code",
   "execution_count": 5,
   "metadata": {},
   "outputs": [
    {
     "name": "stdout",
     "output_type": "stream",
     "text": [
      "['__attrs__', '__bool__', '__class__', '__delattr__', '__dict__', '__dir__', '__doc__', '__enter__', '__eq__', '__exit__', '__format__', '__ge__', '__getattribute__', '__getstate__', '__gt__', '__hash__', '__init__', '__init_subclass__', '__iter__', '__le__', '__lt__', '__module__', '__ne__', '__new__', '__nonzero__', '__reduce__', '__reduce_ex__', '__repr__', '__setattr__', '__setstate__', '__sizeof__', '__str__', '__subclasshook__', '__weakref__', '_content', '_content_consumed', '_next', 'apparent_encoding', 'close', 'connection', 'content', 'cookies', 'elapsed', 'encoding', 'headers', 'history', 'is_permanent_redirect', 'is_redirect', 'iter_content', 'iter_lines', 'json', 'links', 'next', 'ok', 'raise_for_status', 'raw', 'reason', 'request', 'status_code', 'text', 'url']\n"
     ]
    }
   ],
   "source": [
    "print(dir(odpoved_serveru))"
   ]
  },
  {
   "cell_type": "code",
   "execution_count": 6,
   "metadata": {},
   "outputs": [
    {
     "name": "stdout",
     "output_type": "stream",
     "text": [
      "\n",
      "\n",
      "<!DOCTYPE html>\n",
      "<!--[if lt IE 7]>      <html lang=\"en-us\" class=\"no-js lt-ie9 lt-ie8 lt-ie7\"> <![endif]-->\n",
      "<!--[if IE 7]>         <html lang=\"en-us\" class=\"no-js lt-ie9 lt-ie8\"> <![endif]-->\n",
      "<!--[if IE 8]>         <html lang=\"en-us\" class=\"no-js lt-ie9\"> <![endif]-->\n",
      "<!--[if gt IE 8]><!--> <html lang=\"en-us\" class=\"no-js\"> <!--<![endif]-->\n",
      "    <head>\n",
      "        <title>\n",
      "    A Light in the Attic | Books to Scrape - Sandbox\n",
      "</title>\n",
      "\n",
      "        <meta http-equiv=\"content-type\" content=\"text/html; charset=UTF-8\" />\n",
      "        <meta name=\"created\" content=\"24th Jun 2016 09:29\" />\n",
      "        <meta name=\"description\" content=\"\n",
      "    It&#39;s hard to imagine a world without A Light in the Attic. This now-classic collection of poetry and drawings from Shel Silverstein celebrates its 20th anniversary with this special edition. Silverstein&#39;s humorous and creative verse can amuse the dowdiest of readers. Lemon-faced adults and fidgety kids sit still and read these rhythmic words and laugh and smile and love th It&#39;s hard to imagine a world without A Light in the Attic. This now-classic collection of poetry and drawings from Shel Silverstein celebrates its 20th anniversary with this special edition. Silverstein&#39;s humorous and creative verse can amuse the dowdiest of readers. Lemon-faced adults and fidgety kids sit still and read these rhythmic words and laugh and smile and love that Silverstein. Need proof of his genius? RockabyeRockabye baby, in the treetopDon&#39;t you know a treetopIs no safe place to rock?And who put you up there,And your cradle, too?Baby, I think someone down here&#39;sGot it in for you. Shel, you never sounded so good. ...more\n",
      "\" />\n",
      "        <meta name=\"viewport\" content=\"width=device-width\" />\n",
      "        <meta name=\"robots\" content=\"NOARCHIVE,NOCACHE\" />\n",
      "\n",
      "        <!-- Le HTML5 shim, for IE6-8 support of HTML elements -->\n",
      "        <!--[if lt IE 9]>\n",
      "        <script src=\"//html5shim.googlecode.com/svn/trunk/html5.js\"></script>\n",
      "        <![endif]-->\n",
      "\n",
      "        \n",
      "            <link rel=\"shortcut icon\" href=\"../../static/oscar/favicon.ico\" />\n",
      "        \n",
      "\n",
      "        \n",
      "        \n",
      "    \n",
      "    \n",
      "        <link rel=\"stylesheet\" type=\"text/css\" href=\"../../static/oscar/css/styles.css\" />\n",
      "    \n",
      "    <link rel=\"stylesheet\" href=\"../../static/oscar/js/bootstrap-datetimepicker/bootstrap-datetimepicker.css\" />\n",
      "    <link rel=\"stylesheet\" type=\"text/css\" href=\"../../static/oscar/css/datetimepicker.css\" />\n",
      "\n",
      "\n",
      "        \n",
      "        \n",
      "\n",
      "        \n",
      "\n",
      "        \n",
      "            \n",
      "            \n",
      "\n",
      "        \n",
      "    </head>\n",
      "\n",
      "    <body id=\"default\" class=\"default\">\n",
      "        \n",
      "        \n",
      "    \n",
      "    \n",
      "    <header class=\"header container-fluid\">\n",
      "        <div class=\"page_inner\">\n",
      "            <div class=\"row\">\n",
      "                <div class=\"col-sm-8 h1\"><a href=\"../../index.html\">Books to Scrape</a><small> We love being scraped!</small>\n",
      "</div>\n",
      "\n",
      "                \n",
      "            </div>\n",
      "        </div>\n",
      "    </header>\n",
      "\n",
      "    \n",
      "    \n",
      "        <div class=\"container-fluid page\">\n",
      "            <div class=\"page_inner\">\n",
      "                \n",
      "<ul class=\"breadcrumb\">\n",
      "    <li>\n",
      "        <a href=\"../../index.html\">Home</a>\n",
      "    </li>\n",
      "    \n",
      "        \n",
      "        <li>\n",
      "            <a href=\"../category/books_1/index.html\">Books</a>\n",
      "        </li>\n",
      "        \n",
      "        <li>\n",
      "            <a href=\"../category/books/poetry_23/index.html\">Poetry</a>\n",
      "        </li>\n",
      "        \n",
      "        <li class=\"active\">A Light in the Attic</li>\n",
      "\n",
      "        \n",
      "        \n",
      "    \n",
      "</ul>\n",
      "\n",
      "                \n",
      "\n",
      "                \n",
      "\n",
      "\n",
      "\n",
      "<div id=\"messages\">\n",
      "\n",
      "</div>\n",
      "\n",
      "                \n",
      "                <div class=\"content\">\n",
      "                    \n",
      "\n",
      "                    \n",
      "                    <div id=\"promotions\">\n",
      "                        \n",
      "                    </div>\n",
      "\n",
      "                    \n",
      "                    <div id=\"content_inner\">\n",
      "\n",
      "<article class=\"product_page\"><!-- Start of product page -->\n",
      "\n",
      "    <div class=\"row\">\n",
      "\n",
      "        \n",
      "        <div class=\"col-sm-6\">\n",
      "            \n",
      "\n",
      "\n",
      "\n",
      "\n",
      "    \n",
      "\n",
      "    \n",
      "\n",
      "        \n",
      "        <div id=\"product_gallery\" class=\"carousel\">\n",
      "            <div class=\"thumbnail\">\n",
      "                <div class=\"carousel-inner\">\n",
      "                    <div class=\"item active\">\n",
      "                    \n",
      "                        \n",
      "                            <img src=\"../../media/cache/fe/72/fe72f0532301ec28892ae79a629a293c.jpg\" alt=\"A Light in the Attic\" />\n",
      "                        \n",
      "                    \n",
      "                    </div>\n",
      "                </div>\n",
      "            </div>\n",
      "        </div>\n",
      "\n",
      "    \n",
      "\n",
      "\n",
      "        </div>\n",
      "        \n",
      "\n",
      "        \n",
      "        <div class=\"col-sm-6 product_main\">\n",
      "            \n",
      "            \n",
      "            <h1>A Light in the Attic</h1>\n",
      "\n",
      "            \n",
      "                \n",
      "\n",
      "\n",
      "\n",
      "\n",
      "\n",
      "\n",
      "    \n",
      "        <p class=\"price_color\">Â£51.77</p>\n",
      "    \n",
      "\n",
      "<p class=\"instock availability\">\n",
      "    <i class=\"icon-ok\"></i>\n",
      "    \n",
      "        In stock (22 available)\n",
      "    \n",
      "</p>\n",
      "\n",
      "            \n",
      "\n",
      "            \n",
      "                \n",
      "\n",
      "\n",
      "\n",
      "    <p class=\"star-rating Three\">\n",
      "        <i class=\"icon-star\"></i>\n",
      "        <i class=\"icon-star\"></i>\n",
      "        <i class=\"icon-star\"></i>\n",
      "        <i class=\"icon-star\"></i>\n",
      "        <i class=\"icon-star\"></i>\n",
      "\n",
      "        <!-- <small><a href=\"/catalogue/a-light-in-the-attic_1000/reviews/\">\n",
      "        \n",
      "                \n",
      "                    0 customer reviews\n",
      "                \n",
      "        </a></small>\n",
      "         -->&nbsp;\n",
      "\n",
      "\n",
      "<!-- \n",
      "    <a id=\"write_review\" href=\"/catalogue/a-light-in-the-attic_1000/reviews/add/#addreview\" class=\"btn btn-success btn-sm\">\n",
      "        Write a review\n",
      "    </a>\n",
      "\n",
      " --></p>\n",
      "\n",
      "            \n",
      "\n",
      "            <hr/>\n",
      "\n",
      "            <div class=\"alert alert-warning\" role=\"alert\"><strong>Warning!</strong> This is a demo website for web scraping purposes. Prices and ratings here were randomly assigned and have no real meaning.</div>\n",
      "\n",
      "\n",
      "            \n",
      "                \n",
      "\n",
      "\n",
      "\n",
      "\n",
      "\n",
      "\n",
      "            \n",
      "        </div><!-- /col-sm-6 -->\n",
      "        \n",
      "\n",
      "    </div><!-- /row -->\n",
      "\n",
      "    \n",
      "        \n",
      "        <div id=\"product_description\" class=\"sub-header\">\n",
      "            <h2>Product Description</h2>\n",
      "        </div>\n",
      "        <p>It's hard to imagine a world without A Light in the Attic. This now-classic collection of poetry and drawings from Shel Silverstein celebrates its 20th anniversary with this special edition. Silverstein's humorous and creative verse can amuse the dowdiest of readers. Lemon-faced adults and fidgety kids sit still and read these rhythmic words and laugh and smile and love th It's hard to imagine a world without A Light in the Attic. This now-classic collection of poetry and drawings from Shel Silverstein celebrates its 20th anniversary with this special edition. Silverstein's humorous and creative verse can amuse the dowdiest of readers. Lemon-faced adults and fidgety kids sit still and read these rhythmic words and laugh and smile and love that Silverstein. Need proof of his genius? RockabyeRockabye baby, in the treetopDon't you know a treetopIs no safe place to rock?And who put you up there,And your cradle, too?Baby, I think someone down here'sGot it in for you. Shel, you never sounded so good. ...more</p>\n",
      "        \n",
      "    \n",
      "\n",
      "    \n",
      "    <div class=\"sub-header\">\n",
      "        <h2>Product Information</h2>\n",
      "    </div>\n",
      "    <table class=\"table table-striped\">\n",
      "        \n",
      "        <tr>\n",
      "            <th>UPC</th><td>a897fe39b1053632</td>\n",
      "        </tr>\n",
      "        \n",
      "        <tr>\n",
      "            <th>Product Type</th><td>Books</td>\n",
      "        </tr>\n",
      "\n",
      "        \n",
      "        \n",
      "            <tr>\n",
      "                <th>Price (excl. tax)</th><td>Â£51.77</td>\n",
      "            </tr>\n",
      "            \n",
      "                <tr>\n",
      "                    <th>Price (incl. tax)</th><td>Â£51.77</td>\n",
      "                </tr>\n",
      "                <tr>\n",
      "                    <th>Tax</th><td>Â£0.00</td>\n",
      "                </tr>\n",
      "            \n",
      "            <tr>\n",
      "                <th>Availability</th>\n",
      "                <td>In stock (22 available)</td>\n",
      "            </tr>\n",
      "        \n",
      "        \n",
      "        \n",
      "            <tr>\n",
      "                <th>Number of reviews</th>\n",
      "                <td>0</td>\n",
      "            </tr>\n",
      "        \n",
      "    </table>\n",
      "    \n",
      "\n",
      "    \n",
      "        \n",
      "        <section>\n",
      "            <div id=\"reviews\" class=\"sub-header\">\n",
      "            </div>\n",
      "        </section>\n",
      "        \n",
      "    \n",
      "\n",
      "    \n",
      "        \n",
      "    \n",
      "\n",
      "    \n",
      "\n",
      "\n",
      "\n",
      "    \n",
      "\n",
      "\n",
      "\n",
      "</article><!-- End of product page -->\n",
      "</div>\n",
      "                </div>\n",
      "            </div>\n",
      "        </div>\n",
      "    \n",
      "\n",
      "    \n",
      "<footer class=\"footer container-fluid\">\n",
      "    \n",
      "        \n",
      "    \n",
      "</footer>\n",
      "\n",
      "\n",
      "        \n",
      "        \n",
      "  \n",
      "            <!-- jQuery -->\n",
      "            <script src=\"http://ajax.googleapis.com/ajax/libs/jquery/1.9.1/jquery.min.js\"></script>\n",
      "            <script>window.jQuery || document.write('<script src=\"../../static/oscar/js/jquery/jquery-1.9.1.min.js\"><\\/script>')</script>\n",
      "        \n",
      "  \n",
      "\n",
      "\n",
      "        \n",
      "        \n",
      "    \n",
      "        \n",
      "    <!-- Twitter Bootstrap -->\n",
      "    <script type=\"text/javascript\" src=\"../../static/oscar/js/bootstrap3/bootstrap.min.js\"></script>\n",
      "    <!-- Oscar -->\n",
      "    <script src=\"../../static/oscar/js/oscar/ui.js\" type=\"text/javascript\" charset=\"utf-8\"></script>\n",
      "\n",
      "    <script src=\"../../static/oscar/js/bootstrap-datetimepicker/bootstrap-datetimepicker.js\" type=\"text/javascript\" charset=\"utf-8\"></script>\n",
      "    <script src=\"../../static/oscar/js/bootstrap-datetimepicker/locales/bootstrap-datetimepicker.all.js\" type=\"text/javascript\" charset=\"utf-8\"></script>\n",
      "\n",
      "\n",
      "        \n",
      "        \n",
      "    \n",
      "    \n",
      "\n",
      "    \n",
      "\n",
      "\n",
      "\n",
      "        \n",
      "        <script type=\"text/javascript\">\n",
      "            $(function() {\n",
      "                \n",
      "    \n",
      "    oscar.init();\n",
      "\n",
      "            });\n",
      "        </script>\n",
      "\n",
      "        \n",
      "        <!-- Version: N/A -->\n",
      "        \n",
      "    </body>\n",
      "</html>\n",
      "\n"
     ]
    }
   ],
   "source": [
    "print(odpoved_serveru.text)"
   ]
  },
  {
   "cell_type": "code",
   "execution_count": 7,
   "metadata": {},
   "outputs": [],
   "source": [
    "soup = BeautifulSoup(odpoved_serveru.text, features=\"html.parser\")"
   ]
  },
  {
   "cell_type": "code",
   "execution_count": 8,
   "metadata": {},
   "outputs": [
    {
     "name": "stdout",
     "output_type": "stream",
     "text": [
      "\n",
      "<!DOCTYPE html>\n",
      "\n",
      "<!--[if lt IE 7]>      <html lang=\"en-us\" class=\"no-js lt-ie9 lt-ie8 lt-ie7\"> <![endif]-->\n",
      "<!--[if IE 7]>         <html lang=\"en-us\" class=\"no-js lt-ie9 lt-ie8\"> <![endif]-->\n",
      "<!--[if IE 8]>         <html lang=\"en-us\" class=\"no-js lt-ie9\"> <![endif]-->\n",
      "<!--[if gt IE 8]><!--> <html class=\"no-js\" lang=\"en-us\"> <!--<![endif]-->\n",
      "<head>\n",
      "<title>\n",
      "    A Light in the Attic | Books to Scrape - Sandbox\n",
      "</title>\n",
      "<meta content=\"text/html; charset=utf-8\" http-equiv=\"content-type\"/>\n",
      "<meta content=\"24th Jun 2016 09:29\" name=\"created\"/>\n",
      "<meta content=\"\n",
      "    It's hard to imagine a world without A Light in the Attic. This now-classic collection of poetry and drawings from Shel Silverstein celebrates its 20th anniversary with this special edition. Silverstein's humorous and creative verse can amuse the dowdiest of readers. Lemon-faced adults and fidgety kids sit still and read these rhythmic words and laugh and smile and love th It's hard to imagine a world without A Light in the Attic. This now-classic collection of poetry and drawings from Shel Silverstein celebrates its 20th anniversary with this special edition. Silverstein's humorous and creative verse can amuse the dowdiest of readers. Lemon-faced adults and fidgety kids sit still and read these rhythmic words and laugh and smile and love that Silverstein. Need proof of his genius? RockabyeRockabye baby, in the treetopDon't you know a treetopIs no safe place to rock?And who put you up there,And your cradle, too?Baby, I think someone down here'sGot it in for you. Shel, you never sounded so good. ...more\n",
      "\" name=\"description\"/>\n",
      "<meta content=\"width=device-width\" name=\"viewport\"/>\n",
      "<meta content=\"NOARCHIVE,NOCACHE\" name=\"robots\"/>\n",
      "<!-- Le HTML5 shim, for IE6-8 support of HTML elements -->\n",
      "<!--[if lt IE 9]>\n",
      "        <script src=\"//html5shim.googlecode.com/svn/trunk/html5.js\"></script>\n",
      "        <![endif]-->\n",
      "<link href=\"../../static/oscar/favicon.ico\" rel=\"shortcut icon\"/>\n",
      "<link href=\"../../static/oscar/css/styles.css\" rel=\"stylesheet\" type=\"text/css\"/>\n",
      "<link href=\"../../static/oscar/js/bootstrap-datetimepicker/bootstrap-datetimepicker.css\" rel=\"stylesheet\"/>\n",
      "<link href=\"../../static/oscar/css/datetimepicker.css\" rel=\"stylesheet\" type=\"text/css\"/>\n",
      "</head>\n",
      "<body class=\"default\" id=\"default\">\n",
      "<header class=\"header container-fluid\">\n",
      "<div class=\"page_inner\">\n",
      "<div class=\"row\">\n",
      "<div class=\"col-sm-8 h1\"><a href=\"../../index.html\">Books to Scrape</a><small> We love being scraped!</small>\n",
      "</div>\n",
      "</div>\n",
      "</div>\n",
      "</header>\n",
      "<div class=\"container-fluid page\">\n",
      "<div class=\"page_inner\">\n",
      "<ul class=\"breadcrumb\">\n",
      "<li>\n",
      "<a href=\"../../index.html\">Home</a>\n",
      "</li>\n",
      "<li>\n",
      "<a href=\"../category/books_1/index.html\">Books</a>\n",
      "</li>\n",
      "<li>\n",
      "<a href=\"../category/books/poetry_23/index.html\">Poetry</a>\n",
      "</li>\n",
      "<li class=\"active\">A Light in the Attic</li>\n",
      "</ul>\n",
      "<div id=\"messages\">\n",
      "</div>\n",
      "<div class=\"content\">\n",
      "<div id=\"promotions\">\n",
      "</div>\n",
      "<div id=\"content_inner\">\n",
      "<article class=\"product_page\"><!-- Start of product page -->\n",
      "<div class=\"row\">\n",
      "<div class=\"col-sm-6\">\n",
      "<div class=\"carousel\" id=\"product_gallery\">\n",
      "<div class=\"thumbnail\">\n",
      "<div class=\"carousel-inner\">\n",
      "<div class=\"item active\">\n",
      "<img alt=\"A Light in the Attic\" src=\"../../media/cache/fe/72/fe72f0532301ec28892ae79a629a293c.jpg\"/>\n",
      "</div>\n",
      "</div>\n",
      "</div>\n",
      "</div>\n",
      "</div>\n",
      "<div class=\"col-sm-6 product_main\">\n",
      "<h1>A Light in the Attic</h1>\n",
      "<p class=\"price_color\">Â£51.77</p>\n",
      "<p class=\"instock availability\">\n",
      "<i class=\"icon-ok\"></i>\n",
      "    \n",
      "        In stock (22 available)\n",
      "    \n",
      "</p>\n",
      "<p class=\"star-rating Three\">\n",
      "<i class=\"icon-star\"></i>\n",
      "<i class=\"icon-star\"></i>\n",
      "<i class=\"icon-star\"></i>\n",
      "<i class=\"icon-star\"></i>\n",
      "<i class=\"icon-star\"></i>\n",
      "<!-- <small><a href=\"/catalogue/a-light-in-the-attic_1000/reviews/\">\n",
      "        \n",
      "                \n",
      "                    0 customer reviews\n",
      "                \n",
      "        </a></small>\n",
      "         --> \n",
      "\n",
      "\n",
      "<!-- \n",
      "    <a id=\"write_review\" href=\"/catalogue/a-light-in-the-attic_1000/reviews/add/#addreview\" class=\"btn btn-success btn-sm\">\n",
      "        Write a review\n",
      "    </a>\n",
      "\n",
      " --></p>\n",
      "<hr/>\n",
      "<div class=\"alert alert-warning\" role=\"alert\"><strong>Warning!</strong> This is a demo website for web scraping purposes. Prices and ratings here were randomly assigned and have no real meaning.</div>\n",
      "</div><!-- /col-sm-6 -->\n",
      "</div><!-- /row -->\n",
      "<div class=\"sub-header\" id=\"product_description\">\n",
      "<h2>Product Description</h2>\n",
      "</div>\n",
      "<p>It's hard to imagine a world without A Light in the Attic. This now-classic collection of poetry and drawings from Shel Silverstein celebrates its 20th anniversary with this special edition. Silverstein's humorous and creative verse can amuse the dowdiest of readers. Lemon-faced adults and fidgety kids sit still and read these rhythmic words and laugh and smile and love th It's hard to imagine a world without A Light in the Attic. This now-classic collection of poetry and drawings from Shel Silverstein celebrates its 20th anniversary with this special edition. Silverstein's humorous and creative verse can amuse the dowdiest of readers. Lemon-faced adults and fidgety kids sit still and read these rhythmic words and laugh and smile and love that Silverstein. Need proof of his genius? RockabyeRockabye baby, in the treetopDon't you know a treetopIs no safe place to rock?And who put you up there,And your cradle, too?Baby, I think someone down here'sGot it in for you. Shel, you never sounded so good. ...more</p>\n",
      "<div class=\"sub-header\">\n",
      "<h2>Product Information</h2>\n",
      "</div>\n",
      "<table class=\"table table-striped\">\n",
      "<tr>\n",
      "<th>UPC</th><td>a897fe39b1053632</td>\n",
      "</tr>\n",
      "<tr>\n",
      "<th>Product Type</th><td>Books</td>\n",
      "</tr>\n",
      "<tr>\n",
      "<th>Price (excl. tax)</th><td>Â£51.77</td>\n",
      "</tr>\n",
      "<tr>\n",
      "<th>Price (incl. tax)</th><td>Â£51.77</td>\n",
      "</tr>\n",
      "<tr>\n",
      "<th>Tax</th><td>Â£0.00</td>\n",
      "</tr>\n",
      "<tr>\n",
      "<th>Availability</th>\n",
      "<td>In stock (22 available)</td>\n",
      "</tr>\n",
      "<tr>\n",
      "<th>Number of reviews</th>\n",
      "<td>0</td>\n",
      "</tr>\n",
      "</table>\n",
      "<section>\n",
      "<div class=\"sub-header\" id=\"reviews\">\n",
      "</div>\n",
      "</section>\n",
      "</article><!-- End of product page -->\n",
      "</div>\n",
      "</div>\n",
      "</div>\n",
      "</div>\n",
      "<footer class=\"footer container-fluid\">\n",
      "</footer>\n",
      "<!-- jQuery -->\n",
      "<script src=\"http://ajax.googleapis.com/ajax/libs/jquery/1.9.1/jquery.min.js\"></script>\n",
      "<script>window.jQuery || document.write('<script src=\"../../static/oscar/js/jquery/jquery-1.9.1.min.js\"><\\/script>')</script>\n",
      "<!-- Twitter Bootstrap -->\n",
      "<script src=\"../../static/oscar/js/bootstrap3/bootstrap.min.js\" type=\"text/javascript\"></script>\n",
      "<!-- Oscar -->\n",
      "<script charset=\"utf-8\" src=\"../../static/oscar/js/oscar/ui.js\" type=\"text/javascript\"></script>\n",
      "<script charset=\"utf-8\" src=\"../../static/oscar/js/bootstrap-datetimepicker/bootstrap-datetimepicker.js\" type=\"text/javascript\"></script>\n",
      "<script charset=\"utf-8\" src=\"../../static/oscar/js/bootstrap-datetimepicker/locales/bootstrap-datetimepicker.all.js\" type=\"text/javascript\"></script>\n",
      "<script type=\"text/javascript\">\n",
      "            $(function() {\n",
      "                \n",
      "    \n",
      "    oscar.init();\n",
      "\n",
      "            });\n",
      "        </script>\n",
      "<!-- Version: N/A -->\n",
      "</body>\n",
      "</html>\n",
      "\n"
     ]
    }
   ],
   "source": [
    "print(soup)"
   ]
  },
  {
   "cell_type": "code",
   "execution_count": 9,
   "metadata": {},
   "outputs": [],
   "source": [
    "vsechny_p_tagy = soup.find_all('p')"
   ]
  },
  {
   "cell_type": "code",
   "execution_count": 10,
   "metadata": {},
   "outputs": [
    {
     "data": {
      "text/plain": [
       "\"It's hard to imagine a world without A Light in the Attic. This now-classic collection of poetry and drawings from Shel Silverstein celebrates its 20th anniversary with this special edition. Silverstein's humorous and creative verse can amuse the dowdiest of readers. Lemon-faced adults and fidgety kids sit still and read these rhythmic words and laugh and smile and love th It's hard to imagine a world without A Light in the Attic. This now-classic collection of poetry and drawings from Shel Silverstein celebrates its 20th anniversary with this special edition. Silverstein's humorous and creative verse can amuse the dowdiest of readers. Lemon-faced adults and fidgety kids sit still and read these rhythmic words and laugh and smile and love that Silverstein. Need proof of his genius? RockabyeRockabye baby, in the treetopDon't you know a treetopIs no safe place to rock?And who put you up there,And your cradle, too?Baby, I think someone down here'sGot it in for you. Shel, you never sounded so good. ...more\""
      ]
     },
     "execution_count": 10,
     "metadata": {},
     "output_type": "execute_result"
    }
   ],
   "source": [
    "vsechny_p_tagy[-1].text"
   ]
  },
  {
   "cell_type": "markdown",
   "metadata": {},
   "source": [
    "<br>\n",
    "\n",
    "Co je to za knihovny `requests` a `bs4`? Máš je také k dispozici? Jak je můžeš nahrát a používat?"
   ]
  },
  {
   "cell_type": "markdown",
   "metadata": {},
   "source": [
    "<br>\n",
    "\n",
    "<img src=\"https://external-content.duckduckgo.com/iu/?u=https%3A%2F%2Ftse2.mm.bing.net%2Fth%3Fid%3DOIP.EvE0cAsK9bHMbis8Ki5YPQHaHa%26pid%3DApi&f=1\" width=\"200\" style=\"margin-left:auto; margin-right:auto\">"
   ]
  },
  {
   "cell_type": "markdown",
   "metadata": {},
   "source": [
    "## Nastavení prostředí\n",
    "\n",
    "---\n",
    "Nejprve potřebuješ vyřešit, co všechno pro svůj projekt potřebuješ.\n",
    "\n",
    "Na začátku již zaznělo, že budeš potřebovat **knihovny**. Jaké knihovny to budou, jaký typ knihoven to bude a jak s ním zacházet?\n",
    "<br>"
   ]
  },
  {
   "cell_type": "markdown",
   "metadata": {},
   "source": [
    "### Knihovny\n",
    "\n",
    "---\n",
    "\n",
    "*Knihovny*  můžeš získat v podstatě dvěma způsoby:\n",
    "1. **V rámci instalace**, (knihovny *zabudované*),\n",
    "2. **nainstalovat ručně**, (knihovny *třetích stran*).\n",
    "\n",
    "V podstatě jde o rozdělení, **podle původu** knihovny."
   ]
  },
  {
   "cell_type": "markdown",
   "metadata": {},
   "source": [
    "<br>\n",
    "\n",
    "#### Zabudované knihovny\n",
    "\n",
    "---\n",
    "\n",
    "Tyto knihovny máš k dispozici ihned po nainstalování *interpreta* Pythonu.\n",
    "\n",
    "Jejich **obsah** a **verze** se mohou lišit průběhem času.\n",
    "\n",
    "Seznam těchto knihoven najdeš v <a href=\"https://docs.python.org/3/library/index.html\" target=\"_blank\">oficiální dokumentaci</a> (na odkaze je seznam pro verzi interpreta **3.10.4**).\n",
    "\n",
    "<br>"
   ]
  },
  {
   "cell_type": "markdown",
   "metadata": {},
   "source": [
    "#### Knihovny třetích stran\n",
    "\n",
    "---\n",
    "\n",
    "Zatímco některé knihovny můžeš snadno nahrát přímo na místě:"
   ]
  },
  {
   "cell_type": "code",
   "execution_count": 11,
   "metadata": {},
   "outputs": [],
   "source": [
    "import uuid\n",
    "import typing\n",
    "import itertools"
   ]
  },
  {
   "cell_type": "markdown",
   "metadata": {},
   "source": [
    "Jiné knihovny ti **přímo nahrát nepůjdou**:"
   ]
  },
  {
   "cell_type": "code",
   "execution_count": 12,
   "metadata": {},
   "outputs": [
    {
     "ename": "ModuleNotFoundError",
     "evalue": "No module named 'flask'",
     "output_type": "error",
     "traceback": [
      "\u001b[0;31m---------------------------------------------------------------------------\u001b[0m",
      "\u001b[0;31mModuleNotFoundError\u001b[0m                       Traceback (most recent call last)",
      "Cell \u001b[0;32mIn[12], line 1\u001b[0m\n\u001b[0;32m----> 1\u001b[0m \u001b[38;5;28;01mimport\u001b[39;00m \u001b[38;5;21;01mflask\u001b[39;00m\n\u001b[1;32m      2\u001b[0m \u001b[38;5;28;01mimport\u001b[39;00m \u001b[38;5;21;01mpandas\u001b[39;00m\n",
      "\u001b[0;31mModuleNotFoundError\u001b[0m: No module named 'flask'"
     ]
    }
   ],
   "source": [
    "import flask\n",
    "import pandas"
   ]
  },
  {
   "cell_type": "markdown",
   "metadata": {},
   "source": [
    "##### **Demo**: knihovny třetích stran v prostředí *interaktivního interpreta*.\n",
    "\n",
    "<br>"
   ]
  },
  {
   "cell_type": "markdown",
   "metadata": {},
   "source": [
    "Pokud jsi právě dostal výjimku `ModuleNotFoundError`, tak je všechno v pořádku.\n",
    "\n",
    "<br>\n",
    "\n",
    "Právě tyto knihovny (a mnoho dalších) jsou označovány jako *knihovny třetích stran*.\n",
    "\n",
    "Tyto knihovny **nejsou součástí nainstalovaných** knihoven, a proto je nelze nahrát takhle jednodušše.\n",
    "\n",
    "Je potřeba následujících kroků:\n",
    "1. Nejprve je musíš **vyhledat**,\n",
    "2. následně **správně nainstalovat**,\n",
    "3. a **konečně používat**.\n",
    "\n",
    "<br>\n",
    "\n",
    "Kde je ale hledat a jak je řádně a správně nainstalovat?"
   ]
  },
  {
   "cell_type": "markdown",
   "metadata": {},
   "source": [
    "<br>\n",
    "\n",
    "<img src=\"https://external-content.duckduckgo.com/iu/?u=https%3A%2F%2Ftse4.mm.bing.net%2Fth%3Fid%3DOIP.1jYNqFlZEyuhm3apMFgIPwHaHa%26pid%3DApi&f=1\" width=\"200\" style=\"margin-left:auto; margin-right:auto\">\n",
    "\n",
    "## Virtuální prostředí\n",
    "\n",
    "---\n",
    "\n",
    "Pro **každý projekt**, který budeš v Pythonu tvořit, budeš obvykle potřebovat **různé knihovny** (jak *zabudované*, tak *třetích stran*).\n",
    "\n",
    "```\n",
    "projekty/\n",
    "   ├─projekt01/  # requests\n",
    "   ├─projekt02/  # requests, pandas\n",
    "   ├─projekt03/  # pandas\n",
    "   ├─...\n",
    "   └─projektXY/\n",
    "```\n",
    "\n",
    "<br>\n",
    "\n",
    "Nejenom různé knihovny, ale dokonce i **různé verze stejných knihoven**.\n",
    "```\n",
    "projekty/\n",
    "   ├─projekt01/  # requests==2.21.0\n",
    "   ├─projekt02/  # requests==2.19.1, pandas==1.9.0\n",
    "   ├─projekt03/  # pandas==2.0.0.\n",
    "   ├─...\n",
    "   └─projektXY/\n",
    "```\n",
    "\n",
    "<br>\n",
    "\n",
    "Je proto vhodné, osvojit si zdravé navýky pro práci **s různými projekty** (úlohami) a pracovat s pomocí oddělených tzv. *virtuálních prostředí*."
   ]
  },
  {
   "cell_type": "markdown",
   "metadata": {},
   "source": [
    "### Proč oddělené prostředí\n",
    "\n",
    "---\n",
    "\n",
    "Můžu přece všechny **knihovny nainstalovat na jedno (globální) místo**, a každý projekt bude moci využít společnou knihovnu.\n",
    "\n",
    "**Do jisté míry** ano, **ALE**... nese s sebou spoustu komplikací.\n",
    "\n",
    "<br>\n",
    "\n",
    "Ty nejdůležitější jsou:\n",
    "1. Problémy **s OS**,\n",
    "2. Rozdílné **verze knihoven**.\n",
    "\n",
    "<br>"
   ]
  },
  {
   "cell_type": "markdown",
   "metadata": {},
   "source": [
    "### Problémy s OS\n",
    "\n",
    "---\n",
    "\n",
    "*Linux* a *MacOS* jsou *operační systémy*, které již předinstalovaný Python obsahují.\n",
    "\n",
    "Ten potom pracuje s některými interními procesy, takže o nich často ani jako uživatel netušíš.\n",
    "\n",
    "Pokud nainstaluješ knihovnu **bez virtuálního prostředí**, hrozí, že nahradíš **původní verze** těchto knihoven **novějšími verzemi** (se kterými neumí pracovat), což může vést k neočekávanému chování.\n",
    "\n",
    "Ukázka:\n",
    "```\n",
    "# výpis z příkazu 'python3 -m pip list'\n",
    "# tvůj OS potřebuje tyto verze knihoven\n",
    "\n",
    "pycairo                1.16.2              \n",
    "pycodestyle            2.9.0               \n",
    "```\n",
    "\n",
    "Pokud nainstaluješ novější verze těchto knihoven (*upgraduješ* je), dostaneš něco podobného:\n",
    "```\n",
    "pycairo                1.19.0              \n",
    "pycodestyle            3.1.1               \n",
    "```\n",
    "\n",
    "Novější verze mohou často postrádat některé starší funkce a jiné objekty. Případně je jejich funkcionalita přemapována na jiné objekty.\n",
    "\n",
    "Potom ti hrozí **neočekávané chování** běžných procesů (výjimky, logy,..), které tyto objekty potřebují.\n",
    "\n",
    "<br>"
   ]
  },
  {
   "cell_type": "markdown",
   "metadata": {},
   "source": [
    "### Rozdílné verze knihoven\n",
    "\n",
    "---\n",
    "\n",
    "Dalším problémem, před kterým tě *virtuální prostředí* chrání, je kolize **verzí knihoven**, mezi **jednotlivými projekty**.\n",
    "\n",
    "Ukázka:\n",
    "```\n",
    "   ├─projekt01/  # requests==2.21.0\n",
    "   ├─projekt02/  # requests==2.19.1, ...\n",
    "```\n",
    "\n",
    "<br>\n",
    "\n",
    "Pokud nainstaluješ (*globálně*) novější verzi knihovny `2.21.0`, můžeš ztratit některou funkcionalitu z předchozích verzí (*funkce*, *třídy*, *proměnné*, atd.)"
   ]
  },
  {
   "cell_type": "markdown",
   "metadata": {},
   "source": [
    "### Verzování\n",
    "\n",
    "---\n",
    "\n",
    "1. **Co je sémantické verzování (Semantic Versioning, SemVer)?**  \n",
    "   Standardní způsob označování verzí softwaru, který jasně komunikuje typ provedených změn. Formát verzí je: **<span style=\"color:red;\">MAJOR</span>.<span style=\"color:blue;\">MINOR</span>.<span style=\"color:green;\">PATCH</span>**.\n",
    "\n",
    "2. **Formát verzí:**\n",
    "   - **<span style=\"color:red;\">MAJOR</span>**: Zvyšuje se při změnách, které nejsou zpětně kompatibilní.\n",
    "   - **<span style=\"color:blue;\">MINOR</span>**: Zvyšuje se při přidání nových funkcionalit, které jsou zpětně kompatibilní.\n",
    "   - **<span style=\"color:green;\">PATCH</span>**: Zvyšuje se při opravě chyb nebo drobných změnách, které nemění funkcionalitu.\n",
    "\n",
    "3. **Hlavní výhody:**\n",
    "   - Jasná komunikace o typu změn.\n",
    "   - Snadnější správa závislostí v projektech.\n",
    "   - Podpora automatizace při nasazování verzí.\n",
    "\n",
    "4. **Pravidla sémantického verzování:**\n",
    "   - Počáteční verze `0.x.y` označuje vývojovou fázi, kdy není garantována stabilita API.\n",
    "   - Verze `1.0.0` a vyšší už musí dodržovat zpětnou kompatibilitu podle definovaných pravidel.\n",
    "   - S verzí je možné použít doplňující metadata (např. `1.0.0-beta` pro označení předběžné verze).\n",
    "\n",
    "5. **Použití v praxi:**\n",
    "   - Sémantické verzování se běžně využívá v balíčkovacích systémech (např. npm, pip).\n",
    "   - Umožňuje vývojářům efektivně spravovat a aktualizovat závislosti.\n",
    "\n",
    "6. **Klíčové zásady:**\n",
    "   - Pokud měníte API nekompatibilním způsobem → zvýšit **<span style=\"color:red;\">MAJOR</span>**.\n",
    "   - Pokud přidáváte nové funkce bez porušení kompatibility → zvýšit **<span style=\"color:blue;\">MINOR</span>**.\n",
    "   - Pokud opravujete chyby → zvýšit **<span style=\"color:green;\">PATCH</span>**.\n",
    "\n",
    "\n",
    "7. **Metadata verzí v sémantickém verzování**\n",
    "\n",
    "   Kromě hlavní verze **<span style=\"color:red;\">MAJOR</span>.<span style=\"color:blue;\">MINOR</span>.<span style=\"color:green;\">PATCH</span>** může sémantické verzování obsahovat další metadata, která označují stav vývoje verze. Tato metadata se zapisují za číslo verze oddělené pomlčkou (`-`) nebo pluskem (`+`).\n",
    "\n",
    "   **Běžné typy metadat**\n",
    "\n",
    "      1. **Alpha (`-alpha`)**  \n",
    "         - Označuje **ranou verzi**, která je obvykle velmi nestabilní a může obsahovat mnoho chyb.  \n",
    "         - Verze alpha je určená převážně pro interní testování a základní kontrolu funkcí.  \n",
    "         - Například: `1.0.0-alpha`, `1.0.0-alpha.1`.\n",
    "\n",
    "      2. **Beta (`-beta`)**  \n",
    "         - Označuje **pokročilejší fázi vývoje**, která je stále nestabilní, ale obsahuje většinu zamýšlených funkcí.  \n",
    "         - Verze beta je obvykle sdílena s testery nebo komunitou pro širší zpětnou vazbu.  \n",
    "         - Například: `1.0.0-beta`, `1.0.0-beta.2`.\n",
    "\n",
    "      3. **Release Candidate (RC, `-rc`)**  \n",
    "         - Označuje **verzi připravenou k vydání**, která je již stabilní a po odstranění drobných problémů bude vydána jako finální.  \n",
    "         - Vhodné pro finální testování před veřejným uvedením.  \n",
    "         - Například: `1.0.0-rc`, `1.0.0-rc.3`.\n",
    "\n",
    "      4. **Final (`-`)**  \n",
    "         - Pokud verze nemá žádné speciální označení, jedná se o **stabilní vydání**, určené pro široké použití.  \n",
    "         - Například: `1.0.0`.\n",
    "\n",
    "   **Doplňková metadata**\n",
    "\n",
    "      5. **Build metadata (`+build`)**  \n",
    "         - Metadata označená znaménkem `+` slouží k popisu sestavení. Nemají vliv na řazení verzí.  \n",
    "         - Například: `1.0.0+001`, `1.0.0+exp.sha.5114f85`.\n",
    "\n",
    "      6. **Experimental (`-exp`)**  \n",
    "         - Používá se pro verze, které obsahují experimentální funkce, neověřené nebo dočasné změny.  \n",
    "         - Například: `1.0.0-exp.1`.\n",
    "\n",
    "      7. **Hotfix (`-hotfix`)**  \n",
    "         - Označuje opravy provedené na finální stabilní verzi.  \n",
    "         - Například: `1.0.0-hotfix.1`.\n",
    "\n",
    "      **Řazení verzí s metadaty**\n",
    "\n",
    "      - Předběžné verze (alpha, beta, rc) mají **nižší prioritu** než finální verze.  \n",
    "      - Příklad pořadí verzí:  \n",
    "      `1.0.0-alpha` < `1.0.0-alpha.1` < `1.0.0-beta` < `1.0.0-beta.2` < `1.0.0-rc` < `1.0.0`.\n"
   ]
  },
  {
   "cell_type": "markdown",
   "metadata": {},
   "source": [
    "<img src=\"https://external-content.duckduckgo.com/iu/?u=https%3A%2F%2Ftse4.mm.bing.net%2Fth%3Fid%3DOIP.3RX0BJUjo1iEcyFBi59JWQHaHa%26pid%3DApi&f=1\" width=\"200\" style=\"margin-left:auto; margin-right:auto\" />\n",
    "\n",
    "\n",
    "## Práce v příkazovém řádku\n",
    "\n",
    "---\n",
    "\n",
    "Vytvořit virtuální prostředí můžeš jednoduše **v příkazovém řádku**.\n",
    "\n",
    "Často totiž **nemáš přístup ke grafickému rozhraní** (*virtuálka*, *kontejner*, *remote server*), a potom se hodí, řídit celý proces **v příkazovém řádku**.\n",
    "\n",
    "Python disponuje knihovnou `venv`, která ti takové prostředí umožní nachystat."
   ]
  },
  {
   "cell_type": "markdown",
   "metadata": {},
   "source": [
    "<br>\n",
    "\n",
    "### Sada příkazů\n",
    "\n",
    "---\n",
    "\n",
    "Nejprve zkontroluj, jestli máš nainstalovaný základní manažer balíčků **pip** a můžeš pracovat s **pythonem**:\n",
    "```\n",
    "python3 --version         # ověřím verzi Pythonu\n",
    "python3 -m pip --version  # ověřím verzi manažera knihoven, novější zápis\n",
    "pip --version             # ..starší zápis\n",
    "```\n",
    "\n",
    "<br>\n",
    "\n",
    "Výstup ti vrátí číslo verze manažera a jeho umístění:\n",
    "```\n",
    "Python 3.8.10\n",
    "pip 21.0.1 from ...\n",
    "```"
   ]
  },
  {
   "cell_type": "markdown",
   "metadata": {},
   "source": [
    "##### **Demo**: kontrola manažeru a Pythonu"
   ]
  },
  {
   "cell_type": "markdown",
   "metadata": {},
   "source": [
    "<br>\n",
    "\n",
    "Pokud máš manažer v pořádku, můžeš si **vytvořit nové virtuální prostředí**:\n",
    "```\n",
    "python3 -m venv moje_prvni_prostredi  # env, dev\n",
    "```\n",
    "\n",
    "<br>\n",
    "\n",
    "Po krátké odmlce jej můžeš **aktivovat**:\n",
    "```\n",
    "source moje_prvni_prostredi/bin/activate   # aktivace pro Linux a MacOS\n",
    "moje_prvni_prostredi\\Scripts\\Activate.ps1  # aktivace pro Windows\n",
    "```"
   ]
  },
  {
   "cell_type": "markdown",
   "metadata": {},
   "source": [
    "<br>\n",
    "\n",
    "Aktivované virtuální prostředí poznáš podle **předepsané kulaté závorky se jménem projektu**:\n",
    "```\n",
    "$ source moje_prvni_prostredi/bin/activate\n",
    "(moje_prvni_prostredi) $\n",
    "```"
   ]
  },
  {
   "cell_type": "markdown",
   "metadata": {},
   "source": [
    "##### **Demo**: aktivace prostředí"
   ]
  },
  {
   "cell_type": "markdown",
   "metadata": {},
   "source": [
    "<br>\n",
    "\n",
    "Pokud si nyní budeš chtít zkontrolovat, které **knihovny máš v nově vytvořeném prostředí**, zapiš:\n",
    "```\n",
    "python3 -m pip list\n",
    "python3 -m pip freeze\n",
    "```\n",
    "\n",
    "<br>\n",
    "\n",
    "Aktivní prostředí potom ukončíš příkazem:\n",
    "```\n",
    "deactivate\n",
    "```"
   ]
  },
  {
   "cell_type": "markdown",
   "metadata": {},
   "source": [
    "##### **Demo**: manipulace s manažerem"
   ]
  },
  {
   "cell_type": "markdown",
   "metadata": {},
   "source": [
    "<img src=\"https://external-content.duckduckgo.com/iu/?u=https%3A%2F%2Ftse1.mm.bing.net%2Fth%3Fid%3DOIP.FNPYtWpZ9XRY2yf9Z1LqXgHaHa%26pid%3DApi&f=1\" width=\"200\" style=\"margin-left:auto; margin-right:auto\">\n",
    "\n",
    "### Hledání balíčků\n",
    "\n",
    "---\n",
    "\n",
    "Teď, když máš nachystané zázemí, můžeš začít vyhledávat jednotlivé knihovny, které ti usnadní práci.\n",
    "\n",
    "Seznam **většiny knihoven** najdeš na <a href=\"https://pypi.org/\" target=\"_blank\">pypi.org</a>, což je místo, kde si komunita *Pythonistů* sdílí svoje knihovny.\n",
    "\n",
    "#### Demo: Vyhledej knihovnu `requests`"
   ]
  },
  {
   "cell_type": "markdown",
   "metadata": {},
   "source": [
    "<img src=\"https://external-content.duckduckgo.com/iu/?u=https%3A%2F%2Ftse3.mm.bing.net%2Fth%3Fid%3DOIP.1hTm5TmhnE0ctqZd13VcQAHaHa%26pid%3DApi&f=1\" width=\"200\" style=\"margin-left:auto; margin-right:auto\"/>\n",
    "\n",
    "\n",
    "### Instalace vyhledané a ověřené knihovny\n",
    "\n",
    "---\n",
    "\n",
    "Pokud dohledáš knihovnu, obvykle najdeš i **příkaz pro instalaci**.\n",
    "\n",
    "Nezapomeň aktivovat virtuální prostředí a můžeš zapsat příkaz:\n",
    "```\n",
    "python3 -m pip install requests beautifulsoup4\n",
    "```\n",
    "\n",
    "##### **Demo**: Zobrazit knihovnu"
   ]
  },
  {
   "cell_type": "markdown",
   "metadata": {},
   "source": [
    "<br>\n",
    "\n",
    "Nyní si můžeš řádně nainstalovat knihovny z počáteční ukázky (`requests` a `bs4`)."
   ]
  },
  {
   "cell_type": "markdown",
   "metadata": {},
   "source": [
    "### Nástroje pro správu Python projektů\n",
    "\n",
    "---"
   ]
  },
  {
   "cell_type": "markdown",
   "metadata": {},
   "source": [
    "Větší projekty je potřeba dobře spravovat, protože obsahují mnoho knihoven (balíčků) a každá knihovna má své závislosti (knihovny, na kterých závisí).\n",
    "\n",
    "Může se stát, že dvě různé knihovny budou záviset na stejné knihovně (např. `requests`), ale budou požadovat jinou verzi knihovny. Tomuto chaosu se říká **🔥 Dependency hell 🔥**.\n",
    "\n",
    "Se správou projektů nám pomáhají již hotové nástroje. Zde zmíním dva.\n",
    "\n",
    "1. [**Poetry**](https://python-poetry.org/)\n",
    "2. [**uv**](https://docs.astral.sh/uv/)"
   ]
  },
  {
   "cell_type": "markdown",
   "metadata": {},
   "source": [
    "Účelem těchto nástrojů je především spravovat závislosti, abyste se vyhnuli **Dependency hell** a mohli balíček sdílet s jinými vývojáři, kteří se ho pomocí jednoho příkazu nainstalují."
   ]
  },
  {
   "cell_type": "markdown",
   "metadata": {},
   "source": []
  },
  {
   "attachments": {},
   "cell_type": "markdown",
   "metadata": {},
   "source": [
    "**Postup vytvoření projektu**\n",
    "\n",
    "### Postup při vytvoření Python projektu pomocí **Poetry** s nastavením venv ve složce projektu:\n",
    "\n",
    "1. **Nainstaluj Poetry**  \n",
    "   https://python-poetry.org/docs/#installation\n",
    "\n",
    "2. **Inicializace nového projektu**  \n",
    "   Vytvoř složku pro projekt a inicializuj nový Poetry projekt:  \n",
    "   \n",
    "```bash\n",
    "   mkdir muj_projekt\n",
    "   cd muj_projekt\n",
    "   poetry init\n",
    "```\n",
    "\n",
    "   Během inicializace odpověz na otázky, nebo použij `--no-interaction` pro rychlé vytvoření základního `pyproject.toml`.\n",
    "\n",
    "3. **Nastavení umístění venv do složky projektu**  \n",
    "   Přidej do konfiguračního souboru Poetry nastavení, aby venv byl uložen v projektu:  \n",
    "   ```bash\n",
    "   poetry config virtualenvs.in-project true\n",
    "   ```\n",
    "   (Tímto se vytvoří venv ve složce `.venv` uvnitř projektu.)\n",
    "\n",
    "4. **Vytvoření a aktivace venv**  \n",
    "   Spusť příkaz pro instalaci venv a aktivaci prostředí:  \n",
    "   ```bash\n",
    "   poetry install\n",
    "   source .venv/bin/activate\n",
    "   ```\n",
    "\n",
    "5. **Přidávání závislostí**  \n",
    "   - Pro přidání běžné závislosti (např. `requests`):  \n",
    "     ```bash\n",
    "     poetry add requests\n",
    "     ```\n",
    "   - Pro přidání konkrétní verze balíčku:  \n",
    "     ```bash\n",
    "     poetry add requests@^2.0\n",
    "     ```\n",
    "\n",
    "6. **Přidávání vývojářských závislostí**  \n",
    "   - Vývojářské závislosti (např. testovací framework `pytest`) přidej s přepínačem `--group dev`:  \n",
    "     ```bash\n",
    "     poetry add --group dev pytest\n",
    "     ```\n",
    "\n",
    "7. **Správa závislostí a zamknutí verzí**  \n",
    "   - Pokud potřebuješ aktualizovat závislosti podle novějších verzí v rámci definovaných pravidel:  \n",
    "     ```bash\n",
    "     poetry update\n",
    "     ```\n",
    "   - Zkontroluj zamčené verze v `poetry.lock`.\n",
    "\n",
    "8. **Spouštění skriptů ve venv**  \n",
    "   Poetry automaticky používá prostředí v projektu, takže příkazy spustíš takto:  \n",
    "   ```bash\n",
    "   poetry run python script.py\n",
    "   ```\n",
    "\n",
    "9. **Export závislostí (např. pro Docker)**  \n",
    "   Pokud potřebuješ seznam závislostí pro `pip` (`requirements.txt`):  \n",
    "   ```bash\n",
    "   poetry export -f requirements.txt --output requirements.txt\n",
    "   ```\n",
    "\n",
    "10. **Odstranění venv nebo závislostí**  \n",
    "    - Pro odstranění venv:  \n",
    "      ```bash\n",
    "      poetry env remove python\n",
    "      ```\n",
    "    - Pro odstranění konkrétní závislosti:  \n",
    "      ```bash\n",
    "      poetry remove requests\n",
    "      ```\n",
    "\n",
    "### Další užitečné příkazy:\n",
    "- Zobrazení aktuálního nastavení:  \n",
    "  ```bash\n",
    "  poetry config --list\n",
    "  ```\n",
    "- Zobrazení seznamu nainstalovaných závislostí:  \n",
    "  ```bash\n",
    "  poetry show\n",
    "  ```"
   ]
  },
  {
   "cell_type": "markdown",
   "metadata": {},
   "source": [
    "<br>\n",
    "\n",
    "<img src=\"https://external-content.duckduckgo.com/iu/?u=https%3A%2F%2Ftse4.mm.bing.net%2Fth%3Fid%3DOIP.U7nMjACQdKtNeiHzfc3ClwAAAA%26pid%3DApi&f=1&ipt=640454cd32d73e5ce88ac8e813def67c685f139df3f380c7c370e382947375a0&ipo=images\" width=\"200\" style=\"margin-left:auto; margin-right:auto\" />\n",
    "\n",
    "## Úvod do HTML\n",
    "\n",
    "---\n",
    "\n",
    "Než se pustíš do *scrapování* dat, potřebuješ se zorientovat v následujících krocích:\n",
    "1. Jak **vyhledat data**,\n",
    "2. jak **identifikovat jejich zdrojový soubor**,\n",
    "3. jak **přečíst zdroj**."
   ]
  },
  {
   "cell_type": "markdown",
   "metadata": {},
   "source": [
    "### Vyhledání dat\n",
    "\n",
    "---\n",
    "\n",
    "Nejlepší je, rozkoukat se **pomocí prohlížeče**, ten má totiž k dispozici každý.\n",
    "\n",
    "Zajímají tě ceny na e-shopech, ubytování, nové články?\n",
    "\n",
    "Zapni *prohlížeč*, vyber tebou preferovaný *vyhledávací engine* a začni hledat.\n",
    "\n",
    "<br>"
   ]
  },
  {
   "cell_type": "markdown",
   "metadata": {},
   "source": [
    "### Identifikuj zdroj dat\n",
    "\n",
    "---\n",
    "\n",
    "Jakmile najdeš, co potřebuješ, potřebuješ pochopit, **v jaké struktuře** jsou všechna tato data poskládaná.\n",
    "\n",
    "\n",
    "Většina prohlížečů disponuje schopností nahlédnout *do struktury* dat, která zobrazují.\n",
    "\n",
    "U prohlížeče Mozilla je postup následující:\n",
    "1. **Přejdeš na stránku**, která tě zajímá,\n",
    "2. **pravým tlačítkem myši** klikneš kamkoliv do prostoru v okně,\n",
    "3. vybereš možnost **View page source** (tedy *zobrazit zdrojový kód*).\n",
    "\n",
    "```html\n",
    "<!DOCTYPE HTML PUBLIC \"-//W3C//DTD HTML 4.0 Transitional//EN\">\n",
    "<html>\n",
    "<head>\n",
    "...\n",
    "```\n",
    "\n",
    "Následně můžeš vyčíst, že *zdrojový kód* stránky je uložený ve formátu `html`aj."
   ]
  },
  {
   "cell_type": "markdown",
   "metadata": {},
   "source": [
    "### Získání zdrojového kódu s Pythonem\n",
    "\n",
    "---\n",
    "\n",
    "Na začátku, stejně jako v rámci tvého prohlížeče, musíš **znát adresu**:\n",
    "```python\n",
    "url = \"https://books.toscrape.com/catalogue/a-light-in-the-attic_1000/index.html\"\n",
    "```\n",
    "\n",
    "Potom potřebuješ, stejně jako v prohlížeči, odeslat **správný typ požadavku**.\n",
    "\n",
    "Jak jej ale najít?\n",
    "\n",
    "<br>\n",
    "\n",
    "##### **Demo**: najít, identifikovat a zobrazit požadavek v prohlížeči"
   ]
  },
  {
   "cell_type": "code",
   "execution_count": null,
   "metadata": {},
   "outputs": [],
   "source": [
    "import requests"
   ]
  },
  {
   "cell_type": "code",
   "execution_count": null,
   "metadata": {},
   "outputs": [],
   "source": [
    "url = \"https://books.toscrape.com/catalogue/a-light-in-the-attic_1000/index.html\""
   ]
  },
  {
   "cell_type": "code",
   "execution_count": null,
   "metadata": {},
   "outputs": [],
   "source": [
    "odpoved_serveru = requests.get(url)"
   ]
  },
  {
   "cell_type": "code",
   "execution_count": null,
   "metadata": {},
   "outputs": [],
   "source": [
    "print(odpoved_serveru.status_code)"
   ]
  },
  {
   "cell_type": "code",
   "execution_count": null,
   "metadata": {},
   "outputs": [],
   "source": [
    "type(odpoved_serveru)"
   ]
  },
  {
   "cell_type": "code",
   "execution_count": null,
   "metadata": {},
   "outputs": [],
   "source": [
    "# dir(odpoved_serveru) --> TEXT"
   ]
  },
  {
   "cell_type": "code",
   "execution_count": null,
   "metadata": {},
   "outputs": [],
   "source": [
    "print(odpoved_serveru.text[:100])"
   ]
  },
  {
   "cell_type": "markdown",
   "metadata": {},
   "source": [
    "##### **Demo**: Odeslat požadavek v Pythonu"
   ]
  },
  {
   "cell_type": "markdown",
   "metadata": {},
   "source": [
    "Jak se ale v takovém zdrojovém souboru orientovat?\n",
    "\n",
    "Ve stavu jako je nyní, je velmi nepraktické jakkoliv **údaje uvnitř uchopit**."
   ]
  },
  {
   "cell_type": "markdown",
   "metadata": {},
   "source": [
    "<br>\n",
    "\n",
    "### Co je to HTML\n",
    "\n",
    "---\n",
    "\n",
    "Tento typ souborů je opět varianta **zjednodušeného textového formátu**, který je hierarchicky uspořádný pomocí tzv. *tagů* nebo také *elementů*:\n",
    "```html\n",
    "<body>\n",
    "<div id=\"menu\">\n",
    "    <li>\n",
    "        <a href=\"http://XXXXXXX.cz\" title=\"\">Homepage</a>\n",
    "    </li>\n",
    "</div>\n",
    "</body>\n",
    "```\n",
    "Formát `html` je velmi často používaný pro tvorbu **struktury webových stránek**"
   ]
  },
  {
   "cell_type": "markdown",
   "metadata": {},
   "source": [
    "<br>\n",
    "\n",
    "### Tagy\n",
    "\n",
    "---\n",
    "\n",
    "Na každém řádku si jsou nachystané prvky `html` formátu. `<div></div>` nebo `<li></li>`.\n",
    "\n",
    "Všimni si, že jsou nachystané v párech. Jeden objekt je **otevírající** a druhý **zavírající** (většinou s lomítkem).\n",
    "\n",
    "<br>\n",
    "\n",
    "Takový pár, otevírající a zavírající element, často obsahují nějaký údaj:\n",
    "```html\n",
    "<div>   ..otevírací_tag\n",
    "    Obsah\n",
    "</div>  ..uzavírací_tag\n",
    "```"
   ]
  },
  {
   "cell_type": "markdown",
   "metadata": {},
   "source": [
    "<br>\n",
    "\n",
    "Některé tagy jsou **zarovnané** a jiné **odsazené**:\n",
    "```html\n",
    "<div id=\"menu\">\n",
    "    <li>\n",
    "        <a href=\"XYZ\">Homepage</a>\n",
    "        <a href=\"MNO\">Source</a>\n",
    "    </li>\n",
    "</div>\n",
    "```\n",
    "Z toho pak vyplývá **rozdělení tagů** na:\n",
    "1. **Rodičovské**, nebo také nadřazený tag `<div>`,\n",
    "2. **potomky**, odsazené tagy `<li>` a `<a>`,\n",
    "3. **sourozence**, tagy na stejné úrovni odsazení jako oba tagy `<a>`."
   ]
  },
  {
   "cell_type": "markdown",
   "metadata": {},
   "source": [
    "<br>\n",
    "\n",
    "### Atributy\n",
    "\n",
    "---\n",
    "\n",
    "Dalším detailem, kterého si můžeš v `html` strutuře všimnout, jsou tzv. *atributy tagů*.\n",
    "```html\n",
    " <!-- atribut \"id\"-->\n",
    "<div id=\"menu\">                    \n",
    "    <li>\n",
    "        <!-- atribut \"href\"-->\n",
    "        <a href=\"XYZ\">Homepage</a>  \n",
    "        <!-- atribut \"href\"-->\n",
    "        <a href=\"MNO\">Source</a>    \n",
    "    </li>\n",
    "</div>\n",
    "```\n",
    "*Atributy* jsou velice podobné *mapování* u slovníků v Pythonu.\n",
    "\n",
    "Jejich účelem je tedy přidat nějaké rozšiřující, nebo doplňující chování pro stávající **HTML tag**.\n",
    "\n",
    "Jsou tvořené páry **klíč** a **hodnota**, spojené pomocí `=`.\n",
    "\n",
    "<br>\n",
    "\n",
    "Je jich celá řada, ale co se ukázky týče, vidíš:\n",
    "1. `id` atribut, který slouží jako **pomocný identifikátor** v rámci celého `html`.\n",
    "2. `href` atribut, který **upřesňuje odkaz**, na který tě přesune (jinam na stejné stránce, na jinou stránku, atd.)."
   ]
  },
  {
   "cell_type": "markdown",
   "metadata": {},
   "source": [
    "<br>\n",
    "\n",
    "<img src=\"https://external-content.duckduckgo.com/iu/?u=https%3A%2F%2Ftse3.mm.bing.net%2Fth%3Fid%3DOIP.TN81-g4eMnBNUlf5aVFluAHaHa%26pid%3DApi&f=1&ipt=a5e2423fe957746320e88d55fcd89d7151480ef058b6f90ce6be4ea0e781a6d3&ipo=images\" width=\"200\" style=\"margin-left:auto; margin-right:auto\" />"
   ]
  },
  {
   "cell_type": "markdown",
   "metadata": {},
   "source": [
    "## Obecný postup web scrapování\n",
    "---\n",
    "\n",
    "\n",
    "Celý postup **web scrapování** potom obecně rozložíš do těchto kroků:\n",
    "1. ✅ Získání **zdrojového souboru** z webové adresy,\n",
    "2. ❌ **rozdělení a procházení** takového zdrojového souboru (*parsování*),\n",
    "3. ❌ **zpřístupnění a výběr dat** ve zdrojovém souboru, která potřebuješ,\n",
    "4. ❌ (volitelné) **přesun na další stránku** a zopakovat první tři kroky."
   ]
  },
  {
   "attachments": {},
   "cell_type": "markdown",
   "metadata": {},
   "source": [
    "### Rozdělení zdrojového souboru\n",
    "\n",
    "---\n",
    "\n",
    "*Zdrojový soubor* už získáš, ale co teď s ním?\n",
    "\n",
    "<br>\n",
    "\n",
    "Na první pohled je patrné, že s takovým objektem, je práce **velmi náročná**:"
   ]
  },
  {
   "cell_type": "code",
   "execution_count": null,
   "metadata": {},
   "outputs": [],
   "source": [
    "type(odpoved_serveru.text)"
   ]
  },
  {
   "cell_type": "code",
   "execution_count": null,
   "metadata": {},
   "outputs": [],
   "source": [
    "print(odpoved_serveru.text[:200])"
   ]
  },
  {
   "cell_type": "markdown",
   "metadata": {},
   "source": [
    "Definitivně není reálné, takový objekt *indexovat*, *slicovat*, *stridovat*.\n",
    "\n",
    "Jak tedy obsah zdrojového souboru pohodlně **rozdělit**?"
   ]
  },
  {
   "cell_type": "markdown",
   "metadata": {},
   "source": [
    "<br>\n",
    "\n",
    "### Rozdělní dat zdrojového souboru\n",
    "\n",
    "---\n",
    "\n",
    "Jestli chceš soubor pohodlně procházet, budeš muset najít **další pomůcku**.\n",
    "\n",
    "Hledáš takovou, která umí rozdělovat, nebo jinak řečeno *parsovat*, obsah `html` souborů."
   ]
  },
  {
   "cell_type": "code",
   "execution_count": null,
   "metadata": {},
   "outputs": [],
   "source": [
    "from bs4 import BeautifulSoup as bs"
   ]
  },
  {
   "cell_type": "code",
   "execution_count": null,
   "metadata": {},
   "outputs": [],
   "source": [
    "polivka = bs(odpoved_serveru.text, \"html.parser\")"
   ]
  },
  {
   "cell_type": "code",
   "execution_count": null,
   "metadata": {},
   "outputs": [],
   "source": [
    "# print(polivka.prettify())"
   ]
  },
  {
   "cell_type": "code",
   "execution_count": null,
   "metadata": {},
   "outputs": [],
   "source": [
    "type(polivka)  # --> AttributeError"
   ]
  },
  {
   "cell_type": "markdown",
   "metadata": {},
   "source": [
    "Nyní, pokud máš *zdrojový soubor* rozdělený, můžeš se zaměřit **na vyhledávání konkrétních dat**.\n",
    "\n",
    "\n",
    "##### **Demo**: Hledat knihovnu pro rozdělení HTML souborů\n",
    "\n",
    "<br>"
   ]
  },
  {
   "cell_type": "markdown",
   "metadata": {},
   "source": [
    "### Hledám TENTO element\n",
    "\n",
    "---\n",
    "\n",
    "Vzorové `html` uložené jako *string*:"
   ]
  },
  {
   "cell_type": "code",
   "execution_count": null,
   "metadata": {},
   "outputs": [],
   "source": [
    "html_doc = \"\"\"\n",
    "<div class=\"mainpage-headline\">\n",
    "    <a href=\"/wiki/Wikipedie:%C4%8Cl%C3%A1nek_t%C3%BDdneI\"\n",
    "        title=\"Wikipedie:Článek týdne I.\">Článek týdne I.</a>\n",
    "    <a href=\"/wiki/Wikipedie:%C4%8Cl%C3%A1nek_t%C3%BDdneII\"\n",
    "        title=\"Wikipedie:Článek týdne II.\">Článek týdne II.</a>\n",
    "</div>\n",
    "\"\"\""
   ]
  },
  {
   "cell_type": "markdown",
   "metadata": {},
   "source": [
    "Jak z takového zdrojového `str` získat obsah informace **z druhého tagu** `<a>`?\n",
    "\n",
    "`<a href=\"/wiki/Wikipedie:%C4%8Cl%C3%A1nek_t%C3%BDdneII\"\n",
    "title=\"Wikipedie:Článek týdne II.\">Článek týdne II.</a>`\n",
    "\n",
    "<br>\n",
    "\n",
    "#### Vyhledat **jménem tagu**\n",
    "\n",
    "---"
   ]
  },
  {
   "cell_type": "code",
   "execution_count": null,
   "metadata": {},
   "outputs": [],
   "source": [
    "polivka = BeautifulSoup(html_doc, features=\"html.parser\")"
   ]
  },
  {
   "cell_type": "code",
   "execution_count": null,
   "metadata": {},
   "outputs": [],
   "source": [
    "type(polivka)  # --> AttributeError"
   ]
  },
  {
   "cell_type": "code",
   "execution_count": null,
   "metadata": {},
   "outputs": [],
   "source": [
    "print(polivka.div)"
   ]
  },
  {
   "cell_type": "code",
   "execution_count": null,
   "metadata": {},
   "outputs": [],
   "source": [
    "print(polivka.div.text)"
   ]
  },
  {
   "cell_type": "code",
   "execution_count": null,
   "metadata": {},
   "outputs": [],
   "source": [
    "print(polivka.a)"
   ]
  },
  {
   "cell_type": "markdown",
   "metadata": {},
   "source": [
    "V takovém případě ale mohu pracovat **velice neobratně** s dalšími výskytu tohoto *elementu*.\n",
    "\n",
    "Pokud ale stále hledáš jen **konkrétní** (druhý) **element**, může být nepříjemné, indexovat k němu nepřímo.\n"
   ]
  },
  {
   "cell_type": "markdown",
   "metadata": {},
   "source": [
    "<br>\n",
    "\n",
    "#### Vyhledat pomocí atributů tagů metodou `find`\n",
    "\n",
    "---\n",
    "\n",
    "Pokud má element doplňující atributy, můžeš vyhledávat právě pomocí jejich **jmen a hodnot**"
   ]
  },
  {
   "cell_type": "markdown",
   "metadata": {},
   "source": [
    "```html\n",
    "<div class=\"mainpage-headline\">\n",
    "<a href=\"/wiki/Wikipedie:%C4%8Cl%C3%A1nek_t%C3%BDdneI\" title=\"Wikipedie:Článek týdne I.\">Článek týdne I.</a>\n",
    "<a href=\"/wiki/Wikipedie:%C4%8Cl%C3%A1nek_t%C3%BDdneII\" title=\"Wikipedie:Článek týdne II.\">Článek týdne II.</a>\n",
    "</div>\n",
    "```"
   ]
  },
  {
   "cell_type": "code",
   "execution_count": null,
   "metadata": {},
   "outputs": [],
   "source": [
    "# help(polivka.find)"
   ]
  },
  {
   "cell_type": "code",
   "execution_count": null,
   "metadata": {},
   "outputs": [],
   "source": [
    "print(polivka.find('a'))  # Ekvivalent: polivka.a"
   ]
  },
  {
   "cell_type": "code",
   "execution_count": null,
   "metadata": {},
   "outputs": [],
   "source": [
    "print(polivka.find(\"a\", {\"title\": \"Wikipedie:Článek týdne II.\"}))"
   ]
  },
  {
   "cell_type": "code",
   "execution_count": null,
   "metadata": {},
   "outputs": [],
   "source": [
    "hledany_tag_a = polivka.find(\"a\", {\"title\": \"Wikipedie:Článek týdne II.\", \"href\": \"/wiki/Wikipedie:%C4%8Cl%C3%A1nek_t%C3%BDdneII\"})"
   ]
  },
  {
   "cell_type": "code",
   "execution_count": null,
   "metadata": {},
   "outputs": [],
   "source": [
    "type(hledany_tag_a)"
   ]
  },
  {
   "cell_type": "markdown",
   "metadata": {},
   "source": [
    "<br>\n",
    "\n",
    "#### Vyhledat pomocí metody `select`\n",
    "\n",
    "---\n",
    "\n",
    "Metoda `select` ti umožňuje vyhledávat pomocí tzv. **CSS selektoru**:"
   ]
  },
  {
   "cell_type": "code",
   "execution_count": null,
   "metadata": {},
   "outputs": [],
   "source": [
    "# Nakopíruj CSS Selector"
   ]
  },
  {
   "cell_type": "code",
   "execution_count": null,
   "metadata": {},
   "outputs": [],
   "source": []
  },
  {
   "cell_type": "markdown",
   "metadata": {},
   "source": [
    "#### [Demo: Selekce hlavního článku, Kinobox](https://www.kinobox.cz/)"
   ]
  },
  {
   "cell_type": "code",
   "execution_count": null,
   "metadata": {},
   "outputs": [],
   "source": [
    "import requests\n",
    "from bs4 import BeautifulSoup"
   ]
  },
  {
   "cell_type": "code",
   "execution_count": null,
   "metadata": {},
   "outputs": [],
   "source": [
    "odpoved_serveru = requests.get(\"https://www.kinobox.cz/\")"
   ]
  },
  {
   "cell_type": "code",
   "execution_count": null,
   "metadata": {},
   "outputs": [],
   "source": [
    "soup_kinobox = BeautifulSoup(odpoved_serveru.text, features=\"html.parser\")"
   ]
  },
  {
   "cell_type": "code",
   "execution_count": null,
   "metadata": {},
   "outputs": [],
   "source": [
    "strong_tag_uvodni_clanek = soup_kinobox.select(\".index_mainArticle__PzsmR > a:nth-child(1) > article:nth-child(1) > div:nth-child(2) > strong:nth-child(2)\")"
   ]
  },
  {
   "cell_type": "code",
   "execution_count": null,
   "metadata": {},
   "outputs": [],
   "source": [
    "print(type(strong_tag_uvodni_clanek))  # ResultSet ~ list"
   ]
  },
  {
   "cell_type": "code",
   "execution_count": null,
   "metadata": {},
   "outputs": [],
   "source": [
    "print(strong_tag_uvodni_clanek)        # ResultSet ~ list"
   ]
  },
  {
   "cell_type": "code",
   "execution_count": null,
   "metadata": {},
   "outputs": [],
   "source": [
    "print(strong_tag_uvodni_clanek[0])"
   ]
  },
  {
   "cell_type": "code",
   "execution_count": null,
   "metadata": {},
   "outputs": [],
   "source": [
    "print(type(strong_tag_uvodni_clanek[0]))"
   ]
  },
  {
   "cell_type": "code",
   "execution_count": null,
   "metadata": {},
   "outputs": [],
   "source": [
    "print(strong_tag_uvodni_clanek[0].text)"
   ]
  },
  {
   "cell_type": "markdown",
   "metadata": {},
   "source": [
    "<br>\n",
    "\n",
    "### Souhrn prohledávání HTML struktury\n",
    "\n",
    "Jaké jsou tedy způsoby, jak vyhledat jednotlivé tagy:\n",
    "1. Vyhledat **jménem tagu**,  `print(soup.div)`\n",
    "2. Vyhledat pomocí *atributů tagů* metodou **find**, `print(soup.find_all(\"a\"))`\n",
    "3. Vyhledat pomocí metody **select**. `print(soup.select_one(\"#unikatni > html > prvek\")`"
   ]
  },
  {
   "cell_type": "markdown",
   "metadata": {},
   "source": [
    "<br>\n",
    "\n",
    "### Hledám TYTO elementy\n",
    "\n",
    "---\n",
    "\n",
    "Metoda `find_all` ti také pomáhá projít zdrojový kód.\n",
    "\n",
    "Třeba pokud potřebuješ najít **všechny elementy s určitým atributem** (případně pomocí *XPath*):"
   ]
  },
  {
   "cell_type": "code",
   "execution_count": null,
   "metadata": {},
   "outputs": [],
   "source": [
    "html_doc_2 = \"\"\"\n",
    "<div class=\"mainpage-left\">\n",
    "    <a class=\"topic\">Tady je první článek...</a>\n",
    "</div>\n",
    "<div class=\"mainpage-block aow-container\">\n",
    "    <a class=\"topic\">Tady je druhý článek...</a>\n",
    "</div>\n",
    "<div class=\"mainpage-headline\">\n",
    "    <a href=\"/wiki/Wikipedie:%C4%8Cl%C3%A1nek_t%C3%BDdne\" title=\"Wikipedie:Článek týdne\">Článek týdne</a>\n",
    "    <a class=\"topic_main\">XXXXX...</a>\n",
    "</div>\n",
    "<div class=\"mainpage-content\">\n",
    "     <a class=\"topic_main\">Příjmení Ugandského trenéra ženského lakrosu je...</a>\n",
    "</div>\n",
    "<div class=\"mainpage-footer\">\n",
    "    <a title=\"Wikipedie:Nejlepší články\">Nejlepší články</a>\n",
    "    <a title=\"Wikipedie:Dobré články\">Dobré články</a>\n",
    "    <a title=\"Wikipedie:Článek týdne/2022\">Další články týdne…</a>\n",
    "</div>\n",
    "\"\"\""
   ]
  },
  {
   "cell_type": "code",
   "execution_count": null,
   "metadata": {},
   "outputs": [],
   "source": [
    "polivka = BeautifulSoup(html_doc_2, features=\"html.parser\")"
   ]
  },
  {
   "cell_type": "code",
   "execution_count": null,
   "metadata": {},
   "outputs": [],
   "source": [
    "vsechny_a_tagy_topic_main = polivka.find_all(\"a\", {\"class\": \"topic_main\"})"
   ]
  },
  {
   "cell_type": "code",
   "execution_count": null,
   "metadata": {},
   "outputs": [],
   "source": [
    "print(vsechny_a_tagy_topic_main)"
   ]
  },
  {
   "cell_type": "code",
   "execution_count": null,
   "metadata": {},
   "outputs": [],
   "source": [
    "# print(polivka.find_all(\"a\"))"
   ]
  },
  {
   "cell_type": "code",
   "execution_count": null,
   "metadata": {},
   "outputs": [],
   "source": [
    "vsechny_clanky = [clanek.text for clanek in vsechny_a_tagy_topic_main]"
   ]
  },
  {
   "cell_type": "code",
   "execution_count": null,
   "metadata": {},
   "outputs": [],
   "source": [
    "print(vsechny_clanky)"
   ]
  },
  {
   "cell_type": "code",
   "execution_count": null,
   "metadata": {},
   "outputs": [],
   "source": [
    "div_tag_mainpage_footer = polivka.find(\"div\", {\"class\": \"mainpage-footer\"})"
   ]
  },
  {
   "cell_type": "code",
   "execution_count": null,
   "metadata": {},
   "outputs": [],
   "source": [
    "print(div_tag_mainpage_footer.prettify())"
   ]
  },
  {
   "cell_type": "markdown",
   "metadata": {},
   "source": [
    "<br>\n",
    "\n",
    "#### Prozkoumání vyhledaného elementu\n",
    "\n",
    "---\n",
    "\n",
    "Pokud najdeš element, který potřebuješ, můžeš je **důkladněji prozkoumat**:"
   ]
  },
  {
   "cell_type": "code",
   "execution_count": null,
   "metadata": {},
   "outputs": [],
   "source": [
    "potomek_a = div_tag_mainpage_footer.findChild()"
   ]
  },
  {
   "cell_type": "code",
   "execution_count": null,
   "metadata": {},
   "outputs": [],
   "source": [
    "vsichni_potomci_a = div_tag_mainpage_footer.findChildren()"
   ]
  },
  {
   "cell_type": "code",
   "execution_count": null,
   "metadata": {},
   "outputs": [],
   "source": [
    "print(potomek_a)"
   ]
  },
  {
   "cell_type": "code",
   "execution_count": null,
   "metadata": {},
   "outputs": [],
   "source": [
    "print(vsichni_potomci_a)"
   ]
  },
  {
   "cell_type": "code",
   "execution_count": null,
   "metadata": {},
   "outputs": [],
   "source": [
    "dobre_clanky = vsichni_potomci_a[1]"
   ]
  },
  {
   "cell_type": "code",
   "execution_count": null,
   "metadata": {},
   "outputs": [],
   "source": [
    "dobre_clanky.attrs            # slovník jmen a hodnot všech atributů"
   ]
  },
  {
   "cell_type": "code",
   "execution_count": null,
   "metadata": {},
   "outputs": [],
   "source": [
    "dobre_clanky.get(\"title\")     # metoda \"get\", hledáš atribut \"href\""
   ]
  },
  {
   "cell_type": "code",
   "execution_count": null,
   "metadata": {},
   "outputs": [],
   "source": [
    "dobre_clanky.get_text()       # metoda \"get_text\" ti přečte obsah text elementu --> text"
   ]
  },
  {
   "cell_type": "markdown",
   "metadata": {},
   "source": [
    "<br>\n",
    "\n",
    "## Pokročilé scrapování\n",
    "\n",
    "---"
   ]
  },
  {
   "cell_type": "markdown",
   "metadata": {},
   "source": [
    "Doposud tedy umíš práci s jedním odkazem:"
   ]
  },
  {
   "cell_type": "code",
   "execution_count": null,
   "metadata": {},
   "outputs": [],
   "source": [
    "import time\n",
    "\n",
    "import requests\n",
    "from bs4 import BeautifulSoup"
   ]
  },
  {
   "cell_type": "code",
   "execution_count": null,
   "metadata": {},
   "outputs": [],
   "source": [
    "def ziskej_odpoved_serveru(url: str) -> requests.models.Response:\n",
    "    return requests.get(url)"
   ]
  },
  {
   "cell_type": "code",
   "execution_count": null,
   "metadata": {},
   "outputs": [],
   "source": [
    "odpoved_1 = ziskej_odpoved_serveru('http://books.toscrape.com/catalogue/a-light-in-the-attic_1000/index.html')"
   ]
  },
  {
   "cell_type": "code",
   "execution_count": null,
   "metadata": {},
   "outputs": [],
   "source": [
    "odpoved_1.status_code"
   ]
  },
  {
   "cell_type": "code",
   "execution_count": null,
   "metadata": {},
   "outputs": [],
   "source": [
    "# odpoved_1.text"
   ]
  },
  {
   "cell_type": "markdown",
   "metadata": {},
   "source": [
    "<br>\n",
    "\n",
    "Pokud potřebuješ *scrapovat* několik různých adres, můžeš si vypomoct smyčkou:"
   ]
  },
  {
   "cell_type": "code",
   "execution_count": null,
   "metadata": {},
   "outputs": [],
   "source": [
    "def ziskej_odpoved_serveru() -> list:\n",
    "    urls = [\n",
    "        'http://books.toscrape.com/catalogue/a-light-in-the-attic_1000/index.html',\n",
    "        'http://books.toscrape.com/catalogue/tipping-the-velvet_999/index.html',\n",
    "        'http://books.toscrape.com/catalogue/soumission_998/index.html',\n",
    "        'http://books.toscrape.com/catalogue/sharp-objects_997/index.html',\n",
    "        'http://books.toscrape.com/catalogue/sapiens-a-brief-history-of-humankind_996/index.html',\n",
    "        'http://books.toscrape.com/catalogue/the-requiem-red_995/index.html',\n",
    "        'http://books.toscrape.com/catalogue/the-dirty-little-secrets-of-getting-your-dream-job_994/index.html',\n",
    "        'http://books.toscrape.com/catalogue/the-coming-woman-a-novel-based-on-the-life-of-the-infamous-feminist-victoria-woodhull_993/index.html'\n",
    "    ]\n",
    "    return [requests.get(url) for url in urls]"
   ]
  },
  {
   "cell_type": "markdown",
   "metadata": {},
   "source": [
    "<br>\n",
    "\n",
    "Při takové dávce je vhodné měřit si dobu běhu skriptu, příp. evidovat úspěšné a neúspěšné *scrapování*."
   ]
  },
  {
   "cell_type": "code",
   "execution_count": null,
   "metadata": {},
   "outputs": [],
   "source": [
    "#def main(fce: callable) -> None:\n",
    "    start = time.perf_counter()\n",
    "    fce()\n",
    "    stop = time.perf_counter()\n",
    "    print(f\"Celkem: {stop - start:.2f} sek\")"
   ]
  },
  {
   "cell_type": "code",
   "execution_count": null,
   "metadata": {},
   "outputs": [],
   "source": [
    "main(ziskej_odpoved_serveru)"
   ]
  },
  {
   "cell_type": "markdown",
   "metadata": {},
   "source": [
    "To ti později může prozradit, jestli všechno doběhlo úspěšně.\n",
    "\n",
    "Případně pokud některý z pokusů o dotazování serveru selhal, dozvíš se to.\n",
    "\n",
    "<br>"
   ]
  },
  {
   "cell_type": "markdown",
   "metadata": {},
   "source": [
    "### Pseudo-paralelní zpracování\n",
    "---"
   ]
  },
  {
   "cell_type": "markdown",
   "metadata": {},
   "source": [
    "V této situaci ale probíhá dotazování *sériově*.\n",
    "\n",
    "Tvůj skript tedy čeká, jakmile skončí první dotaz a následně pošle další.\n",
    "\n",
    "Práce se soubory, práce s packety, interpret vždy čeká.\n",
    "\n",
    "Je jedno **jak rychlý skriptovací jazyk** použiješ, webový server se musí nejprve vyjádřit."
   ]
  },
  {
   "cell_type": "code",
   "execution_count": null,
   "metadata": {},
   "outputs": [],
   "source": [
    "import time\n",
    "import asyncio\n",
    "\n",
    "import httpx"
   ]
  },
  {
   "cell_type": "code",
   "execution_count": null,
   "metadata": {},
   "outputs": [],
   "source": [
    "async def ziskej_odpoved_serveru():\n",
    "    urls = [\n",
    "        'http://books.toscrape.com/catalogue/a-light-in-the-attic_1000/index.html',\n",
    "        'http://books.toscrape.com/catalogue/tipping-the-velvet_999/index.html',\n",
    "        'http://books.toscrape.com/catalogue/soumission_998/index.html',\n",
    "        'http://books.toscrape.com/catalogue/sharp-objects_997/index.html',\n",
    "        'http://books.toscrape.com/catalogue/sapiens-a-brief-history-of-humankind_996/index.html',\n",
    "        'http://books.toscrape.com/catalogue/the-requiem-red_995/index.html',\n",
    "        'http://books.toscrape.com/catalogue/the-dirty-little-secrets-of-getting-your-dream-job_994/index.html',\n",
    "        'http://books.toscrape.com/catalogue/the-coming-woman-a-novel-based-on-the-life-of-the-infamous-feminist-victoria-woodhull_993/index.html'\n",
    "    ]\n",
    "\n",
    "    async with httpx.AsyncClient() as client:\n",
    "        requests_ = [client.get(url) for url in urls]  # requests.get()\n",
    "        response = await asyncio.gather(*requests_)"
   ]
  },
  {
   "cell_type": "markdown",
   "metadata": {},
   "source": [
    "Knihovna `asyncio` nabízí v kombinaci s knihovnou `httpx` šikovné řešení:\n",
    "1. Definuješ funkci s `async def`, tím interpretu oznámíš, že chceš vytvořit uživatelskou funkci, která musí umět běžet paralelně,\n",
    "2. pomocí `async with` vytvoříš dočasnou *session*, během které dojde ke sbírání odpovědi serveru/serverů,\n",
    "3. lze řešení dopsat i pomocí knihovny `requests`, to ale není tak čitelné,\n",
    "4. vytvoříš objekt s `await`, který čeká, než všechny paralelní procesy doběhnou."
   ]
  },
  {
   "cell_type": "code",
   "execution_count": null,
   "metadata": {},
   "outputs": [],
   "source": [
    "if __name__ == '__main__':\n",
    "    start = time.perf_counter()\n",
    "    asyncio.run(ziskej_odpoved_serveru())\n",
    "    stop = time.perf_counter()\n",
    "    print(f\"Celkem: {stop - start:.2f} sek\")"
   ]
  },
  {
   "cell_type": "code",
   "execution_count": null,
   "metadata": {},
   "outputs": [],
   "source": [
    "%%file async_scrape.py\n",
    "import time\n",
    "import asyncio\n",
    "\n",
    "import httpx\n",
    "\n",
    "\n",
    "async def ziskej_odpoved_serveru():\n",
    "    urls = [\n",
    "        'http://books.toscrape.com/catalogue/a-light-in-the-attic_1000/index.html',\n",
    "        'http://books.toscrape.com/catalogue/tipping-the-velvet_999/index.html',\n",
    "        'http://books.toscrape.com/catalogue/soumission_998/index.html',\n",
    "        'http://books.toscrape.com/catalogue/sharp-objects_997/index.html',\n",
    "        'http://books.toscrape.com/catalogue/sapiens-a-brief-history-of-humankind_996/index.html',\n",
    "        'http://books.toscrape.com/catalogue/the-requiem-red_995/index.html',\n",
    "        'http://books.toscrape.com/catalogue/the-dirty-little-secrets-of-getting-your-dream-job_994/index.html',\n",
    "        'http://books.toscrape.com/catalogue/the-coming-woman-a-novel-based-on-the-life-of-the-infamous-feminist-victoria-woodhull_993/index.html'\n",
    "    ]\n",
    "\n",
    "    async with httpx.AsyncClient() as client:\n",
    "        requests_ = [client.get(url) for url in urls]  # requests.get()\n",
    "        response = await asyncio.gather(*requests_)\n",
    "\n",
    "\n",
    "if __name__ == '__main__':\n",
    "    start = time.perf_counter()\n",
    "    asyncio.run(ziskej_odpoved_serveru())\n",
    "    stop = time.perf_counter()\n",
    "    print(f\"Celkem: {stop - start:.2f} sek\")"
   ]
  },
  {
   "cell_type": "markdown",
   "metadata": {},
   "source": [
    "Skript můžeš spustit pomocí funkce, nebo v globálním rámci.\n",
    "\n",
    "Nezapomeň, že **nemůžeš funkci pouze zavolat** `ziskej_odpoved_serveru()`.\n",
    "\n",
    "Potřebuješ speciální objekt, který funkce spustí paralelně, proto `asyncio.run(ziskej_odpoved_serveru())`."
   ]
  },
  {
   "cell_type": "markdown",
   "metadata": {},
   "source": [
    "<br>\n",
    "\n",
    "<img src=\"https://external-content.duckduckgo.com/iu/?u=https%3A%2F%2Ftse3.mm.bing.net%2Fth%3Fid%3DOIP.XxURlbi8RZ3SMPoMRj91VwAAAA%26pid%3DApi&f=1\" width=\"200\">"
   ]
  },
  {
   "cell_type": "markdown",
   "metadata": {},
   "source": [
    "## Domácí úloha\n",
    "\n",
    "---"
   ]
  },
  {
   "cell_type": "markdown",
   "metadata": {},
   "source": [
    "#### Pokémoni\n",
    "\n",
    "---"
   ]
  },
  {
   "cell_type": "code",
   "execution_count": 4,
   "metadata": {},
   "outputs": [],
   "source": [
    "import requests\n",
    "from bs4 import BeautifulSoup\n",
    "\n",
    "\n",
    "def ziskej_odpoved_serveru(jmeno: str, defaultni_adresa: str = 'https://pokemondb.net/pokedex/'):\n",
    "    return requests.get(f\"{defaultni_adresa}{jmeno}\")\n",
    "\n",
    "\n",
    "def ziskej_uvodni_text(odpoved_serveru: str, hledany_tag: str):\n",
    "    polivka = BeautifulSoup(odpoved_serveru, features='html.parser')\n",
    "    return polivka.find_all(hledany_tag)\n",
    "\n",
    "\n",
    "def spoj_texty(rozdelene_texty) -> str:\n",
    "    spojene_texty = [obsah_tagu.text for obsah_tagu in rozdelene_texty[:2]]\n",
    "    return ' '.join(spojene_texty)"
   ]
  },
  {
   "cell_type": "code",
   "execution_count": 5,
   "metadata": {},
   "outputs": [],
   "source": [
    "def main(*args):\n",
    "    for jmeno in args:\n",
    "        odpoved = ziskej_odpoved_serveru(jmeno.lower())\n",
    "        texty = ziskej_uvodni_text(odpoved.text, 'p')\n",
    "        print(spoj_texty(texty))"
   ]
  },
  {
   "cell_type": "code",
   "execution_count": 9,
   "metadata": {},
   "outputs": [
    {
     "name": "stdout",
     "output_type": "stream",
     "text": [
      "Bulbasaur is a Grass/Poison type Pokémon introduced in Generation 1. Bulbasaur is a small, mainly turquoise amphibian Pokémon with red eyes and a green bulb on its back. It is based on a frog/toad, with the bulb resembling a plant bulb that grows into a flower as it evolves.\n"
     ]
    }
   ],
   "source": [
    "main('Bulbasaur')"
   ]
  },
  {
   "cell_type": "code",
   "execution_count": 8,
   "metadata": {},
   "outputs": [
    {
     "name": "stdout",
     "output_type": "stream",
     "text": [
      "Squirtle is a Water type Pokémon introduced in Generation 1. Squirtle is a bipedal, reptilian Pokémon. It has a blue body with purple eyes, a light brown belly, and a tough red-brown shell on its back. It has a long tail that curls into a spiral.\n",
      "Bulbasaur is a Grass/Poison type Pokémon introduced in Generation 1. Bulbasaur is a small, mainly turquoise amphibian Pokémon with red eyes and a green bulb on its back. It is based on a frog/toad, with the bulb resembling a plant bulb that grows into a flower as it evolves.\n",
      "Charmander is a Fire type Pokémon introduced in Generation 1. Charmander is a bipedal, reptilian Pokémon. Most of its body is colored orange, while its underbelly is light yellow and it has blue eyes. It has a flame at the end of its tail, which is said to signify its health.\n"
     ]
    }
   ],
   "source": [
    "main('Squirtle', 'Bulbasaur', 'Charmander')"
   ]
  },
  {
   "cell_type": "markdown",
   "metadata": {},
   "source": [
    "<br>\n",
    "\n",
    "### Články IDNES\n",
    "---"
   ]
  },
  {
   "cell_type": "markdown",
   "metadata": {},
   "source": [
    "Napiš skript, který postahuje všechny aktuální články na zadané *webové adrese*.\n",
    "\n",
    "Ukázka po spuštění:\n",
    "```\n",
    "python ukol_lekce09.py\n",
    " 1. Ukrajinci plánovali větší ofenzivu. Ale Američané je vyzvali, aby ji omezili\n",
    " 2. Učitel: Kázeň, dřina a dril na školy patří. Řád je efektivní, nejde si jen hrát\n",
    " 3. Generálu Pavlovi radí s krizí nový tým expertů. Vede ho exguvernér ČNB Tůma\n",
    " ...\n",
    "```\n",
    "\n",
    "**Poznámka,** texty článků se mohou samozřejmě lišit."
   ]
  },
  {
   "cell_type": "code",
   "execution_count": 11,
   "metadata": {},
   "outputs": [
    {
     "name": "stdout",
     "output_type": "stream",
     "text": [
      "1 Čas letí a už je bohužel pozdě, říká o návratu Golden Kids Vondráčková\n",
      "2 Dědečkovi spadl lék do dortu. Tak se Valijevová hájila u arbitráže\n",
      "3 Bahbouh, dveře k vlivným. Kdo je podnikatel z „Fialovy“ kampeličky\n",
      "4 Ruskou továrnou na rakety otřásla obří exploze. Plánovaný test, tvrdí úřady\n",
      "5 Cuká to se mnou. Soukalová o soše Sebelásce, lekcích zpěvu i velké škole\n",
      "6 {NADPIS reklamního článku dlouhý přes dva řádky}\n",
      "7 Sex scény? Podzimková měla dublérku, říká Měcháček o seriálu Sedm schodů k moci\n",
      "8 Tajná dovolená prezidenta Pavla. Hrad mlčí, měl by být s ochrankou ve Španělsku\n",
      "9 OBRAZEM: Déšť, plné tribuny, zlato Francie i české zklamání. Jak začalo MS v biatlonu\n",
      "10 KLDR ruší ekonomickou spolupráci s Jižní Koreou. Usmíření je nemožné, řekl Kim\n",
      "11 Za nižšími cenami do Tamdy. Ve vietnamském obchoďáku nakupuje stále víc Ústečanů\n",
      "12 Osudoví muži Věry Křesadlové. Forman mého nového partnera ocenil, vzpomíná\n",
      "13 Jednoduchý dům si rodina postavila v Dobříši. Je neuvěřitelně prostorný\n",
      "14 Nenápadné chytré hodinky od populární značky nabídnou nadstandardní výbavu\n",
      "15 {NADPIS reklamního článku dlouhý přes dva řádky}\n",
      "16 KVÍZ: Jde se do boje. Jak dobře znáte film Harry Potter a Fénixův řád?\n",
      "17 Tipy na výhodné jarní prázdniny: Jak zažít Prahu luxusně\n",
      "18 POHLED: Marná sláva? České hvězdičky zhasínají. V NHL je srazily chyby i pech\n",
      "19 Zohyzdili jí tvář. Pochybný institut provádí zákroky, které má dělat jen lékař\n",
      "20 Za pět let 35 nehod. Banální křižovatky se stopkou dělají řidičům problémy\n",
      "21 Dáváte ruce pryč od průšvihu, tepe Babiš vládu kvůli migračnímu paktu\n",
      "22 Muž se ve firmě chlubil dvěma granáty, v areálu Škodovky zasahuje pyrotechnik\n",
      "23 Největší hrozbou jsou ruský imperialismus a Trumpův vztah k NATO, míní Lipavský\n",
      "24 ANALÝZA: Jak nepohodlný kandidát Naděždin boří Putinovi jeho plány\n",
      "25 Další rána pro Boeing na obzoru: zaměstnanci budou chtít 40% zvýšení platů\n",
      "26 Zemřela vývojářka Laralyn McWilliamsová, světu dala Full Spectrum Warrior\n",
      "27 Měla přes čtyřicet plastik, operace žena miluje\n",
      "28 Láska i nenávist až za hrob. Vybíráme nejikoničtější dvojice z videoher\n",
      "29 Je mi blbé, že jsme na dávkách, ale co máme dělat, řekla vyměněná manželka\n",
      "30 Jak vypadá moderní škola, kam by rád chodil Einstein i Pohlreich\n",
      "31 Proslavil ho zpěv o kukuřici, má za sebou sexuální skandál a chtěl do politiky. Teď Adrian Figa zpívá o Rytmusovi\n",
      "32 Nenáročná pokojovka, která vám bohatě pokvete. Péči o sukulent zvládnete\n",
      "33 Nej letecké linky jsou jako autobus. Létají co pět minut a stojí od 300 korun\n",
      "34 Nenápadné chytré hodinky od populární značky nabídnou nadstandardní výbavu\n",
      "35 Skláním se přede všemi, kdo mi pomohli, říká Munzarová po smrti matky\n",
      "36 Je těžké se se mnou hádat. Adéla Elbel o sprostých slovech i focení pro Playboy\n",
      "37 Taylor Swift chce žalovat studenta, který zveřejňuje polohu jejího letadla\n",
      "38 Havlova značka dostane novou krev. Převlečená corsa oživí italské zombie\n",
      "39 KVÍZ: Vyznáte se v televizorech, nebo vás prodejce může vodit za nos?\n",
      "40 Devadesátník má kondici čtyřicátníka. Vědě ukazuje, jak lze stárnout\n",
      "41 Jislová: Hůlky se boří, stojí to hodně sil. Možná si je příště rozvrhnu jinak\n",
      "42 Záhadný turnaj legend: Měli spolu hrát Kaká i Ronaldinho, stopy se ale ztrácejí\n",
      "43 Mrázek držel Chicago ve hře, Toronto uspělo v přestřelce s Dallasem\n",
      "44 POHLED: Marná sláva? České hvězdičky zhasínají. V NHL je srazily chyby i pech\n",
      "45 Alves končil v slzách, u soudu popíral obvinění ze znásilnění\n",
      "46 Pohoda Clevelandu trvá, Mitchell pomohl 40 body. Clippers v NBA překvapivě padli\n",
      "47 Zájem o hypotéky pomalu ožívá. Není na co čekat, nakupujte nyní, radí experti\n",
      "48 Přihlášky fungují lépe, než jsem čekal, říká ministr Bek o problémech systému\n",
      "49 Kdo zabil nevěstu? Detektivka 1794 - Tři růže v audioknize zdarma\n",
      "50 Bestseller Zdivočelá země jako audiokniha: pořiďte si ji zdarma\n",
      "51 Armáda kupuje balíčky jídla pro vojáky v poli. Málo pestré, hodnotí Cajthamlová\n",
      "52 KOMENTÁŘ: Rodič 1 a rodič 2. Z novinky v rodném listu budou ještě mrzutosti\n",
      "53 Fotbalové jaro startuje. Vyhrajte vstupenky na zápasy Sparty, či Slavie\n",
      "54 „Rozmohl se nám takový nešvar“ aneb děti v posilovně\n",
      "55 Jak mi dcera odehnala partnera\n",
      "56 Něco nám žere elektřinu!\n",
      "57 Stíhačky za 150 miliard, tričko za 1968 korun, Fialova vláda z levného kraje není\n",
      "58 Konečně ukázala tajného přítele\n",
      "59 Příběh ukradených hodinek a zrada za půl mega!\n",
      "60 Nosek na večeři s novou partnerkou\n",
      "61 Losos není maso! tvrdí Pamela z Prostřena. Hostům ukázala fejkový luxus\n",
      "62 Maturitní ples Korduly Stropnické\n",
      "63 Havel měl rád Dášu přirozenou, Pavlová za mnou přišla před volbami, říká kadeřnice prvních dam\n"
     ]
    }
   ],
   "source": [
    "import requests\n",
    "from bs4 import BeautifulSoup\n",
    "\n",
    "url = \"https://www.idnes.cz/\"\n",
    "\n",
    "# získat zdrojový soubor HTML\n",
    "odpoved_idnes = requests.get(url)  # \"models.Response\"\n",
    "\n",
    "# rozdělit zdrojový soubor\n",
    "soup = BeautifulSoup(odpoved_idnes.text, features=\"html.parser\")\n",
    "\n",
    "# najít hledané články\n",
    "vsechny_a_tagy_artlink = soup.find_all(\"a\", {\"class\": \"art-link\"})\n",
    "\n",
    "# zpracovat: print(), csv, href\n",
    "for index, clanek in enumerate(vsechny_a_tagy_artlink, 1):\n",
    "    print(index,\n",
    "          # clanek.attrs.get(\"href\"),\n",
    "          clanek.get_text().strip())"
   ]
  },
  {
   "cell_type": "markdown",
   "metadata": {},
   "source": [
    "<br>\n",
    "\n",
    "<a href='https://forms.gle/w3zjiuQTWhBV5oyx6' target='_blank'>Rychlý dotazníček po lekci</a>"
   ]
  },
  {
   "cell_type": "markdown",
   "metadata": {},
   "source": [
    "---"
   ]
  }
 ],
 "metadata": {
  "kernelspec": {
   "display_name": "Python 3 (ipykernel)",
   "language": "python",
   "name": "python3"
  },
  "language_info": {
   "codemirror_mode": {
    "name": "ipython",
    "version": 3
   },
   "file_extension": ".py",
   "mimetype": "text/x-python",
   "name": "python",
   "nbconvert_exporter": "python",
   "pygments_lexer": "ipython3",
   "version": "3.12.3"
  }
 },
 "nbformat": 4,
 "nbformat_minor": 4
}
