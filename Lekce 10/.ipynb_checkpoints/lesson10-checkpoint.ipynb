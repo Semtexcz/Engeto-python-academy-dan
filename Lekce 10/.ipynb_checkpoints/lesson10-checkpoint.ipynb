{
 "cells": [
  {
   "cell_type": "markdown",
   "metadata": {},
   "source": [
    "# Python akademie\n",
    "\n",
    "---\n",
    "\n",
    "<br>\n",
    "\n",
    "## Obsah lekce\n",
    "---\n",
    "\n",
    "1. [Úvod do chyb](#Úvod-do-chyb),\n",
    "2. [Druhy chyb](#Druhy-chyb),\n",
    "3. [Odchytávání výjimek](#Odchytávání-výjimek),\n",
    "4. [Debugování](#Debugování),\n",
    "\n",
    "---"
   ]
  },
  {
   "cell_type": "markdown",
   "metadata": {},
   "source": [
    "<br>\n",
    "\n",
    "<img src=\"https://external-content.duckduckgo.com/iu/?u=https%3A%2F%2Ftse1.mm.bing.net%2Fth%3Fid%3DOIP.iyRtgmUPNPU7-T9k3gdF6gHaHa%26pid%3DApi&f=1&ipt=830e70c5fb64bc9c6ee474185a2c94132c6c4580e63315751b258bc3e61ba233&ipo=images\" width=\"150\" style=\"margin-left:auto; margin-right:auto\">"
   ]
  },
  {
   "cell_type": "markdown",
   "metadata": {},
   "source": [
    "## Úvod do chyb\n",
    "\n",
    "---"
   ]
  },
  {
   "cell_type": "markdown",
   "metadata": {},
   "source": [
    "**Chybu může udělat každý**. Programátory, analytiky, obecně pythonisty nevyjímaje.\n",
    "\n",
    "Pokud uděláš chybu, *interpret* ji při spuštění:\n",
    "* vystopuje,\n",
    "* pozná,\n",
    "* zatřídí."
   ]
  },
  {
   "cell_type": "markdown",
   "metadata": {},
   "source": [
    "Jelikož chybu udělá programátor pouze výjimečně, určitě si také uslyšíš označení **výjimka** (z angl. *exception*)."
   ]
  },
  {
   "cell_type": "markdown",
   "metadata": {},
   "source": [
    "<br>\n",
    "\n",
    "Velmi obecně, pokud uděláš chybu, můžou nastat tyto situace:\n",
    "1. Program **zcela selže** (doprovázeno výjimkami),\n",
    "2. program se **nechová podle očekávání** (doprovázeno debugováním)."
   ]
  },
  {
   "attachments": {},
   "cell_type": "markdown",
   "metadata": {},
   "source": [
    "Jiné rozdělení (exaktnější) můžeš aplikovat **na průběh tvého programu**:\n",
    "1. **Syntaktické chyby**, nedodržení předpisu jazyka Python (způsobí *výjimku*),\n",
    "2. **Běhové chyby**, chyba se projeví až při interpretování našeho zápisu (způsobí *výjimku*),\n",
    "3. **Logické chyby**, kód funguje jinak než bylo zamýšleno (musíš *debugovat*).\n",
    "\n",
    "\n",
    "\n",
    "<img src=\"https://cdn.dribbble.com/users/1692681/screenshots/10226579/bugs_icons_4x.jpg\" width=\"500\" style=\"margin-left:auto; margin-right:auto\">\n",
    "\n"
   ]
  },
  {
   "cell_type": "markdown",
   "metadata": {},
   "source": [
    "### Co je Traceback\n",
    "\n",
    "**Traceback** je zpráva, kterou Python zobrazí při chybě. Pomáhá najít místo a příčinu chyby v kódu.\n",
    "\n",
    "---\n",
    "\n",
    "#### Struktura Tracebacku\n",
    "\n",
    "1. **Cesta k chybě**:\n",
    "   - Postup Pythonu, který vedl k chybě.\n",
    "   - Uvádí funkce a soubory, kterými Python procházel.\n",
    "\n",
    "2. **Typ chyby**:\n",
    "   - Typ chyby na konci tracebacku, např. `TypeError`, `NameError`.\n",
    "\n",
    "3. **Popis chyby**:\n",
    "   - Krátký popis, co se pokazilo (např. „unsupported operand type(s) for +: 'int' and 'str'“).\n",
    "\n",
    "---\n",
    "\n",
    "#### Příklad Tracebacku\n",
    "\n",
    "Kód s chybou:"
   ]
  },
  {
   "cell_type": "code",
   "execution_count": null,
   "metadata": {},
   "outputs": [],
   "source": [
    "def vrat_polovinu(cislo):\n",
    "    return cislo / 2\n",
    "\n",
    "print(vrat_polovinu(\"deset\"))\n"
   ]
  },
  {
   "cell_type": "markdown",
   "metadata": {},
   "source": [
    "---\n",
    "\n",
    "#### Jak číst Traceback\n",
    "\n",
    "1. **Nejvyšší řádek**: Začátek chyby, zde `print(vrat_polovinu(\"deset\"))`.\n",
    "2. **Prostřední řádky**: Kroky, kterými Python prošel.\n",
    "3. **Poslední řádek**: Typ chyby a popis – zde `TypeError: unsupported operand type(s) for /: 'str' and 'int'`.\n",
    "\n",
    "---\n",
    "\n",
    "#### Proč je Traceback užitečný?\n",
    "\n",
    "- Rychlá identifikace chyby a její příčiny.\n",
    "- Sledováním tracebacku lze pochopit, kde program nefunguje, což je klíčové pro opravu.\n",
    "\n",
    "---\n",
    "\n",
    "> **Tip**: Zaměřte se na poslední řádek tracebacku – typ chyby a popis často rychle napoví, co opravit."
   ]
  },
  {
   "cell_type": "markdown",
   "metadata": {},
   "source": [
    "## Druhy chyb\n",
    "\n",
    "---\n",
    "\n",
    "<br>\n",
    "\n",
    "### Syntaktické chyby\n",
    "\n",
    "---\n",
    "\n",
    "Čím více **řádků kódu napíšeš**, tím více se s těmito chybami setkáš."
   ]
  },
  {
   "cell_type": "code",
   "execution_count": null,
   "metadata": {},
   "outputs": [],
   "source": [
    "if \"@\" in \"matous@matous.cz\"\n",
    "    print(\"Pravda\")\n",
    "else:\n",
    "    print(\"Neni pravda\")"
   ]
  },
  {
   "cell_type": "code",
   "execution_count": null,
   "metadata": {},
   "outputs": [],
   "source": [
    "if \"@\" in \"matous@matous.cz\":\n",
    "    print(\"Pravda\")\n",
    "else:\n",
    "    print(\"Neni pravda\")"
   ]
  },
  {
   "cell_type": "markdown",
   "metadata": {},
   "source": [
    "V ukázce výše je nějaký problém.\n",
    "\n",
    "*Interpret* se snaží pomoci, ale ne vždy je to pro něj jednoduché.\n",
    "\n",
    "Proto existuje celá řada **statických zvýrazňovačů** a pomůcek, které umí tyto problémy včas odhalit:\n",
    "1. [pylint](https://pypi.org/project/pylint/),\n",
    "2. [flake8](https://flake8.pycqa.org/en/latest/).\n",
    "\n",
    "Pokud používáš **editor**, nebo **IDE**, vyzkoušej, jestli už neobsahují podobný zabudovaný **zvýraznovač** (z angl. *linter*).\n",
    "\n",
    "Právě takového pomůcky dovedu rozeznat chybný zápis **již na počátku**.\n",
    "\n",
    "Proto by takový nástroj měl být **základní pracovní pomůckou** každého programátora."
   ]
  },
  {
   "cell_type": "markdown",
   "metadata": {},
   "source": [
    "#### Linter (statický zvýrazňovač)\n",
    "Linter je nástroj pro analýzu kódu, který:\n",
    "\n",
    "- Detekuje chyby: Odhaluje syntaktické chyby a potenciální problémy v kódu.\n",
    "- Kontroluje styl: Zajišťuje dodržování stylu kódování podle předem definovaných pravidel (např. PEP8 pro Python).\n",
    "- Zlepšuje čitelnost: Pomáhá udržovat konzistentní a čitelný kód.\n",
    "- Nabízí doporučení: Poskytuje návrhy pro lepší psaní kódu a zvyšuje efektivitu vývoje.\n",
    "- Automaticky opravuje: Některé lintery umí automaticky opravit základní chyby ve formátování.\n"
   ]
  },
  {
   "cell_type": "code",
   "execution_count": null,
   "metadata": {},
   "outputs": [],
   "source": [
    "%%file linter_demo.py\n",
    "\n",
    "def  addNumbers( a,b ):\n",
    "    result = a + b \n",
    "    print( \"Sum is:\",result )\n",
    "\n",
    "def main( ):\n",
    "  print( \"Starting program...\" )\n",
    "  addNumbers(2 ,3)\n",
    "  addNumbers(4 , 5)\n",
    "  addNumbers(6, 7)\n",
    "  \n",
    "main()\n"
   ]
  },
  {
   "cell_type": "code",
   "execution_count": null,
   "metadata": {},
   "outputs": [],
   "source": [
    "%pip install pylint"
   ]
  },
  {
   "cell_type": "code",
   "execution_count": null,
   "metadata": {},
   "outputs": [],
   "source": [
    "!pylint linter_demo.py"
   ]
  },
  {
   "cell_type": "markdown",
   "metadata": {},
   "source": [
    "**Linter** jen poukazuje na chyby, co když chci automaticky chyby opravit.\n",
    "\n",
    "Na to jsou formátovače (formatters). Jedním takovým je **black**"
   ]
  },
  {
   "cell_type": "code",
   "execution_count": null,
   "metadata": {},
   "outputs": [],
   "source": [
    "%pip install black"
   ]
  },
  {
   "cell_type": "code",
   "execution_count": null,
   "metadata": {},
   "outputs": [],
   "source": [
    "!black linter_demo.py"
   ]
  },
  {
   "attachments": {
    "image.png": {
     "image/png": "[encoded data removed]"
    }
   },
   "cell_type": "markdown",
   "metadata": {},
   "source": [
    "**Extension do VS Code**\n",
    "\n",
    "![image.png](attachment:image.png)"
   ]
  },
  {
   "cell_type": "markdown",
   "metadata": {},
   "source": [
    "<br>\n",
    "\n",
    "### Běhové chyby\n",
    "\n",
    "---\n",
    "\n",
    "S **běhovou chybou** se setkáš v průběhu programu.\n",
    "\n",
    "Pokud tvůj zápis **dostatečně neošetříš**, může fungovat většinu času, ale **ne pokaždé**:"
   ]
  },
  {
   "cell_type": "code",
   "execution_count": null,
   "metadata": {},
   "outputs": [],
   "source": [
    "def vrat_polovinu(cislo: int) -> float:\n",
    "    return cislo / 2"
   ]
  },
  {
   "cell_type": "code",
   "execution_count": null,
   "metadata": {},
   "outputs": [],
   "source": [
    "for cislo in (1, 2, 3, 4, 5):\n",
    "    print(vrat_polovinu(cislo))"
   ]
  },
  {
   "cell_type": "markdown",
   "metadata": {},
   "source": [
    "<br>\n",
    "\n",
    "Program klidně může fungovat pro naprostou většinu **běžných scénářů**."
   ]
  },
  {
   "cell_type": "code",
   "execution_count": null,
   "metadata": {},
   "outputs": [],
   "source": [
    "for cislo in (1, 2, \"3\", 4, 5):\n",
    "    print(vrat_polovinu(cislo))"
   ]
  },
  {
   "cell_type": "markdown",
   "metadata": {},
   "source": [
    "Nicméně ne pokaždé.\n",
    "\n",
    "V některých krajních případech, může být průběh přerušený **výjimkou**.\n",
    "\n",
    "Tento typ chyb již **není tak triviální**. Přesto existují různé postupy, jak se výjimkám vyvarovat:\n",
    "1. *Type hints*,\n",
    "2. *mypy*,\n",
    "3. *unit testy*,\n",
    "4. *odchytávání výjimek* (z angl. *error handling*)."
   ]
  },
  {
   "cell_type": "markdown",
   "metadata": {},
   "source": [
    "#### Typy běhových chyb\n",
    "\n",
    "1. **NameError**\n",
    "   - Pokus o použití proměnné nebo funkce, která není definovaná."
   ]
  },
  {
   "cell_type": "code",
   "execution_count": null,
   "metadata": {},
   "outputs": [],
   "source": [
    "print(neznam)"
   ]
  },
  {
   "cell_type": "markdown",
   "metadata": {},
   "source": [
    "2. **TypeError**\n",
    "   - Neplatná operace mezi neslučitelnými typy."
   ]
  },
  {
   "cell_type": "code",
   "execution_count": null,
   "metadata": {},
   "outputs": [],
   "source": [
    "\"text\" + 5"
   ]
  },
  {
   "cell_type": "code",
   "execution_count": null,
   "metadata": {},
   "outputs": [],
   "source": [
    "\"text\" + \"5\""
   ]
  },
  {
   "cell_type": "markdown",
   "metadata": {},
   "source": [
    "3. **ValueError**\n",
    "   - Správný typ argumentu, ale nesprávná hodnota."
   ]
  },
  {
   "cell_type": "code",
   "execution_count": null,
   "metadata": {},
   "outputs": [],
   "source": [
    "int(\"abc\")"
   ]
  },
  {
   "cell_type": "code",
   "execution_count": null,
   "metadata": {},
   "outputs": [],
   "source": [
    "int(\"5\")"
   ]
  },
  {
   "cell_type": "markdown",
   "metadata": {},
   "source": [
    "4. **IndexError**\n",
    "   - Přístup k neexistujícímu indexu v seznamu nebo jiném indexovatelném objektu.\n",
    "   "
   ]
  },
  {
   "cell_type": "code",
   "execution_count": null,
   "metadata": {},
   "outputs": [],
   "source": [
    "my_list = [1, 2]\n",
    "print(my_list[5])"
   ]
  },
  {
   "cell_type": "markdown",
   "metadata": {},
   "source": [
    "5. **KeyError**\n",
    "   - Pokus o přístup k neexistujícímu klíči ve slovníku."
   ]
  },
  {
   "cell_type": "code",
   "execution_count": null,
   "metadata": {},
   "outputs": [],
   "source": [
    "my_dict = {\"name\": \"Daniel\"}\n",
    "print(my_dict[\"age\"])"
   ]
  },
  {
   "cell_type": "code",
   "execution_count": null,
   "metadata": {},
   "outputs": [],
   "source": [
    "my_dict = {\"name\": \"Daniel\"}\n",
    "print(my_dict.get(\"age\", 0))"
   ]
  },
  {
   "cell_type": "markdown",
   "metadata": {},
   "source": [
    "6. **AttributeError**\n",
    "   - Přístup k neexistujícímu atributu nebo metodě objektu.\n",
    "   "
   ]
  },
  {
   "cell_type": "code",
   "execution_count": null,
   "metadata": {},
   "outputs": [],
   "source": [
    "my_list = [1, 2]\n",
    "my_list.add(3)"
   ]
  },
  {
   "cell_type": "markdown",
   "metadata": {},
   "source": [
    "7. **ZeroDivisionError**\n",
    "   - Pokus o dělení nulou."
   ]
  },
  {
   "cell_type": "code",
   "execution_count": null,
   "metadata": {},
   "outputs": [],
   "source": [
    "10 / 0"
   ]
  },
  {
   "cell_type": "markdown",
   "metadata": {},
   "source": [
    "8. **ImportError**\n",
    "   - Import modulu, který neexistuje nebo nemůže být nalezen."
   ]
  },
  {
   "cell_type": "code",
   "execution_count": null,
   "metadata": {},
   "outputs": [],
   "source": [
    "import mathů"
   ]
  },
  {
   "cell_type": "markdown",
   "metadata": {},
   "source": [
    "9. **FileNotFoundError**\n",
    "   - Pokus o otevření souboru, který neexistuje."
   ]
  },
  {
   "cell_type": "code",
   "execution_count": null,
   "metadata": {},
   "outputs": [],
   "source": [
    "open(\"non_existent_file.txt\")"
   ]
  },
  {
   "cell_type": "markdown",
   "metadata": {},
   "source": [
    "10. **OverflowError**\n",
    "    - Výsledek matematické operace je mimo rozsah podporovaný typem."
   ]
  },
  {
   "cell_type": "code",
   "execution_count": null,
   "metadata": {},
   "outputs": [],
   "source": [
    "import math\n",
    "math.exp(1000)"
   ]
  },
  {
   "cell_type": "markdown",
   "metadata": {},
   "source": [
    "11. **MemoryError**\n",
    "    - Nedostatek paměti k dokončení operace."
   ]
  },
  {
   "cell_type": "code",
   "execution_count": null,
   "metadata": {},
   "outputs": [],
   "source": [
    "[0] * 10**10"
   ]
  },
  {
   "cell_type": "markdown",
   "metadata": {},
   "source": [
    "12. **RecursionError**\n",
    "    - Překročení maximální hloubky rekurze."
   ]
  },
  {
   "cell_type": "code",
   "execution_count": null,
   "metadata": {},
   "outputs": [],
   "source": [
    "def nekonecna_rekurze():\n",
    "    return nekonecna_rekurze()\n",
    "\n",
    "nekonecna_rekurze()\n"
   ]
  },
  {
   "cell_type": "markdown",
   "metadata": {},
   "source": [
    "#### Mypy\n",
    "\n",
    "- Knihovna mypy je nástroj pro statickou kontrolu typů v Pythonu.\n",
    "- Pomáhá odhalit typové chyby již při vývoji.\n",
    "- Zpřehledňuje kód pomocí typových anotací, zvyšuje jeho čitelnost a usnadňuje údržbu, zejména při refaktoringu."
   ]
  },
  {
   "cell_type": "markdown",
   "metadata": {},
   "source": [
    "**Instalace**"
   ]
  },
  {
   "cell_type": "code",
   "execution_count": null,
   "metadata": {},
   "outputs": [],
   "source": [
    "%pip install mypy"
   ]
  },
  {
   "cell_type": "markdown",
   "metadata": {},
   "source": [
    "**Vytvoření demo souboru**"
   ]
  },
  {
   "cell_type": "code",
   "execution_count": null,
   "metadata": {},
   "outputs": [],
   "source": [
    "%%writefile mypy_demo.py\n",
    "\n",
    "# test_mypy_errors.py\n",
    "\n",
    "from typing import List, Dict, Tuple, Optional, Union, Any, Callable\n",
    "\n",
    "# 1. Nesprávný návratový typ\n",
    "def add(a: int, b: int) -> int:\n",
    "    return str(a + b)  # Chyba: Funkce má vracet int, ale vrací str\n",
    "\n",
    "# 2. Chybná anotace proměnné\n",
    "age: str = 25  # Chyba: Typ age je anotován jako str, ale přiřazeno je int\n",
    "\n",
    "# 3. Špatné typy v seznamu\n",
    "names: List[int] = [\"Alice\", \"Bob\", \"Charlie\"]  # Chyba: Seznam int, ale přiřazen je seznam str\n",
    "\n",
    "# 4. Volitelný typ s nevhodnou kontrolou\n",
    "def greet(name: Optional[str]) -> str:\n",
    "    return \"Hello, \" + name  # Chyba: name může být None, což nelze konkatenovat se str\n",
    "\n",
    "# 5. Nesprávné typy ve slovníku\n",
    "user_data: Dict[str, int] = {\"name\": \"Daniel\", \"age\": \"30\"}  # Chyba: age má být int, ale je str\n",
    "\n",
    "# 6. Sjednocení typů s chybou\n",
    "def process_data(value: Union[int, str]) -> int:\n",
    "    return value + 10  # Chyba: Union neumožňuje automatickou konverzi str na int\n",
    "\n",
    "# 7. Volání funkce s chybnými typy argumentů\n",
    "def multiply(a: int, b: int) -> int:\n",
    "    return a * b\n",
    "\n",
    "result = multiply(\"5\", 10)  # Chyba: Argument a má být int, ale je str\n",
    "\n",
    "# 8. Callable s nesprávnými typy\n",
    "def operate(func: Callable[[int, int], int], x: int, y: int) -> int:\n",
    "    return func(x, y)\n",
    "\n",
    "def invalid_func(a: str, b: str) -> str:\n",
    "    return a + b\n",
    "\n",
    "operate(invalid_func, 5, 10)  # Chyba: invalid_func má špatné typy argumentů i návratový typ\n",
    "\n",
    "# 9. Použití `Any` bez jasného určení typu\n",
    "data: Any = \"Hello\"\n",
    "number: int = data  # Chyba: mypy odhalí, že data může být libovolného typu\n",
    "\n",
    "# 10. Typový alias s chybným přiřazením\n",
    "UserData = Dict[str, str]\n",
    "user: UserData = {\"id\": 1, \"name\": \"Alice\"}  # Chyba: id má být str, ale je int\n",
    "\n",
    "# 11. Typový alias pro n-tice s nesprávným typem\n",
    "Point = Tuple[int, int]\n",
    "location: Point = (1.5, 2.5)  # Chyba: Tuple má mít int, ale má float\n",
    "\n",
    "# 12. Zanedbání typu None u návratového typu Optional\n",
    "def find_user(user_id: int) -> Optional[str]:\n",
    "    return None\n",
    "\n",
    "user = find_user(1) + \" found\"  # Chyba: find_user může vracet None, nelze přidat k str\n",
    "\n",
    "# 13. Typy přiřazené špatně u parametrů funkce\n",
    "def divide(a: int, b: int) -> float:\n",
    "    return a / b\n",
    "\n",
    "result = divide(10, \"2\")  # Chyba: b má být int, ale je str\n",
    "\n",
    "# 14. Nesprávné volání funkce s Optional\n",
    "def process_name(name: Optional[str]) -> str:\n",
    "    return name.upper()  # Chyba: name může být None\n",
    "\n",
    "# 15. Chybný typový alias se seznamem\n",
    "IntList = List[int]\n",
    "numbers: IntList = [1, 2, \"3\", 4]  # Chyba: Seznam má obsahovat pouze int, ale obsahuje str\n",
    "\n",
    "# 16. Funkce s chybným návratovým typem\n",
    "def get_number() -> int:\n",
    "    return \"42\"  # Chyba: Funkce má vracet int, ale vrací str\n",
    "\n",
    "# 17. Chybný typ při inicializaci třídy\n",
    "class Car:\n",
    "    def __init__(self, speed: int) -> None:\n",
    "        self.speed = speed\n",
    "\n",
    "my_car = Car(\"fast\")  # Chyba: speed má být int, ale je str\n",
    "\n",
    "# 18. Kombinace Optional a Union s nevhodným typem\n",
    "def get_age(age: Union[int, None]) -> int:\n",
    "    return age  # Chyba: age může být None, což nelze přiřadit k int\n",
    "\n",
    "# 19. Nesprávné volání Callable s typem návratu\n",
    "def apply_operation(func: Callable[[int, int], str], x: int, y: int) -> str:\n",
    "    return func(x, y)\n",
    "\n",
    "def add_ints(a: int, b: int) -> int:\n",
    "    return a + b\n",
    "\n",
    "result = apply_operation(add_ints, 5, 10)  # Chyba: add_ints má špatný návratový typ\n",
    "\n",
    "# 20. Kombinace typů s chybou\n",
    "def concatenate(x: Union[int, str], y: Union[int, str]) -> str:b\n",
    "    return x + y  # Chyba: mypy neví, jak provést součet pro int + str\n",
    "\n"
   ]
  },
  {
   "cell_type": "code",
   "execution_count": null,
   "metadata": {},
   "outputs": [],
   "source": [
    "!mypy mypy_demo.py"
   ]
  },
  {
   "cell_type": "markdown",
   "metadata": {},
   "source": [
    "<br>\n",
    "\n",
    "### Logické chyby\n",
    "\n",
    "---\n",
    "\n",
    "**Logickou chybu** nepoznáš snadno, pakliže vůbec.\n",
    "\n",
    "Program totiž spustíš **bez komplikací**.\n",
    "\n",
    "Teprve až po zevrubné kontrole hodnot, případně výstupu, můžeš vidět nejasnosti:"
   ]
  },
  {
   "cell_type": "code",
   "execution_count": null,
   "metadata": {},
   "outputs": [],
   "source": [
    "x = 3\n",
    "y = 5"
   ]
  },
  {
   "cell_type": "code",
   "execution_count": null,
   "metadata": {},
   "outputs": [],
   "source": [
    "prumer = x + y / 2  # 3 + 5 = 8   ->   8 / 2 -> 4"
   ]
  },
  {
   "cell_type": "code",
   "execution_count": null,
   "metadata": {},
   "outputs": [],
   "source": [
    "print(prumer)"
   ]
  },
  {
   "cell_type": "code",
   "execution_count": null,
   "metadata": {},
   "outputs": [],
   "source": [
    "prumer = (x + y) / 2\n",
    "print(prumer)"
   ]
  },
  {
   "cell_type": "markdown",
   "metadata": {},
   "source": [
    "Bránit se proti takovým chybám, **není jednoduché**.\n",
    "\n",
    "Odhalení často přijde až **na samotné uživatele**.\n",
    "\n",
    "Pomoci můžou:\n",
    "1. *Unit testy*,\n",
    "2. *integrační testy*,\n",
    "3. *přehledná dokumentace*,\n",
    "4. *debugování*."
   ]
  },
  {
   "cell_type": "markdown",
   "metadata": {},
   "source": [
    "### Unit testy s knihovnou Pytest\n",
    "\n",
    "**Unit test**: Automatický test, který testuje velmi malou část kódu tzv. jednotku (unit):\n",
    "\n",
    "- funkce\n",
    "- metoda"
   ]
  },
  {
   "cell_type": "code",
   "execution_count": null,
   "metadata": {},
   "outputs": [],
   "source": [
    "%%file prumer.py\n",
    "\n",
    "def vypocti_prumer_dvou_cisel(x, y):\n",
    "    return x + y / 2"
   ]
  },
  {
   "cell_type": "markdown",
   "metadata": {},
   "source": [
    "**Instalace knihovny Pytest**"
   ]
  },
  {
   "cell_type": "code",
   "execution_count": null,
   "metadata": {},
   "outputs": [],
   "source": [
    "%pip install pytest"
   ]
  },
  {
   "cell_type": "markdown",
   "metadata": {},
   "source": [
    "**Definování jednoduchého testu**"
   ]
  },
  {
   "cell_type": "code",
   "execution_count": null,
   "metadata": {},
   "outputs": [],
   "source": [
    "assert True == True"
   ]
  },
  {
   "cell_type": "code",
   "execution_count": null,
   "metadata": {},
   "outputs": [],
   "source": [
    "assert True == False, \"Chyba\""
   ]
  },
  {
   "cell_type": "code",
   "execution_count": null,
   "metadata": {},
   "outputs": [],
   "source": [
    "%%file test_prumer.py\n",
    "\n",
    "from prumer import vypocti_prumer_dvou_cisel\n",
    "\n",
    "def test_vypocti_prumer_dvou_cisel(): # funkce musí začínat podtržítkem\n",
    "    assert vypocti_prumer_dvou_cisel(3, 5) == 4"
   ]
  },
  {
   "cell_type": "markdown",
   "metadata": {},
   "source": [
    "**Spuštění testů**"
   ]
  },
  {
   "cell_type": "code",
   "execution_count": null,
   "metadata": {},
   "outputs": [],
   "source": [
    "!pytest"
   ]
  },
  {
   "cell_type": "markdown",
   "metadata": {},
   "source": [
    "---\n",
    "\n",
    "❗❗❗ **Pokročilé téma** ❗❗❗: **Využití dekorátorů**"
   ]
  },
  {
   "cell_type": "code",
   "execution_count": null,
   "metadata": {},
   "outputs": [],
   "source": [
    "%%file test_prumer.py\n",
    "import pytest\n",
    "\n",
    "from prumer import vypocti_prumer_dvou_cisel\n",
    "\n",
    "# Parametrizace s několika testovacími případy\n",
    "@pytest.mark.parametrize(\"a, b, expected\", [\n",
    "    (3, 5, 4),      # průměr z 3 a 5 je 4\n",
    "    (10, 20, 15),   # průměr z 10 a 20 je 15\n",
    "    (0, 0, 0),      # průměr z 0 a 0 je 0\n",
    "    (-4, 4, 0),     # průměr z -4 a 4 je 0\n",
    "    (7, 3, 5)       # průměr z 7 a 3 je 5\n",
    "])\n",
    "def test_vypocti_prumer_dvou_cisel(a, b, expected):\n",
    "    assert vypocti_prumer_dvou_cisel(a, b) == expected\n"
   ]
  },
  {
   "cell_type": "code",
   "execution_count": null,
   "metadata": {},
   "outputs": [],
   "source": [
    "!pytest"
   ]
  },
  {
   "cell_type": "markdown",
   "metadata": {},
   "source": [
    "<br>\n",
    "\n",
    "<img src=\"https://external-content.duckduckgo.com/iu/?u=https%3A%2F%2Ftse4.mm.bing.net%2Fth%3Fid%3DOIP.CVj91OGvRBV4UGvUsJrcBgHaHa%26pid%3DApi&f=1&ipt=e774a9aaac10c086f91ae1851f821e46bd798de75021e978f3b24dbb06dc71db&ipo=images\" width=\"150\" style=\"margin-left:auto; margin-right:auto\">\n",
    "\n",
    "## Odchytávání výjimek\n",
    "\n",
    "---"
   ]
  },
  {
   "cell_type": "markdown",
   "metadata": {},
   "source": [
    "*Výjimka* ale nutně neznamená konec světa.\n",
    "\n",
    "Jsou **to objekty** jako každý jiný.\n",
    "\n",
    "Proto s nimi můžeš manipulovat (z angl. *error handling*)."
   ]
  },
  {
   "cell_type": "code",
   "execution_count": null,
   "metadata": {},
   "outputs": [],
   "source": [
    "def vydel_dve_cisla(delenec: int, delitel: int) -> float:\n",
    "    return delenec / delitel"
   ]
  },
  {
   "cell_type": "code",
   "execution_count": null,
   "metadata": {},
   "outputs": [],
   "source": [
    "print(\n",
    "    vydel_dve_cisla(4, 2),\n",
    "    vydel_dve_cisla(14, 7),\n",
    "    vydel_dve_cisla(117, 3),\n",
    "    sep=\"\\n\"\n",
    ")"
   ]
  },
  {
   "cell_type": "markdown",
   "metadata": {},
   "source": [
    "<br>\n",
    "\n",
    "Pokud ovšem zadáš jiný **typ argumentu**:"
   ]
  },
  {
   "cell_type": "code",
   "execution_count": null,
   "metadata": {},
   "outputs": [],
   "source": [
    "print(vydel_dve_cisla(\"4\", 2))"
   ]
  },
  {
   "cell_type": "markdown",
   "metadata": {},
   "source": [
    "<br>\n",
    "\n",
    "A nezapomeň **na nulu**:"
   ]
  },
  {
   "cell_type": "code",
   "execution_count": null,
   "metadata": {},
   "outputs": [],
   "source": [
    "print(vydel_dve_cisla(4, 0))"
   ]
  },
  {
   "cell_type": "markdown",
   "metadata": {},
   "source": [
    "Než na všechny možné i nemožné scénáře psát podmínky a udělátka, je lepší *interpretu* sdělit, že jde o pokus."
   ]
  },
  {
   "cell_type": "markdown",
   "metadata": {},
   "source": [
    "<br>\n",
    "\n",
    "### Try, tedy vyzkoušej\n",
    "\n",
    "---\n",
    "\n",
    "Pro vyzkoušení použij rezervované slovo `try`:"
   ]
  },
  {
   "cell_type": "code",
   "execution_count": null,
   "metadata": {},
   "outputs": [],
   "source": [
    "def vydel_dve_cisla(delenec: int, delitel: int) -> float:\n",
    "    try:\n",
    "        vysledek = delenec / delitel\n",
    "    \n",
    "    return vysledek"
   ]
  },
  {
   "cell_type": "markdown",
   "metadata": {},
   "source": [
    "Pozor, syntaxe **není kompletní**, každým vyzkoušením naznačuješ, že může nastat *výjimka*.\n",
    "\n",
    "Proto je nutné, nachystat se, pokud se skutečně objeví."
   ]
  },
  {
   "cell_type": "markdown",
   "metadata": {},
   "source": [
    "<br>\n",
    "\n",
    "### Try/except\n",
    "\n",
    "---"
   ]
  },
  {
   "cell_type": "markdown",
   "metadata": {},
   "source": [
    "Syntaxi uzavřeš tak, že přidáš větev `except` (podobná struktura jako podmínkové větve):"
   ]
  },
  {
   "cell_type": "code",
   "execution_count": null,
   "metadata": {},
   "outputs": [],
   "source": [
    "def vydel_dve_cisla(delenec: int, delitel: int) -> float:\n",
    "    try:\n",
    "        vysledek = delenec / delitel\n",
    "    \n",
    "    except:\n",
    "        print(\"Nelze vydělit!\")\n",
    "        vysledek = None\n",
    "\n",
    "    return vysledek"
   ]
  },
  {
   "cell_type": "code",
   "execution_count": null,
   "metadata": {},
   "outputs": [],
   "source": [
    "vydel_dve_cisla(4, 0)    # ZeroDivisionError"
   ]
  },
  {
   "cell_type": "code",
   "execution_count": null,
   "metadata": {},
   "outputs": [],
   "source": [
    "vydel_dve_cisla(\"4\", 2)  # TypeError"
   ]
  },
  {
   "cell_type": "code",
   "execution_count": null,
   "metadata": {},
   "outputs": [],
   "source": [
    "print(vydel_dve_cisla(12, 3))"
   ]
  },
  {
   "cell_type": "markdown",
   "metadata": {},
   "source": [
    "Pokud nyní nastane **jakákoliv výjimka**, spustí *interpret* ohlášení ve větvi `except`.\n",
    "\n",
    "Pokud se však výjimka neobjeví, vrátí řádný výsledek."
   ]
  },
  {
   "cell_type": "markdown",
   "metadata": {},
   "source": [
    "```python\n",
    "        vysledek = None\n",
    "```\n",
    "\n",
    "Proměnnou `vysledek` je nutné nachystat pro oba případy, jinak by ji *interpret* neuměl u výjimku vytvořit.\n",
    "\n",
    "Jelikož zápis ve `try` selhal."
   ]
  },
  {
   "cell_type": "markdown",
   "metadata": {},
   "source": [
    "```python\n",
    "    except:\n",
    "        print(\"Nelze vydělit!\")\n",
    "        vysledek = None\n",
    "```\n",
    "\n",
    "**Žádná výjimka** by neměla zůstat implicitně označená.\n",
    "\n",
    "Vždý si proto přesně nachystej, co má tebou zapsaná větev `except` chytat.\n",
    "\n",
    "Pokud nemáš jistotu, použij `except Exception`:"
   ]
  },
  {
   "cell_type": "code",
   "execution_count": null,
   "metadata": {},
   "outputs": [],
   "source": [
    "def vydel_dve_cisla(delenec: int, delitel: int) -> float:\n",
    "    try:\n",
    "        vysledek = delenec / delitel\n",
    "    \n",
    "    except Exception as error:  # trochu lepší řešení\n",
    "        print(\"Nelze vydělit!\")\n",
    "        print(repr(error))\n",
    "        print(type(error))\n",
    "        print(error)\n",
    "        # print(dir(error))\n",
    "        vysledek = None\n",
    "\n",
    "    return vysledek"
   ]
  },
  {
   "cell_type": "code",
   "execution_count": null,
   "metadata": {},
   "outputs": [],
   "source": [
    "print(vydel_dve_cisla(4, 2))"
   ]
  },
  {
   "cell_type": "code",
   "execution_count": null,
   "metadata": {},
   "outputs": [],
   "source": [
    "print(vydel_dve_cisla(4, 0))"
   ]
  },
  {
   "cell_type": "code",
   "execution_count": null,
   "metadata": {},
   "outputs": [],
   "source": [
    "vydel_dve_cisla(\"4\", 1)"
   ]
  },
  {
   "cell_type": "markdown",
   "metadata": {},
   "source": [
    "Pokud víš, co chceš chytat za výjimky, vypiš je:"
   ]
  },
  {
   "cell_type": "code",
   "execution_count": null,
   "metadata": {},
   "outputs": [],
   "source": [
    "def vydel_dve_cisla(delenec: int, delitel: int) -> float:\n",
    "    try:\n",
    "        vysledek = delenec / delitel\n",
    "    \n",
    "    except (TypeError, ZeroDivisionError):  # neúplně perfektní!\n",
    "        print(\"Nelze vydělit!\")\n",
    "        vysledek = None\n",
    "\n",
    "    return vysledek"
   ]
  },
  {
   "cell_type": "code",
   "execution_count": null,
   "metadata": {},
   "outputs": [],
   "source": [
    "print(vydel_dve_cisla(4, 2))"
   ]
  },
  {
   "cell_type": "code",
   "execution_count": null,
   "metadata": {},
   "outputs": [],
   "source": [
    "print(vydel_dve_cisla(4, 0))"
   ]
  },
  {
   "cell_type": "code",
   "execution_count": null,
   "metadata": {},
   "outputs": [],
   "source": [
    "print(vydel_dve_cisla(\"4\", 1))"
   ]
  },
  {
   "cell_type": "markdown",
   "metadata": {},
   "source": [
    "Pokud potřebuješ pro oba výjimkové scénáře různé průběhy, větví `except` můžeš mít více:"
   ]
  },
  {
   "cell_type": "code",
   "execution_count": null,
   "metadata": {},
   "outputs": [],
   "source": [
    "def vydel_dve_cisla(delenec: int, delitel: int) -> float:\n",
    "    try:\n",
    "        vysledek = delenec / delitel\n",
    "    \n",
    "    except TypeError:\n",
    "        print(f\"Nelze vydělit zadaný datový typ! {type(delenec)} nebo {type(delitel)}\")\n",
    "        vysledek = None\n",
    "    except ZeroDivisionError:\n",
    "        print(\"Nelze dělit nulou!\")\n",
    "        vysledek = None\n",
    "\n",
    "    return vysledek"
   ]
  },
  {
   "cell_type": "code",
   "execution_count": null,
   "metadata": {},
   "outputs": [],
   "source": [
    "vydel_dve_cisla(4, 2)"
   ]
  },
  {
   "cell_type": "code",
   "execution_count": null,
   "metadata": {},
   "outputs": [],
   "source": [
    "vydel_dve_cisla(4, 0)"
   ]
  },
  {
   "cell_type": "code",
   "execution_count": null,
   "metadata": {},
   "outputs": [],
   "source": [
    "vydel_dve_cisla(\"4\", 1)"
   ]
  },
  {
   "cell_type": "code",
   "execution_count": null,
   "metadata": {},
   "outputs": [],
   "source": [
    "vydel_dve_cisla(4)"
   ]
  },
  {
   "cell_type": "markdown",
   "metadata": {},
   "source": [
    "Obvykle však bývá přehlednější zkoušet **v jeden moment** (výraze), **jeden proces**."
   ]
  },
  {
   "cell_type": "markdown",
   "metadata": {},
   "source": [
    "<br>\n",
    "\n",
    "### try/except/else\n",
    "\n",
    "---\n",
    "\n",
    "Často se **na třetí větev** zapomíná.\n",
    "\n",
    "Slouží k tomu, ať máš kam napsat následná ohlášení, která potřebuješ potom, co úspěšně vyzkoušíš kus kódu.\n",
    "\n",
    "Tedy nechat větev `try` a její obsah, **co nejstručnější**:"
   ]
  },
  {
   "cell_type": "code",
   "execution_count": null,
   "metadata": {},
   "outputs": [],
   "source": [
    "def vydel_dve_cisla(delenec: int, delitel: int) -> float:\n",
    "    try:\n",
    "        vysledek = delenec / delitel\n",
    "\n",
    "    except TypeError:\n",
    "        print(\"Nelze vydělit zadaný datový typ!\")\n",
    "        vysledek = None\n",
    "    except ZeroDivisionError:\n",
    "        print(\"Nelze dělit nulou!\")\n",
    "        vysledek = None\n",
    "    else:\n",
    "        print(\"Úspěšné dělení obou argumentů\")\n",
    "        print(vysledek)"
   ]
  },
  {
   "cell_type": "code",
   "execution_count": null,
   "metadata": {},
   "outputs": [],
   "source": [
    "vydel_dve_cisla(4, 2)"
   ]
  },
  {
   "cell_type": "code",
   "execution_count": null,
   "metadata": {},
   "outputs": [],
   "source": [
    "vydel_dve_cisla(4, 0)"
   ]
  },
  {
   "cell_type": "code",
   "execution_count": null,
   "metadata": {},
   "outputs": [],
   "source": [
    "vydel_dve_cisla(\"4\", 1)"
   ]
  },
  {
   "cell_type": "markdown",
   "metadata": {},
   "source": [
    "<br>\n",
    "\n",
    "### 🧠 CVIČENÍ 🧠, Vyzkoušej si práci s *handlováním výjimek*:"
   ]
  },
  {
   "cell_type": "markdown",
   "metadata": {},
   "source": [
    "Vytvoř funkci `vrat_zemi_objednavky`, která přijímá parametr typu slovníku s vnořenými strukturami.\n",
    "1. Funkce vrací buď hodnotu typu `str` představující zemi objednávky, nebo `None` při neúspěšném zpracování.\n",
    "1. Funkce má primárně vyhledat klíč `channel` ve slovníku a získat jeho hodnotu.\n",
    "1. Hodnota nalezená u klíče `channel` má být zpracována tak, aby se rozdělila podle mezery, přičemž vrátí zemi jako dvouznakový kód. Například z hodnoty 'eshop CZ' vrátí 'CZ'.\n",
    "1. Funkce má ošetřit následující výjimky:\n",
    "    - `KeyError`: pokud klíč 'channel' chybí ve struktuře dat.\n",
    "    - `IndexError`: pokud klíč 'channel' existuje, ale jeho hodnota je prázdná nebo neobsahuje očekávané části pro rozdělení.\n",
    "    - `AttributeError`: pokud hodnota klíče 'channel' nelze zpracovat jako řetězec."
   ]
  },
  {
   "cell_type": "code",
   "execution_count": null,
   "metadata": {},
   "outputs": [],
   "source": []
  },
  {
   "cell_type": "code",
   "execution_count": null,
   "metadata": {},
   "outputs": [],
   "source": [
    "data_1 = {\n",
    "    'order': {\n",
    "        'id': '1234', 'type': 'order.created', 'channel': 'eshop CZ'\n",
    "    }\n",
    "}\n",
    "\n",
    "data_2 = {\n",
    "    'order': {\n",
    "        'id': '1234', 'type': 'order.created', 'channel': ''\n",
    "    }\n",
    "}\n",
    "\n",
    "data_3 = {\n",
    "    'order': {\n",
    "        'id': '1234', 'type': 'order.created'\n",
    "    }\n",
    "}"
   ]
  },
  {
   "cell_type": "code",
   "execution_count": null,
   "metadata": {},
   "outputs": [],
   "source": [
    "# from typing import Dict\n",
    "\n",
    "def vrat_zemi_objenavky(slovnik: dict) -> str | None:\n",
    "    try:\n",
    "        zeme = slovnik[\"order\"][\"channel\"].split()[1]\n",
    "    except (KeyError, IndexError, AttributeError):\n",
    "        zeme = None\n",
    "    return zeme\n",
    "\n",
    "print(vrat_zemi_objenavky(data_1))\n",
    "print(vrat_zemi_objenavky(data_2))\n",
    "print(vrat_zemi_objenavky(data_3))\n"
   ]
  },
  {
   "cell_type": "markdown",
   "metadata": {},
   "source": [
    "Pokud se tedy dostaneš do situace, kdy potřebuješ sadu ohlášení *interpretovat* pouze tehdy, pokud se **výjimka neobjeví**, nezapomeň `else` přidat."
   ]
  },
  {
   "cell_type": "markdown",
   "metadata": {},
   "source": [
    "<details>\n",
    "  <summary>▶️ Klikni zde pro zobrazení řešení</summary>\n",
    "   \n",
    "```python\n",
    "from typing import Dict, Optional\n",
    "\n",
    "NestedDict = Dict[str, Dict[str, Optional[str]]]\n",
    "\n",
    "\n",
    "def vrat_zemi_objednavky(responsed_data: Optional[NestedDict],\n",
    "                         main_key: str = 'channel') -> Optional[str]:\n",
    "    try:\n",
    "        zeme_objednavky = responsed_data['order'][main_key]\n",
    "        iso_kod_zeme = zeme_objednavky.split()[1]\n",
    "    \n",
    "    except KeyError:\n",
    "        print('WARNING: Chybí klíč \"channel\"')\n",
    "        return None\n",
    "    except IndexError:\n",
    "        print('WARNING: Chybí hodnota pro rozdělení.')\n",
    "        return None\n",
    "    except AttributeError:\n",
    "        print('WARNING: Nelze řádně rozdělit hodnotu')\n",
    "        return None\n",
    "    else:\n",
    "        return iso_kod_zeme\n",
    "```\n",
    "</details>"
   ]
  },
  {
   "cell_type": "markdown",
   "metadata": {},
   "source": [
    "<br>\n",
    "\n",
    "### try/except/else/finally\n",
    "\n",
    "---\n",
    "\n",
    "Poslední možností, jak zápis s odchytáváním vylepšit, je větev `finally`."
   ]
  },
  {
   "cell_type": "code",
   "execution_count": null,
   "metadata": {},
   "outputs": [],
   "source": [
    "from typing import Optional\n",
    "\n",
    "def vydel_dve_cisla(delenec: int, delitel: int) -> Optional[float]:\n",
    "    try:\n",
    "        vysledek = delenec / delitel\n",
    "    \n",
    "    except TypeError:\n",
    "        print(\"Nelze vydělit zadaný datový typ!\")\n",
    "        vysledek = None\n",
    "    except ZeroDivisionError:\n",
    "        print(\"Nelze dělit nulou!\")\n",
    "        vysledek = None\n",
    "    else:\n",
    "        print(\"Úspěšně vyděleno..\")\n",
    "        print(delenec, delitel, vysledek, sep=\"\\n\")\n",
    "    finally:\n",
    "        print(\"Ukončuji funkci s dělením.\")\n",
    "        return vysledek"
   ]
  },
  {
   "cell_type": "code",
   "execution_count": null,
   "metadata": {},
   "outputs": [],
   "source": [
    "print(vydel_dve_cisla(4, 2))"
   ]
  },
  {
   "cell_type": "code",
   "execution_count": null,
   "metadata": {},
   "outputs": [],
   "source": [
    "print(vydel_dve_cisla(4, 0))"
   ]
  },
  {
   "cell_type": "code",
   "execution_count": null,
   "metadata": {},
   "outputs": [],
   "source": [
    "print(vydel_dve_cisla(\"4\", 1))"
   ]
  },
  {
   "cell_type": "markdown",
   "metadata": {},
   "source": [
    "Cokoliv, co do ní zapíšeš, bude spuštěno ať už se **výjimka objeví, nebo ne**."
   ]
  },
  {
   "cell_type": "markdown",
   "metadata": {},
   "source": [
    "### Souhrn\n",
    "\n",
    "---\n",
    "\n",
    "Syntaxe *zachytávání výjimek*, `try`, `except`, `else` a `finally` je tedy zápis, který použiješ, pokud se chceš:\n",
    "* vyvarovat se mnoha `if` ohlášením,\n",
    "* **při loggování** různých zpráv,\n",
    "* při komunikaci **s jinými end-pointem** (nejčastěji API).\n",
    "\n",
    "<br>\n",
    "\n",
    "Pokud použiješ tento zápis, zkontroluj si, jaké větve lze použít:\n",
    "1. Tedy nepřetěžovat větev `try` s dlouhým zápisem,\n",
    "2. nepoužívat `except` větve implicitně, ale pro specifické výjimky,\n",
    "3. nevynechávat `else`, pokud má vhodný účel."
   ]
  },
  {
   "cell_type": "code",
   "execution_count": null,
   "metadata": {},
   "outputs": [],
   "source": [
    "def nacti_zahlavi_souboru(obsah_souboru: tuple):\n",
    "    \"\"\"\n",
    "    Vrať první záznam (záhlaví) z obsahu TXT souboru, pokud je k dispozici.\n",
    "    \"\"\"\n",
    "    try:\n",
    "        zahlavi = obsah_souboru[0]\n",
    "        \n",
    "    except IndexError:\n",
    "        zahlavi = list()\n",
    "        print(\"Zadaný objekt nelze indexovat\")\n",
    "    else:\n",
    "        print(\"Záhlaví je k dispozici\")\n",
    "        zahlavi = zahlavi.split() if isinstance(zahlavi, tuple) else zahlavi\n",
    "    finally:\n",
    "        print(\"Vracím rozdělené záhlaví\")\n",
    "        return zahlavi"
   ]
  },
  {
   "cell_type": "code",
   "execution_count": null,
   "metadata": {},
   "outputs": [],
   "source": [
    "nacti_zahlavi_souboru(\n",
    "    (\n",
    "        (\"První řádek \", \"se \", \"záhlavím.\\n\"),\n",
    "        (\"druhý řádek \", \"s \", \"libovolným \", \"textem\\n\")\n",
    "    )\n",
    ")"
   ]
  },
  {
   "cell_type": "code",
   "execution_count": null,
   "metadata": {},
   "outputs": [],
   "source": [
    "nacti_zahlavi_souboru(\n",
    "    ()\n",
    ")"
   ]
  },
  {
   "cell_type": "markdown",
   "metadata": {},
   "source": [
    "<br>\n",
    "\n",
    "<img src=\"https://external-content.duckduckgo.com/iu/?u=https%3A%2F%2Ftse1.mm.bing.net%2Fth%3Fid%3DOIP.vk3rU9vi5NMRqyNhP8HZPQHaHa%26pid%3DApi&f=1&ipt=6aa9fd67b68b37ed47acb0d3b54413c2c450da0bce2a1c847a830974157707b6&ipo=images\" width=\"150\" style=\"margin-left:auto; margin-right:auto\">\n",
    "\n",
    "## Debugování\n",
    "---\n"
   ]
  },
  {
   "cell_type": "markdown",
   "metadata": {},
   "source": [
    "Proces *debugování* je označení, které popisuje odstraňování chyb.\n",
    "\n",
    "Původ slova *ladění*, najdeš u vědkyně [Grace Hopper](https://en.wikipedia.org/wiki/Debugging).\n",
    "\n",
    "V Pythonu to prakticky vypadá tak, že v programu či zápise snažíš:\n",
    "1. Naleznout místo, které **vyvolává výjimku**,\n",
    "2. naleznout místo, které **způsobuje neočekávané chování**."
   ]
  },
  {
   "cell_type": "markdown",
   "metadata": {},
   "source": [
    "<br>\n",
    "\n",
    "### Zadání\n",
    "\n",
    "---"
   ]
  },
  {
   "cell_type": "code",
   "execution_count": null,
   "metadata": {},
   "outputs": [],
   "source": [
    "def formatuj_jmeno(string, symbol: str = \".\"):\n",
    "    \"\"\"\n",
    "    :Example:\n",
    "    >>> formatuj_jmeno(\"marek.parek\")\n",
    "    'Marek'\n",
    "    \"\"\"\n",
    "    jen_jmeno = string.split(symbol)\n",
    "    print(type(jen_jmeno))\n",
    "    print(jen_jmeno)\n",
    "    return \" \".join(jen_jmeno).title()"
   ]
  },
  {
   "cell_type": "code",
   "execution_count": null,
   "metadata": {},
   "outputs": [],
   "source": [
    "def vytvor_pozdrav(jmeno: str, formatovaci_fce: callable) -> str:\n",
    "    \"\"\"\n",
    "    :Example:\n",
    "    >>> vytvor_pozdrav(\"marek.parek\")\n",
    "    'Toto je Marek, zdravíme!'\n",
    "    \"\"\"\n",
    "    return \" \".join((\"Toto je\", \"\".join(formatovaci_fce(jmeno)), \"zdravíme!\"))"
   ]
  },
  {
   "cell_type": "code",
   "execution_count": null,
   "metadata": {},
   "outputs": [],
   "source": [
    "print(vytvor_pozdrav(\"petr.svetr\", formatuj_jmeno))"
   ]
  },
  {
   "cell_type": "markdown",
   "metadata": {},
   "source": [
    "<br>\n",
    "\n",
    "Co nám *interpret* vypsal:\n",
    "* `AttributeError`, tedy typ výjimky, kterému interpret chybu přiřadil,\n",
    "* `Traceback`, postup, odkud chybu stopoval,\n",
    "* `<v_cem> in <kde>`, prostředí, kde se chyba projevila,\n",
    "* `'list' object has no attribute 'title'`, popisek výjimky."
   ]
  },
  {
   "cell_type": "markdown",
   "metadata": {},
   "source": [
    "Vidíš tedy, kde všude *interpret* prošel tvůj zápis a co se mu *nepozdávalo*."
   ]
  },
  {
   "cell_type": "markdown",
   "metadata": {},
   "source": [
    "<br>\n",
    "\n",
    "### Debugování\n",
    "\n",
    "---\n",
    "\n",
    "Nejlepší, co na začátek můžeš provést, je udělat si v situaci jasno.\n",
    "\n",
    "Vědět, s čím máš tu čest.\n",
    "\n",
    "K tomu ti pomůže hned několik zabudovaných funkcí:\n",
    "* `print`,\n",
    "* `type`,\n",
    "* `dir`,\n",
    "* `vars`,\n",
    "* `locals`,\n",
    "* `globals`."
   ]
  },
  {
   "cell_type": "markdown",
   "metadata": {},
   "source": [
    "#### print\n",
    "\n",
    "---\n",
    "\n",
    "Pomocí **jednoduchého výstupu** uvidíš, s čím vůbec pracuješ:"
   ]
  },
  {
   "cell_type": "code",
   "execution_count": null,
   "metadata": {},
   "outputs": [],
   "source": [
    "def formatuj_jmeno(string, symbol: str = \".\"):\n",
    "    \"\"\"\n",
    "    :Example:\n",
    "    >>> rozdel_string(\"marek.parek\")\n",
    "    'Marek'\n",
    "    \"\"\"\n",
    "    jen_jmeno = string.split(symbol)\n",
    "    print(jen_jmeno)                  # doplněná zab. funkce\n",
    "    # return jen_jmeno.title() "
   ]
  },
  {
   "cell_type": "code",
   "execution_count": null,
   "metadata": {},
   "outputs": [],
   "source": [
    "formatuj_jmeno(\"petr.svetr\")"
   ]
  },
  {
   "cell_type": "markdown",
   "metadata": {},
   "source": [
    "<br>\n",
    "\n",
    "Funkce `vars`, `locals`, `globals` tedy není třeba aplikovat.\n",
    "\n",
    "Ze zápisu je patrné, že pracuješ **se správným objektem**."
   ]
  },
  {
   "cell_type": "markdown",
   "metadata": {},
   "source": [
    "#### type\n",
    "\n",
    "Když vidíš, jak hodnoty vypadají, je potřeba ověřit, jak je zpracuje *interpret*:"
   ]
  },
  {
   "cell_type": "code",
   "execution_count": null,
   "metadata": {},
   "outputs": [],
   "source": [
    "def formatuj_jmeno(string, symbol: str = \".\"):\n",
    "    \"\"\"\n",
    "    :Example:\n",
    "    >>> rozdel_string(\"marek.parek\")\n",
    "    'Marek'\n",
    "    \"\"\"\n",
    "    jen_jmeno = string.split(symbol)\n",
    "    print(vars(), locals(), globals(), sep=\"\\n\")\n",
    "    # print(type(jen_jmeno))            # doplněná zab. funkce\n",
    "    # return jen_jmeno.title() "
   ]
  },
  {
   "cell_type": "code",
   "execution_count": null,
   "metadata": {},
   "outputs": [],
   "source": [
    "formatuj_jmeno(\"petr.svetr\")"
   ]
  },
  {
   "cell_type": "markdown",
   "metadata": {},
   "source": [
    "Teď, když znáš datový typ, můžeš zkontrolovat, jestli pracuješ **se správnou metodou**."
   ]
  },
  {
   "cell_type": "markdown",
   "metadata": {},
   "source": [
    "#### dir\n",
    "\n",
    "---\n",
    "\n",
    "Pomocí zab. funkce `dir` ověříš, které metody máš **pro konkrétní objekt** k dispozici:"
   ]
  },
  {
   "cell_type": "code",
   "execution_count": null,
   "metadata": {},
   "outputs": [],
   "source": [
    "def formatuj_jmeno(string, symbol: str = \".\"):\n",
    "    \"\"\"\n",
    "    :Example:\n",
    "    >>> rozdel_string(\"marek.parek\")\n",
    "    'Marek'\n",
    "    \"\"\"\n",
    "    jen_jmeno = string.split(symbol)\n",
    "    print(dir(jen_jmeno))              # doplněná zab. funkce\n",
    "    # return jen_jmeno.title()         # metoda, kterou ve výstupu hledám"
   ]
  },
  {
   "cell_type": "code",
   "execution_count": null,
   "metadata": {},
   "outputs": [],
   "source": [
    "formatuj_jmeno(\"petr.svetr\")"
   ]
  },
  {
   "cell_type": "code",
   "execution_count": null,
   "metadata": {},
   "outputs": [],
   "source": [
    "print('title' in dir(list))"
   ]
  },
  {
   "cell_type": "markdown",
   "metadata": {},
   "source": [
    "<br>\n",
    "\n",
    "Vidíš, že použitou metodu skutečně ve výstupu nenajdeš.\n",
    "\n",
    "Takže hodnoty, které zpracováváš a metody, které k tomu používáš, **nejsou kompatibilní**:"
   ]
  },
  {
   "cell_type": "code",
   "execution_count": null,
   "metadata": {},
   "outputs": [],
   "source": [
    "cele_jmeno = ['petr', 'svetr']"
   ]
  },
  {
   "cell_type": "code",
   "execution_count": null,
   "metadata": {},
   "outputs": [],
   "source": [
    "print(cele_jmeno[0].title())"
   ]
  },
  {
   "cell_type": "markdown",
   "metadata": {},
   "source": [
    "V tento okamžik dovedeš celou situaci **jednoduše replikovat**.\n",
    "\n",
    "To samozřejmě není vždy nutné, ale obzvlášť ze začátku, pomáhá spojovat souvislosti."
   ]
  },
  {
   "cell_type": "code",
   "execution_count": null,
   "metadata": {},
   "outputs": [],
   "source": [
    "def formatuj_jmeno(string, symbol: str = \".\"):\n",
    "    \"\"\"\n",
    "    :Example:\n",
    "    >>> rozdel_string(\"marek.parek\")\n",
    "    'Marek'\n",
    "    \"\"\"\n",
    "    try:\n",
    "        jen_jmeno = string.split(symbol)[0]\n",
    "        \n",
    "    except IndexError:\n",
    "        vystup = string\n",
    "        print(\"Nelze indexovat\")    \n",
    "    except AttributeError:\n",
    "        vystup = string\n",
    "        print(\"Nelze použít zadané metody\")\n",
    "    else:\n",
    "        vystup = jen_jmeno.title()\n",
    "        print(\"Ukládám zadanou hodnotu...\")\n",
    "    finally:\n",
    "        return vystup"
   ]
  },
  {
   "cell_type": "code",
   "execution_count": null,
   "metadata": {},
   "outputs": [],
   "source": [
    "print(formatuj_jmeno(\"petr.svetr\"))"
   ]
  },
  {
   "cell_type": "code",
   "execution_count": null,
   "metadata": {},
   "outputs": [],
   "source": [
    "print(formatuj_jmeno(\"\"))"
   ]
  },
  {
   "cell_type": "code",
   "execution_count": null,
   "metadata": {},
   "outputs": [],
   "source": [
    "print(formatuj_jmeno(None))"
   ]
  },
  {
   "cell_type": "markdown",
   "metadata": {},
   "source": [
    "<br>\n",
    "\n",
    "### Debugování, náročnější situace\n",
    "\n",
    "---\n",
    "\n",
    "Pokud je problém náročnější, pro odhalení, budeš potřebovat silnější nástroj:\n",
    "* knihovna `pdb` (není intuitivní, ale můžeš jej použít všude),\n",
    "* **debugger** součástí editoru/IDE (graficky pohodlné ovládání, ne vždy dostupné)."
   ]
  },
  {
   "cell_type": "markdown",
   "metadata": {},
   "source": [
    "#### Demo: pomocná úloha\n",
    "\n",
    "---\n",
    "\n",
    "Napiš funkci `projdi_vsechny_udaje`, která prochází různé množství zadaných stringů. Procházej pomocí této funkce tak dlouho, dokud nenarazíš na řádek obsahující string `'end'`.\n",
    "Potom proces zastav.\n",
    "\n",
    "Tyto stringy jsou emailové adresy, ze kterých chceš vypsat jméno, příjmení a doménu. Pomocí funkce `rozdel_email` získej vždy první část ze stringu a zbytek. Obě části vrať."
   ]
  },
  {
   "cell_type": "code",
   "execution_count": null,
   "metadata": {},
   "outputs": [],
   "source": [
    "%%file debug_uloha.py\n",
    "def projdi_vsechny_udaje(*emaily):\n",
    "    jmena = set()\n",
    "    \n",
    "    for email in emaily:\n",
    "        if \"end\" in email:\n",
    "            break\n",
    "        jmeno, domena = rozdel_email(email)\n",
    "        jmena.add(jmeno)\n",
    "    return jmena\n",
    "\n",
    "def rozdel_email(email: str) -> list:\n",
    "    return email.split(\"@\")\n",
    "\n",
    "if __name__ == \"__main__\":\n",
    "    projdi_vsechny_udaje(\n",
    "        'petra.fulinova@firma.cz',  # 'petra.fulinova', 'firma.cz'\n",
    "        'adela.vancurova@firma.cz',\n",
    "        'andrea.hertlova@firma.cz',\n",
    "        'petr.vyhnis@firma.cz',\n",
    "        'jan.feckanin@firma.cz',\n",
    "        'pavel.harant@firma.cz',\n",
    "        'zdenka.bendova@firma.cz',\n",
    "        'monika.miczova@firma.cz',\n",
    "        'jan.mosquito@firma.cz',\n",
    "        'barbora.suvova@firma.cz',\n",
    "        'lenka.kafkova@firma.cz',\n",
    "        'nikola.hoffmannova@firma.cz',\n",
    "        'daniela.sedlakova@firma.cz',\n",
    "        'ivana.jerabkova@firma.cz',\n",
    "        'valeria.jagerska@firma.cz',\n",
    "        'hana.bayerova@firma.cz',\n",
    "        'tomas.zamecnik@firma.cz',\n",
    "        'helena.strasilova@firma.cz',\n",
    "        'jana.kralova@firma.cz',\n",
    "        'hermina.duskova@firma.cz',\n",
    "        'dana.mirgova@firma.cz',\n",
    "        'end',\n",
    "        '...'\n",
    "    )"
   ]
  },
  {
   "cell_type": "code",
   "execution_count": null,
   "metadata": {},
   "outputs": [],
   "source": [
    "from debug_uloha import projdi_vsechny_udaje\n",
    "\n",
    "projdi_vsechny_udaje(\n",
    "    'petra.fulinova@firma.cz',  # 'petra.fulinova', 'firma.cz'\n",
    "    'adela.vancurova@firma.cz',\n",
    "    'andrea.hertlova@firma.cz',\n",
    "    'petr.vyhnis@firma.cz',\n",
    "    'jan.feckanin@firma.cz',\n",
    "    'pavel.harant@firma.cz',\n",
    "    'zdenka.bendova@firma.cz',\n",
    "    'monika.miczova@firma.cz',\n",
    "    'jan.mosquito@firma.cz',\n",
    "    'barbora.suvova@firma.cz',\n",
    "    'lenka.kafkova@firma.cz',\n",
    "    'nikola.hoffmannova@firma.cz',\n",
    "    'daniela.sedlakova@firma.cz',\n",
    "    'ivana.jerabkova@firma.cz',\n",
    "    'valeria.jagerska@firma.cz',\n",
    "    'hana.bayerova@firma.cz',\n",
    "    'tomas.zamecnik@firma.cz',\n",
    "    'helena.strasilova@firma.cz',\n",
    "    'jana.kralova@firma.cz',\n",
    "    'hermina.duskova@firma.cz',\n",
    "    'dana.mirgova@firma.cz',\n",
    "    'end',\n",
    "    '...'\n",
    ")"
   ]
  },
  {
   "cell_type": "markdown",
   "metadata": {},
   "source": [
    "Po spuštění se ale stalo něco podivného.\n",
    "\n",
    "Vidíš, že funkce neprošly všechny zadané hodnoty.\n",
    "\n",
    "Protože se neobjevila **žádná výjimka**, je potřeba debugovat sofitikovanějšími způsoby:\n",
    "1. Knihovna `pdb`,\n",
    "2. Pycharm, debugger.\n",
    "\n",
    "<img src=\"https://media.giphy.com/media/3owzWdbe27j9q0V6hi/giphy.gif\" width=\"600\" style=\"margin-left:auto; margin-right:auto\">"
   ]
  },
  {
   "cell_type": "markdown",
   "metadata": {},
   "source": [
    "### Knihovna pdb\n",
    "\n",
    "---\n",
    "\n",
    "Primárně jde o knihovnu, která pracuje **v prostředí příkazového řádku** (CLI).\n",
    "\n",
    "<img src=\"https://external-content.duckduckgo.com/iu/?u=https%3A%2F%2Ftse1.mm.bing.net%2Fth%3Fid%3DOIP._1X9WAzqgLeKpoKDZmXKYgHaHa%26pid%3DApi&f=1&ipt=b9b8512501bbb779b6f2c8e87c0c0165d7d230f16ba6739c92abeb65d6b86aae&ipo=images\" width=\"150\" style=\"margin-left:auto; margin-right:auto\">\n",
    "\n",
    "\n",
    "To sice není vždy praktické.\n",
    "\n",
    "Ale často nemáš jako programátor k dispozici **žádné grafické prostředí** (produkční/testovací server).\n",
    "\n",
    "Proto je užitečné ovládat alespoň základy."
   ]
  },
  {
   "cell_type": "markdown",
   "metadata": {},
   "source": [
    "V příkazovém řádku:\n",
    "```\n",
    "$ python -m pdb <jmeno_souboru>.py\n",
    "```"
   ]
  },
  {
   "cell_type": "markdown",
   "metadata": {},
   "source": [
    "Nyní se nacházíš **v interaktivním prostředí Pdb**, pro nápovědu zapiš a potvrď klávesou *enter* `?`: \n",
    "```\n",
    "> absolutni/cesta/k/souboru/..\n",
    "-> __doc__\n",
    "(Pdb)\n",
    "```\n",
    "```\n",
    "(Pdb) ?\n",
    "```"
   ]
  },
  {
   "cell_type": "markdown",
   "metadata": {},
   "source": [
    "Základní orientace a příkazy:\n",
    "* `s`tep, krok, jeden krok v programu,\n",
    "* `c`ontinue, proveď, spusť celý program (nebo dokud můžeš),\n",
    "* `l`ist, zobraz, kde se nachází program."
   ]
  },
  {
   "cell_type": "markdown",
   "metadata": {},
   "source": [
    "Základním stavebním kamenem pro debugovací procesy **je breakpoint**.\n",
    "\n",
    "Tedy místo, na které musíš dávát pozor a zastavit se na něm, pokud k němu v průběhu debugování dorazíš.\n",
    "\n",
    "Umístění probíhá pomocí **příkazu a čísla řádku**:\n",
    "* `b X`, nastaví breakpoint na xtý řádek,\n",
    "* `b`, zobrazí všechny breakpointy,\n",
    "* `clear X`, odstraní breakpoint s číslem X."
   ]
  },
  {
   "cell_type": "markdown",
   "metadata": {},
   "source": [
    "<img src=\"https://external-content.duckduckgo.com/iu/?u=https%3A%2F%2Ftse3.mm.bing.net%2Fth%3Fid%3DOIP.fplwh6HwSmeQNRefCaklgAAAAA%26pid%3DApi&f=1&ipt=31d518690fc1f295730182b3ef3c55c3e0d3b5c3369db4314faa6672f53b3064&ipo=images\" width=\"150\" style=\"margin-left:auto; margin-right:auto\">\n",
    "\n",
    "\n",
    "### Pycharm\n",
    "\n",
    "---\n",
    "\n",
    "Po té, co si poprvé spustíš **tvůj program**, se ti zpřístupní možnost kliknout na tlačítkou **Debug**.\n",
    "\n",
    "**V pravém horním rohu** obrazovky si můžeš všimnout ikonky zeleného broučka, klikni na ni.\n",
    "\n",
    "<br>"
   ]
  },
  {
   "cell_type": "markdown",
   "metadata": {},
   "source": [
    "Po kliknutí se ti v dolní části obrazovky objeví nová pracovní karta **s nadpisem Debug**.\n",
    "\n",
    "Základním stavební kámen už tedy znáš, *breakpoint*.\n",
    "\n",
    "<br>\n",
    "\n",
    "Tím interpretovi naznačíš, které místo ve tvém zápise tě zajímá.\n",
    "\n",
    "V PyCharm zadáš breakpoint jednoduše tak, že **klikneš do šedého prostoru za číslem řádku** (uvidíš posléze červenou tečku).\n",
    "\n",
    "<br>"
   ]
  },
  {
   "cell_type": "markdown",
   "metadata": {},
   "source": [
    "Těchto breakpointů si můžeš nastavit tolik, kolik potřebuješ.\n",
    "\n",
    "Obecně je ale lepší vybrat jich méně, kvůli snazší kontrole.\n",
    "\n",
    "<br>\n",
    "\n",
    "Jakmile interpret dojde postupně k breakpointu, dočasně program přeruší.\n",
    "\n",
    "<br>"
   ]
  },
  {
   "cell_type": "markdown",
   "metadata": {},
   "source": [
    "Jakmile máš vybraná místa označená *breakpointem*, můžeš spustit proces debugování znovu (ale tentokrát s breakpointy).\n",
    "\n",
    "Pro opětovné spuštění použij ikonku **Resume** (symbol zelené šipky, najdeš ji v nové kartě, která se objevila při kliknutí na ikonku broučka):\n",
    "\n",
    "<br>"
   ]
  },
  {
   "cell_type": "markdown",
   "metadata": {},
   "source": [
    "Jakmile se proces odstranění chyby znovu spustí, dojde až k tebou vybranému breakpointu.\n",
    "\n",
    "Nyní máš dvě možnosti:\n",
    "* Zkontrolovat aktuální stav tvého programu,\n",
    "* pokračovat v interpretování zápisu dále.\n",
    "\n",
    "##### Kontrola současného stavu\n",
    "\n",
    "K tomuto kroku slouží karta **Variables**.\n",
    "Tady si můžeš všimnout všech objektů, se kterými interpret doposud pracoval.\n",
    "\n"
   ]
  },
  {
   "cell_type": "markdown",
   "metadata": {},
   "source": [
    "#### **Pokračování**\n",
    "\n",
    "Pokud neodhlálíš příčinu, musíš pokračovat **v další breakpointech**."
   ]
  },
  {
   "cell_type": "markdown",
   "metadata": {},
   "source": [
    "<br>\n",
    "\n",
    "➡️ ➡️ **Formulář pro Tvoje hodnocení** [**desáté lekce**](https://forms.gle/6cpXWTsdPDiZNNjW8) ⬅️ ⬅️\n",
    "\n",
    "<br>"
   ]
  },
  {
   "cell_type": "markdown",
   "metadata": {},
   "source": [
    "---"
   ]
  },
  {
   "cell_type": "markdown",
   "metadata": {},
   "source": [
    "# Když zbyde čas ⌛"
   ]
  },
  {
   "cell_type": "markdown",
   "metadata": {},
   "source": [
    "## Logování\n",
    "\n",
    "**Logování**: je proces zaznamenávání informací o běhu programu do logů.\n",
    "\n",
    "- Umožňuje sledovat stav a chování aplikace v reálném čase nebo zpětně analyzovat události.\n",
    "- Pomáhá při identifikaci chyb, ladění kódu a sledování výkonnosti aplikace.\n",
    "\n",
    "**Výhody logování oproti `print`**:\n",
    "- Možnost nastavení úrovně závažnosti zprávy (`DEBUG`, `INFO`, `WARNING`, `ERROR`, `CRITICAL`).\n",
    "- Správa výstupů. Logy lze směřovat do konzole, souboru, na mail atd.\n",
    "- Strukturovaný formát. Logy obsahují informace o čase, umístění souboru a úrovně závažnosti.\n",
    "- Lze vypisovat různé úrovně podle prostředí (produkční, testovací, vývojové)"
   ]
  },
  {
   "cell_type": "markdown",
   "metadata": {},
   "source": [
    "### Základní použítí knihovny `logging`\n",
    "\n",
    "**Dokumentace**: [https://docs.python.org/3/library/logging.html](https://docs.python.org/3/library/logging.html)"
   ]
  },
  {
   "cell_type": "code",
   "execution_count": 1,
   "metadata": {},
   "outputs": [
    {
     "name": "stdout",
     "output_type": "stream",
     "text": [
      "Celková cena nákupu je: 33 Kč\n"
     ]
    }
   ],
   "source": [
    "import logging\n",
    "\n",
    "# Konfigurace logování\n",
    "logging.basicConfig(\n",
    "    level=logging.INFO,\n",
    "    format=\"%(asctime)s - %(levelname)s - %(message)s\",\n",
    "    filename=\"eshop.log\",\n",
    "    filemode=\"w\"\n",
    ")\n",
    "\n",
    "# Funkce pro výpočet celkové ceny položky\n",
    "def vypocti_cenu_produktu(cena_za_kus, mnozstvi):\n",
    "    try:\n",
    "        if cena_za_kus < 0 or mnozstvi < 0:\n",
    "            logging.warning(\"Záporná hodnota pro cenu nebo množství: cena=%s, množství=%s\", cena_za_kus, mnozstvi)\n",
    "            return 0\n",
    "        celkova_cena = cena_za_kus * mnozstvi\n",
    "        logging.info(\"Cena produktu vypočítána: cena=%s, množství=%s, celková cena=%s\", cena_za_kus, mnozstvi, celkova_cena)\n",
    "        return celkova_cena\n",
    "    except TypeError as e:\n",
    "        logging.error(\"Nesprávný typ pro cenu nebo množství: %s\", e)\n",
    "        return 0\n",
    "\n",
    "# Funkce pro přidání produktu do nákupního košíku\n",
    "def pridej_do_kosiku(kosik, produkt, cena, mnozstvi):\n",
    "    logging.debug(\"Přidávání produktu do košíku: %s, cena=%s, množství=%s\", produkt, cena, mnozstvi)\n",
    "    cena_produktu = vypocti_cenu_produktu(cena, mnozstvi)\n",
    "    kosik.append({'produkt': produkt, 'cena': cena_produktu, 'mnozstvi': mnozstvi})\n",
    "    logging.info(\"Produkt přidán do košíku: %s\", produkt)\n",
    "\n",
    "# Funkce pro výpočet celkové ceny košíku\n",
    "def vypocti_celkovou_cenu_kosiku(kosik):\n",
    "    celkova_cena = 0\n",
    "    for polozka in kosik:\n",
    "        celkova_cena += polozka['cena']\n",
    "    logging.info(\"Celková cena košíku vypočítána: %s\", celkova_cena)\n",
    "    return celkova_cena\n",
    "if __name__ == \"__main__\":\n",
    "    # Testovací kód\n",
    "    kosik = []\n",
    "    pridej_do_kosiku(kosik, \"Jablko\", cena=5, mnozstvi=3)\n",
    "    pridej_do_kosiku(kosik, \"Banán\", cena=3, mnozstvi=6)\n",
    "    pridej_do_kosiku(kosik, \"Hrozny\", cena=-10, mnozstvi=2)  # Záporná cena, což způsobí varování\n",
    "    pridej_do_kosiku(kosik, \"Pomeranč\", cena=4, mnozstvi=\"dvě\")  # Nesprávný typ množství, což způsobí chybu\n",
    "\n",
    "    celkova_cena = vypocti_celkovou_cenu_kosiku(kosik)\n",
    "    print(f\"Celková cena nákupu je: {celkova_cena} Kč\")\n"
   ]
  },
  {
   "cell_type": "markdown",
   "metadata": {},
   "source": [
    "### Knihovna `loguru`, uživatelsky přívětivé logování\n",
    "\n",
    "**Dokumentace**: [https://loguru.readthedocs.io/en/stable/overview.html](https://loguru.readthedocs.io/en/stable/overview.html)\n",
    "\n",
    "**Výhody ✅**:\n",
    "- Jednodušší syntaxe\n",
    "- Pokročilé metody uchování a rotace \n",
    "- Barevné výstupy 🌈"
   ]
  },
  {
   "cell_type": "code",
   "execution_count": 2,
   "metadata": {},
   "outputs": [
    {
     "name": "stdout",
     "output_type": "stream",
     "text": [
      "Requirement already satisfied: loguru in /mnt/Data/Drive/Projekty/Pracovní/Engeto/Materiály/Python/Engeto-python-academy-dan/.venv/lib/python3.12/site-packages (0.7.2)\n",
      "Note: you may need to restart the kernel to use updated packages.\n"
     ]
    }
   ],
   "source": [
    "%pip install loguru"
   ]
  },
  {
   "cell_type": "code",
   "execution_count": 4,
   "metadata": {},
   "outputs": [
    {
     "name": "stderr",
     "output_type": "stream",
     "text": [
      "\u001b[32m2024-11-12 20:53:57.236\u001b[0m | \u001b[34m\u001b[1mDEBUG   \u001b[0m | \u001b[36m__main__\u001b[0m:\u001b[36mpridej_do_kosiku\u001b[0m:\u001b[36m23\u001b[0m - \u001b[34m\u001b[1mPřidávání produktu do košíku: Jablko, cena=5, množství=3\u001b[0m\n",
      "\u001b[32m2024-11-12 20:53:57.237\u001b[0m | \u001b[1mINFO    \u001b[0m | \u001b[36m__main__\u001b[0m:\u001b[36mvypocti_cenu_produktu\u001b[0m:\u001b[36m15\u001b[0m - \u001b[1mCena produktu vypočítána: cena=5, množství=3, celková cena=15\u001b[0m\n",
      "\u001b[32m2024-11-12 20:53:57.239\u001b[0m | \u001b[1mINFO    \u001b[0m | \u001b[36m__main__\u001b[0m:\u001b[36mpridej_do_kosiku\u001b[0m:\u001b[36m26\u001b[0m - \u001b[1mProdukt přidán do košíku: Jablko\u001b[0m\n",
      "\u001b[32m2024-11-12 20:53:57.241\u001b[0m | \u001b[34m\u001b[1mDEBUG   \u001b[0m | \u001b[36m__main__\u001b[0m:\u001b[36mpridej_do_kosiku\u001b[0m:\u001b[36m23\u001b[0m - \u001b[34m\u001b[1mPřidávání produktu do košíku: Banán, cena=3, množství=6\u001b[0m\n",
      "\u001b[32m2024-11-12 20:53:57.243\u001b[0m | \u001b[1mINFO    \u001b[0m | \u001b[36m__main__\u001b[0m:\u001b[36mvypocti_cenu_produktu\u001b[0m:\u001b[36m15\u001b[0m - \u001b[1mCena produktu vypočítána: cena=3, množství=6, celková cena=18\u001b[0m\n",
      "\u001b[32m2024-11-12 20:53:57.246\u001b[0m | \u001b[1mINFO    \u001b[0m | \u001b[36m__main__\u001b[0m:\u001b[36mpridej_do_kosiku\u001b[0m:\u001b[36m26\u001b[0m - \u001b[1mProdukt přidán do košíku: Banán\u001b[0m\n",
      "\u001b[32m2024-11-12 20:53:57.248\u001b[0m | \u001b[34m\u001b[1mDEBUG   \u001b[0m | \u001b[36m__main__\u001b[0m:\u001b[36mpridej_do_kosiku\u001b[0m:\u001b[36m23\u001b[0m - \u001b[34m\u001b[1mPřidávání produktu do košíku: Hrozny, cena=-10, množství=2\u001b[0m\n",
      "\u001b[32m2024-11-12 20:53:57.249\u001b[0m | \u001b[33m\u001b[1mWARNING \u001b[0m | \u001b[36m__main__\u001b[0m:\u001b[36mvypocti_cenu_produktu\u001b[0m:\u001b[36m12\u001b[0m - \u001b[33m\u001b[1mZáporná hodnota pro cenu nebo množství: cena=-10, množství=2\u001b[0m\n",
      "\u001b[32m2024-11-12 20:53:57.250\u001b[0m | \u001b[1mINFO    \u001b[0m | \u001b[36m__main__\u001b[0m:\u001b[36mpridej_do_kosiku\u001b[0m:\u001b[36m26\u001b[0m - \u001b[1mProdukt přidán do košíku: Hrozny\u001b[0m\n",
      "\u001b[32m2024-11-12 20:53:57.252\u001b[0m | \u001b[34m\u001b[1mDEBUG   \u001b[0m | \u001b[36m__main__\u001b[0m:\u001b[36mpridej_do_kosiku\u001b[0m:\u001b[36m23\u001b[0m - \u001b[34m\u001b[1mPřidávání produktu do košíku: Pomeranč, cena=4, množství=dvě\u001b[0m\n",
      "\u001b[32m2024-11-12 20:53:57.253\u001b[0m | \u001b[31m\u001b[1mERROR   \u001b[0m | \u001b[36m__main__\u001b[0m:\u001b[36mvypocti_cenu_produktu\u001b[0m:\u001b[36m18\u001b[0m - \u001b[31m\u001b[1mNesprávný typ pro cenu nebo množství: '<' not supported between instances of 'str' and 'int'\u001b[0m\n",
      "\u001b[32m2024-11-12 20:53:57.253\u001b[0m | \u001b[1mINFO    \u001b[0m | \u001b[36m__main__\u001b[0m:\u001b[36mpridej_do_kosiku\u001b[0m:\u001b[36m26\u001b[0m - \u001b[1mProdukt přidán do košíku: Pomeranč\u001b[0m\n",
      "\u001b[32m2024-11-12 20:53:57.255\u001b[0m | \u001b[1mINFO    \u001b[0m | \u001b[36m__main__\u001b[0m:\u001b[36mvypocti_celkovou_cenu_kosiku\u001b[0m:\u001b[36m33\u001b[0m - \u001b[1mCelková cena košíku vypočítána: 33\u001b[0m\n"
     ]
    },
    {
     "name": "stdout",
     "output_type": "stream",
     "text": [
      "Celková cena nákupu je: 33 Kč\n"
     ]
    }
   ],
   "source": [
    "from loguru import logger\n",
    "\n",
    "# logger.remove() # lze odebrat výhozí logger, který zapisuje do konzole\n",
    "\n",
    "# Konfigurace logování s loguru\n",
    "logger.add(\"eshop-loguru.log\", rotation=\"500 KB\", retention=\"10 days\", level=\"INFO\")\n",
    "\n",
    "# Funkce pro výpočet celkové ceny položky\n",
    "def vypocti_cenu_produktu(cena_za_kus, mnozstvi):\n",
    "    try:\n",
    "        if cena_za_kus < 0 or mnozstvi < 0:\n",
    "            logger.warning(\"Záporná hodnota pro cenu nebo množství: cena={}, množství={}\", cena_za_kus, mnozstvi)\n",
    "            return 0\n",
    "        celkova_cena = cena_za_kus * mnozstvi\n",
    "        logger.info(\"Cena produktu vypočítána: cena={}, množství={}, celková cena={}\", cena_za_kus, mnozstvi, celkova_cena)\n",
    "        return celkova_cena\n",
    "    except TypeError as e:\n",
    "        logger.error(\"Nesprávný typ pro cenu nebo množství: {}\", e)\n",
    "        return 0\n",
    "\n",
    "# Funkce pro přidání produktu do nákupního košíku\n",
    "def pridej_do_kosiku(kosik, produkt, cena, mnozstvi):\n",
    "    logger.debug(\"Přidávání produktu do košíku: {}, cena={}, množství={}\", produkt, cena, mnozstvi)\n",
    "    cena_produktu = vypocti_cenu_produktu(cena, mnozstvi)\n",
    "    kosik.append({'produkt': produkt, 'cena': cena_produktu, 'mnozstvi': mnozstvi})\n",
    "    logger.info(\"Produkt přidán do košíku: {}\", produkt)\n",
    "\n",
    "# Funkce pro výpočet celkové ceny košíku\n",
    "def vypocti_celkovou_cenu_kosiku(kosik):\n",
    "    celkova_cena = 0\n",
    "    for polozka in kosik:\n",
    "        celkova_cena += polozka['cena']\n",
    "    logger.info(\"Celková cena košíku vypočítána: {}\", celkova_cena)\n",
    "    return celkova_cena\n",
    "\n",
    "# Testovací kód\n",
    "kosik = []\n",
    "pridej_do_kosiku(kosik, \"Jablko\", 5, 3)\n",
    "pridej_do_kosiku(kosik, \"Banán\", 3, 6)\n",
    "pridej_do_kosiku(kosik, \"Hrozny\", -10, 2)  # Záporná cena, což způsobí varování\n",
    "pridej_do_kosiku(kosik, \"Pomeranč\", 4, \"dvě\")  # Nesprávný typ množství, což způsobí chybu\n",
    "\n",
    "celkova_cena = vypocti_celkovou_cenu_kosiku(kosik)\n",
    "print(f\"Celková cena nákupu je: {celkova_cena} Kč\")\n"
   ]
  },
  {
   "cell_type": "markdown",
   "metadata": {},
   "source": [
    "<br>\n",
    "\n",
    "### 🧠 CVIČENÍ 🧠, najdi logickou chybu v přiloženém kódu:"
   ]
  },
  {
   "cell_type": "code",
   "execution_count": null,
   "metadata": {},
   "outputs": [],
   "source": [
    "%%file debug_uloha_2.py\n",
    "\n",
    "# Funkce pro výpočet celkové ceny produktu na základě jednotkové ceny a množství\n",
    "def vypocti_cenu_produktu(cena_za_kus, mnozstvi):\n",
    "    return cena_za_kus * mnozstvi\n",
    "\n",
    "# Funkce pro přidání ceny jednoho produktu do celkové částky\n",
    "def pridej_do_celkem(celkem, cena_produktu):\n",
    "    return celkem + cena_produktu\n",
    "\n",
    "# Funkce pro výpočet celkové ceny nákupu\n",
    "def vypocti_celkovou_cenu(nakupni_kosik):\n",
    "    celkova_cena = 0\n",
    "    for produkt in nakupni_kosik:\n",
    "        # Získání ceny a množství každého produktu\n",
    "        cena = produkt['cena']\n",
    "        mnozstvi = produkt['mnozstvi']\n",
    "        # Výpočet ceny produktu a přidání do celkové částky\n",
    "        cena_produktu = vypocti_cenu_produktu(cena, mnozstvi)\n",
    "        celkova_cena = pridej_do_celkem(celkova_cena, mnozstvi)\n",
    "    return celkova_cena\n",
    "\n",
    "if __name__ == \"__main__\":\n",
    "    # Testovací data - nákupní košík s produkty\n",
    "    nakupni_kosik = [\n",
    "        {'nazev': 'Jablko', 'cena': 5, 'mnozstvi': 4},\n",
    "        {'nazev': 'Banán', 'cena': 3, 'mnozstvi': 6},\n",
    "        {'nazev': 'Hrozny', 'cena': 10, 'mnozstvi': 2},\n",
    "    ]\n",
    "\n",
    "    # Výpočet celkové ceny nákupu\n",
    "    celkova_cena = vypocti_celkovou_cenu(nakupni_kosik)\n",
    "    print(f\"Celková cena nákupu je: {celkova_cena} Kč\")\n"
   ]
  }
 ],
 "metadata": {
  "kernelspec": {
   "display_name": "Python 3 (ipykernel)",
   "language": "python",
   "name": "python3"
  },
  "language_info": {
   "codemirror_mode": {
    "name": "ipython",
    "version": 3
   },
   "file_extension": ".py",
   "mimetype": "text/x-python",
   "name": "python",
   "nbconvert_exporter": "python",
   "pygments_lexer": "ipython3",
   "version": "3.12.3"
  }
 },
 "nbformat": 4,
 "nbformat_minor": 4
}
