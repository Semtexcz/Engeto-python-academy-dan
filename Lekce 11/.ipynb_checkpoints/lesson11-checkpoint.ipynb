{
 "cells": [
  {
   "cell_type": "markdown",
   "metadata": {},
   "source": [
    "## Úvod\n",
    "\n",
    "---\n",
    "\n",
    "1. [Práce se soubory a složkami](#Práce-se-soubory-a-složkami),\n",
    "2. [Soubory CSV](#Soubory-CSV),\n",
    "3. [Soubory JSON](#Soubor-JSON),\n",
    "4. [Spouštění s ARGS](#Spouštění-skriptu-s-argumenty),\n",
    "5. [Domácí úloha](#Domácí-úloha).\n",
    "\n",
    "---"
   ]
  },
  {
   "cell_type": "markdown",
   "metadata": {},
   "source": [
    "Nápady:\n",
    "1. Přidat shrnutí Pathlib\n",
    "2. Ukázat procházení souborů a zapisování do csv\n",
    "3. Ukázat XML\n",
    "4. Ukázat request a JSON"
   ]
  },
  {
   "cell_type": "markdown",
   "metadata": {},
   "source": []
  },
  {
   "cell_type": "markdown",
   "metadata": {},
   "source": [
    "## Práce se soubory a složkami"
   ]
  },
  {
   "cell_type": "markdown",
   "metadata": {},
   "source": [
    "V lekci 9 jsme se naučili pracovat se soubory, ale chybí nám znalost jak pracovat se složkami, jak soubory mazat, přesouvat kopírovat atd."
   ]
  },
  {
   "cell_type": "markdown",
   "metadata": {},
   "source": [
    "V krátkosti si zde představíme knihovny:\n",
    "\n",
    "1. [Pathlib](https://docs.python.org/3/library/pathlib.html): knihovna, která manipule s cestami k souboru\n",
    "2. [Shutil](https://docs.python.org/3/library/shutil.html): knihovna, která zavádí funkčnost z přikazové řádky (mazaní, přesouvání, kopírování atd.)"
   ]
  },
  {
   "cell_type": "markdown",
   "metadata": {},
   "source": [
    "### 1. Manipulace se složkami\n",
    "\n",
    "\n",
    "- **Vytváření složky**\n",
    " "
   ]
  },
  {
   "cell_type": "code",
   "execution_count": null,
   "metadata": {},
   "outputs": [],
   "source": [
    "from pathlib import Path"
   ]
  },
  {
   "cell_type": "code",
   "execution_count": null,
   "metadata": {},
   "outputs": [],
   "source": [
    "help(Path)"
   ]
  },
  {
   "cell_type": "code",
   "execution_count": null,
   "metadata": {},
   "outputs": [],
   "source": [
    "# Vytvoření nové složky\n",
    "folder = Path(\"new_directory\")"
   ]
  },
  {
   "cell_type": "code",
   "execution_count": null,
   "metadata": {},
   "outputs": [],
   "source": [
    "print([_ for _ in dir(folder) if not _.startswith(\"_\")])"
   ]
  },
  {
   "cell_type": "code",
   "execution_count": null,
   "metadata": {},
   "outputs": [],
   "source": [
    "print(help(folder.mkdir))"
   ]
  },
  {
   "cell_type": "code",
   "execution_count": null,
   "metadata": {},
   "outputs": [],
   "source": [
    "folder.mkdir(parents=True, exist_ok=True)"
   ]
  },
  {
   "cell_type": "markdown",
   "metadata": {},
   "source": [
    "- **Přejmenování složky**"
   ]
  },
  {
   "cell_type": "code",
   "execution_count": null,
   "metadata": {},
   "outputs": [],
   "source": [
    "new_folder = folder.rename(\"renamed_directory\")"
   ]
  },
  {
   "cell_type": "markdown",
   "metadata": {},
   "source": [
    "- **Mazání složky**"
   ]
  },
  {
   "cell_type": "code",
   "execution_count": null,
   "metadata": {},
   "outputs": [],
   "source": [
    "\n",
    "new_folder.rmdir()  # Smaže složku, pokud je prázdná"
   ]
  },
  {
   "cell_type": "markdown",
   "metadata": {},
   "source": [
    "### 2. Kopírování, přesouvání a mazání souborů\n",
    "\n",
    "Tyto operace jsou klíčové při práci s různými verzemi dat nebo zálohami.\n",
    "\n",
    "- **Kopírování souborů**\n",
    "  \n",
    "   `pathlib` nemá přímou podporu pro kopírování, proto použijeme `shutil`."
   ]
  },
  {
   "cell_type": "code",
   "execution_count": null,
   "metadata": {},
   "outputs": [],
   "source": [
    "zdroj = Path(\"zdrojovy_soubor.txt\")\n",
    "zdroj.write_text(\"Ahoj\")"
   ]
  },
  {
   "cell_type": "code",
   "execution_count": null,
   "metadata": {},
   "outputs": [],
   "source": [
    "import shutil\n",
    "\n",
    "cilova_slozka = Path(\"destinace\")\n",
    "cilova_slozka.mkdir(parents=True, exist_ok=True)\n",
    "shutil.copy(zdroj, cilova_slozka)  # Kopíruje soubor na novou cestu"
   ]
  },
  {
   "cell_type": "markdown",
   "metadata": {},
   "source": [
    "- **Přesouvání souborů**"
   ]
  },
  {
   "cell_type": "code",
   "execution_count": null,
   "metadata": {},
   "outputs": [],
   "source": [
    "Path(cilova_slozka / zdroj.name).rename(cilova_slozka / \"kopie.txt\")  # Přesune soubor na novou cestu"
   ]
  },
  {
   "cell_type": "markdown",
   "metadata": {},
   "source": [
    "- **Mazání souborů**\n",
    "  "
   ]
  },
  {
   "cell_type": "code",
   "execution_count": null,
   "metadata": {},
   "outputs": [],
   "source": [
    "kopie = cilova_slozka / \"kopie.txt\"\n",
    "if kopie.exists():\n",
    "    kopie.unlink()  # Smaže soubor\n"
   ]
  },
  {
   "cell_type": "code",
   "execution_count": null,
   "metadata": {},
   "outputs": [],
   "source": [
    "cilova_slozka.rmdir()"
   ]
  },
  {
   "cell_type": "markdown",
   "metadata": {},
   "source": [
    "### 3. Hledání souborů podle vzorů\n",
    "\n",
    "Vyhledání souborů podle specifických vzorů (např. všech `.txt` souborů) se často hodí při zpracování souborů stejného typu.\n",
    "\n",
    "- **Vyhledání všech `.txt` souborů ve složce**"
   ]
  },
  {
   "cell_type": "code",
   "execution_count": null,
   "metadata": {},
   "outputs": [],
   "source": [
    "folder = Path(\".\")\n",
    "txt_files = list(folder.glob(\"*.txt\"))  # Vrátí seznam všech .txt souborů v adresáři\n",
    "print(txt_files)"
   ]
  },
  {
   "cell_type": "markdown",
   "metadata": {},
   "source": [
    "- **Rekurzivní hledání všech `.txt` souborů ve složce a podadresářích**"
   ]
  },
  {
   "cell_type": "code",
   "execution_count": null,
   "metadata": {},
   "outputs": [],
   "source": [
    "txt_files_recursive = list(folder.rglob(\"*.txt\"))\n",
    "print(txt_files_recursive)"
   ]
  },
  {
   "cell_type": "code",
   "execution_count": null,
   "metadata": {},
   "outputs": [],
   "source": [
    "# Nastavte cestu ke složce, kterou chcete procházet\n",
    "root_folder = Path().resolve().parent\n",
    "\n",
    "# Rekurzivně procházejte všechny soubory a složky\n",
    "for item in root_folder.rglob(\"*\"):\n",
    "    if item.is_file():\n",
    "        print(f\"Soubor: {item}\")\n",
    "    elif item.is_dir():\n",
    "        print(f\"Složka: {item}\")"
   ]
  },
  {
   "cell_type": "code",
   "execution_count": null,
   "metadata": {},
   "outputs": [],
   "source": [
    "# Nastavte cestu ke složce, kterou chcete procházet\n",
    "root_folder = Path(\"..\")\n",
    "\n",
    "# Rekurzivně procházejte všechny soubory a složky\n",
    "for item in root_folder.rglob(\"*\"):\n",
    "    if item.is_file():\n",
    "        print(f\"Soubor: {item}\")\n",
    "    elif item.is_dir():\n",
    "        print(f\"Složka: {item}\")"
   ]
  },
  {
   "cell_type": "markdown",
   "metadata": {},
   "source": [
    "### 4. Kontrola existence a typu souboru nebo složky\n",
    "\n",
    "Před čtením nebo zápisem je užitečné zkontrolovat, zda soubor existuje a jestli je to soubor nebo složka.\n",
    "\n",
    "- **Kontrola existence**"
   ]
  },
  {
   "cell_type": "code",
   "execution_count": null,
   "metadata": {},
   "outputs": [],
   "source": [
    "file = Path(\"demo.txt\")\n",
    "if file.exists():\n",
    "    print(\"Soubor existuje\")\n"
   ]
  },
  {
   "cell_type": "markdown",
   "metadata": {},
   "source": [
    "- **Kontrola, zda jde o soubor nebo složku**"
   ]
  },
  {
   "cell_type": "code",
   "execution_count": null,
   "metadata": {},
   "outputs": [],
   "source": [
    "if file.is_file():\n",
    "    print(\"Jedná se o soubor\")\n",
    "elif file.is_dir():\n",
    "    print(\"Jedná se o složku\")"
   ]
  },
  {
   "cell_type": "markdown",
   "metadata": {},
   "source": [
    "### 5. Získávání informací o souborech\n",
    "\n",
    "Metadata souborů, jako je velikost, datum vytvoření nebo modifikace, mohou být užitečné pro správu dat.\n",
    "\n",
    "- **Velikost souboru**"
   ]
  },
  {
   "cell_type": "code",
   "execution_count": null,
   "metadata": {},
   "outputs": [],
   "source": [
    "size = file.stat().st_size  # Velikost v bytech\n",
    "print(f\"Velikost souboru: {size} bajtů\")"
   ]
  },
  {
   "cell_type": "markdown",
   "metadata": {},
   "source": [
    "- **Datum modifikace**"
   ]
  },
  {
   "cell_type": "code",
   "execution_count": null,
   "metadata": {},
   "outputs": [],
   "source": [
    "import arrow # better datetime\n",
    "\n",
    "modification_time = arrow.get(file.stat().st_mtime)\n",
    "print(f\"Datum modifikace: {modification_time.format(\"dddd, D. MMMM YYYY\", locale=\"cs\")}\")\n"
   ]
  },
  {
   "cell_type": "markdown",
   "metadata": {},
   "source": [
    "### 7. Práce s cestami a formátování cest\n",
    "\n",
    "Práce s cestami zahrnuje vytváření, úpravy a analýzu cest k souborům a složkám, což je zásadní pro zajištění přenositelnosti a robustnosti kódu.\n",
    "\n",
    "- **Spojování cest**  \n",
    "  `pathlib` umožňuje snadno kombinovat cesty pomocí `/` operátoru, což dělá kód čitelnější a zabraňuje chybám při vytváření cest.\n",
    "  "
   ]
  },
  {
   "cell_type": "code",
   "execution_count": null,
   "metadata": {},
   "outputs": [],
   "source": [
    "base_dir = Path(\"task\")\n",
    "sub_dir = base_dir / \"sub_directory\"\n",
    "file_path = sub_dir / \"file.txt\"\n",
    "print(file_path)  # Výstup: base_directory/sub_directory/file.txt\n"
   ]
  },
  {
   "cell_type": "markdown",
   "metadata": {},
   "source": [
    "- **Získání absolutní cesty**\n",
    "  Použití `.resolve()` vám umožní získat absolutní cestu k souboru nebo složce, což může být užitečné při práci s různými adresáři."
   ]
  },
  {
   "cell_type": "code",
   "execution_count": null,
   "metadata": {},
   "outputs": [],
   "source": [
    "absolute_path = file_path.resolve()\n",
    "print(f\"Absolutní cesta: {absolute_path}\")"
   ]
  },
  {
   "cell_type": "markdown",
   "metadata": {},
   "source": [
    "- **Rodičovské složky**  \n",
    "  Pomocí `.parent` můžeme přistupovat k rodičovské složce souboru nebo složky, a `.parents` poskytuje přístup k vyšším úrovním v cestě."
   ]
  },
  {
   "cell_type": "code",
   "execution_count": null,
   "metadata": {},
   "outputs": [],
   "source": [
    "print(file_path.parent)  # Vrátí jednu úroveň nad file_path\n",
    "print(file_path.parents[0])  # Taky jednu úroveň nad file_path\n",
    "print(file_path.parents[1])  # Dvě úrovně nad file_path\n"
   ]
  },
  {
   "cell_type": "markdown",
   "metadata": {},
   "source": [
    "- **Rozdělení cesty na části**  \n",
    "  Pomocí atributu `.parts` lze rozdělit cestu na jednotlivé části, což se hodí při analýze cesty."
   ]
  },
  {
   "cell_type": "code",
   "execution_count": null,
   "metadata": {},
   "outputs": [],
   "source": [
    "parts = file_path.parts\n",
    "print(parts)  # Výstup: ('base_directory', 'sub_directory', 'file.txt')"
   ]
  },
  {
   "cell_type": "markdown",
   "metadata": {},
   "source": [
    "- **Název souboru a přípona**  \n",
    "  Cesta může být rozdělena na samotný název souboru a jeho příponu. To se hodí při kontrole typu souboru nebo přejmenování."
   ]
  },
  {
   "cell_type": "code",
   "execution_count": null,
   "metadata": {},
   "outputs": [],
   "source": [
    "print(file_path.name)     # Výstup: 'file.txt' - název souboru s příponou\n",
    "print(file_path.stem)     # Výstup: 'file' - pouze název bez přípony\n",
    "print(file_path.suffix)   # Výstup: '.txt' - pouze přípona souboru\n"
   ]
  },
  {
   "cell_type": "markdown",
   "metadata": {},
   "source": [
    "- **Změna přípony souboru**  \n",
    "  `with_suffix()` umožňuje změnit příponu, což je užitečné, pokud pracujeme s různými formáty dat nebo potřebujeme ukládat kopie v jiném formátu."
   ]
  },
  {
   "cell_type": "code",
   "execution_count": null,
   "metadata": {},
   "outputs": [],
   "source": [
    "new_file_path = file_path.with_suffix(\".md\")\n",
    "print(new_file_path)  # Výstup: base_directory/sub_directory/file.md\n"
   ]
  },
  {
   "cell_type": "markdown",
   "metadata": {},
   "source": [
    "- **Kontrola, zda je cesta absolutní nebo relativní**  \n",
    "  Cesty mohou být buď absolutní (od kořene souborového systému) nebo relativní (od aktuálního pracovního adresáře). `pathlib` umožňuje snadno zjistit, zda je cesta absolutní.\n",
    "  "
   ]
  },
  {
   "cell_type": "code",
   "execution_count": null,
   "metadata": {},
   "outputs": [],
   "source": [
    "print(file_path.is_absolute())  # Výstup: False, protože je relativní\n",
    "print(file_path.resolve().is_absolute())  # Výstup: True\n"
   ]
  },
  {
   "cell_type": "markdown",
   "metadata": {},
   "source": [
    "- **Iterace přes podadresáře a soubory**  \n",
    "  Metoda `.iterdir()` umožňuje procházet adresář a získat všechny položky v něm."
   ]
  },
  {
   "cell_type": "code",
   "execution_count": null,
   "metadata": {},
   "outputs": [],
   "source": [
    "for item in base_dir.iterdir():\n",
    "    print(item)  # Vypíše všechny soubory a složky v base_directory\n"
   ]
  },
  {
   "cell_type": "markdown",
   "metadata": {},
   "source": [
    "- **Normalizace cesty**  \n",
    "  `pathlib` automaticky normalizuje cesty odstraněním nadbytečných lomítek a řešením zkratek jako `.` a `..`."
   ]
  },
  {
   "cell_type": "code",
   "execution_count": null,
   "metadata": {},
   "outputs": [],
   "source": [
    "normalized_path = Path(\"some_dir/../some_dir/file.txt\").resolve()\n",
    "print(normalized_path)  # Výstup: absolutní cesta k 'some_dir/file.txt'"
   ]
  },
  {
   "cell_type": "markdown",
   "metadata": {},
   "source": [
    "- **Kombinace s relativní cestou**  \n",
    "  Můžeme kombinovat cesty pomocí `.relative_to()`, což nám umožňuje získat relativní cestu k určitému základnímu adresáři."
   ]
  },
  {
   "cell_type": "code",
   "execution_count": null,
   "metadata": {},
   "outputs": [],
   "source": [
    "relative_path = file_path.relative_to(base_dir)\n",
    "print(relative_path)  # Výstup: sub_directory/file.txt\n"
   ]
  },
  {
   "cell_type": "markdown",
   "metadata": {},
   "source": [
    "<br>\n",
    "\n",
    "### 🧠 CVIČENÍ 🧠, Vyzkoušej si práci se složkami:"
   ]
  },
  {
   "cell_type": "markdown",
   "metadata": {},
   "source": [
    "Ve složce `files` jsou ukryty soubory s příponou txt. Napiš funkci, která vrátí list, který bude obsahovat všechny cesty k souborům daného typu. Funkci pojmenuj `najdi_soubory(slozka, pripona)`, která přijme parametr cestu ke složce a příponu. Funkce musí ověřit, že se jedná o existující složku. Pomocí této funkce vypiš všechny textové soubory."
   ]
  },
  {
   "cell_type": "markdown",
   "metadata": {},
   "source": [
    "<details>\n",
    "  <summary>▶️ Klikni zde pro zobrazení řešení</summary>\n",
    "\n",
    "```python\n",
    "def najdi_soubory(slozka: str, pripona: str) -> Generator:\n",
    "    dir_path = Path(slozka)\n",
    "    if not dir_path.exists():\n",
    "        raise FileNotFoundError(f\"Sozka '{slozka}' neexistuje.\")\n",
    "\n",
    "    return dir_path.rglob(f\"*{pripona}\")\n",
    "\n",
    "path = Path().resolve() / \"files\"\n",
    "print(list(najdi_soubory(str(path), \".txt\")))\n",
    "```\n",
    "</details>"
   ]
  },
  {
   "cell_type": "markdown",
   "metadata": {},
   "source": [
    "<br>\n",
    "\n",
    "<img src=\"https://external-content.duckduckgo.com/iu/?u=https%3A%2F%2Ftse2.mm.bing.net%2Fth%3Fid%3DOIP.3vUw9kaVMOQPBQOvNZ9OkgHaHa%26pid%3DApi&f=1&ipt=5d535e2a1b28bb87b209c1395babc2cf0a51f8fafe7e55085f8b7643f2e8c554&ipo=images\" width=\"200\">\n",
    "\n",
    "## Soubory CSV\n",
    "\n",
    "---"
   ]
  },
  {
   "cell_type": "markdown",
   "metadata": {},
   "source": [
    "- [Oficiální dokumentace na python.org](https://docs.python.org/3/library/csv.html)\n",
    "\n",
    "---\n",
    "\n",
    "**CSV (Comma-Separated Values)** je jednoduchý formát textového souboru pro ukládání tabulkových dat. Klíčové vlastnosti:  \n",
    "\n",
    "- **Struktura:** Data jsou organizována do řádků (záznamů) a sloupců (atributů).\n",
    "\n",
    "- **Oddělovač:** Hodnoty jsou odděleny čárkou (`,`), ale mohou být použity i jiné znaky (např. středník `;`).\n",
    "\n",
    "- **Řádek záhlaví:** První řádek obvykle obsahuje názvy sloupců.\n",
    "\n",
    "- **Textové hodnoty:** Jsou často uzavřeny v uvozovkách (`\" \"`), zejména pokud obsahují čárku.\n",
    "\n",
    "- **Podporovanost:** CSV je široce podporován v textových editorech, tabulkových procesorech (Excel, LibreOffice Calc) a programovacích jazycích.\n",
    "\n",
    "- **Dialekt CSV:**  \n",
    "    Formát CSV nemá pevný standard, a proto existují různé **dialekty**, které se liší v:  \n",
    "    - **Oddělovači:** Čárka (`,`), středník (`;`), tabulátor (`\\t`).  \n",
    "    - **Znak pro uvození textu:** Uvozovky (`\"`), apostrofy (`'`).  \n",
    "    - **Znak pro nový řádek:** LF (`\\n`) nebo CRLF (`\\r\\n`).  \n",
    "    - **Escapování speciálních znaků:** Použití zpětného lomítka (`\\`) nebo zdvojení uvozovek (`\"\"`).  \n",
    "\n",
    "Dialekt je třeba brát v úvahu při importu/exportu dat, aby nedošlo k nesprávné interpretaci.\n",
    "\n",
    "**Příklad:**\n",
    "```csv\n",
    "jmeno,prijmeni,email, projekt\n",
    "Matous,Holinka,m.holinka@firma.cz,hr\n",
    "Petr,Svetr,p.svetr@firma.cz,devops\n",
    "```\n",
    "\n",
    "Používá se pro jednoduchou výměnu dat mezi různými systémy."
   ]
  },
  {
   "cell_type": "markdown",
   "metadata": {},
   "source": [
    "**CSV soubor** (*Comma Separated Values*) ukládá *tabulková data*, podobně jako například soubory **.xlsx** (*MS Excel* nebo *LibreOffice*), které pravděpodobně znáš."
   ]
  },
  {
   "cell_type": "markdown",
   "metadata": {},
   "source": [
    "<a href=\"https://imgur.com/3zomtvk\"><img src=\"https://i.imgur.com/3zomtvk.png\" title=\"source: imgur.com\" width=\"600\" /></a>"
   ]
  },
  {
   "cell_type": "markdown",
   "metadata": {},
   "source": [
    "Rozdíl spočívá v tom, že soubor **CSV** je ukládá v **textové podobě**.\n",
    "\n",
    "<br>\n",
    "\n",
    "**CSV soubor** je tedy mnohem univerzálnější, můžeš ho normálně otevřít prakticky ve všech tabulkových procesorech:\n",
    "* *MS Excel*,\n",
    "* *LibreOffice Calc*,\n",
    "* v textových editorech jako je *Notepad* nebo *Poznámkový blok*,\n",
    "* a navíc se s ním dobře pracuje v Pythonu."
   ]
  },
  {
   "cell_type": "markdown",
   "metadata": {},
   "source": [
    "Ať už konkrétně typ souboru **.csv** nebo jeho příbuzní **.xls** nebo **.xlsx** aj., pracuje tento typ souboru výborně pro ukládání jednotlivých záznámů řádek po řádku.\n",
    "\n",
    "<br>\n",
    "\n",
    "---"
   ]
  },
  {
   "cell_type": "markdown",
   "metadata": {},
   "source": [
    "Protože se u **CSV souborů** nejedná o nativní formát Pythonu, jako takový jej nemůžeš v Pythonu napsat.\n",
    "\n",
    "Platí, že pokud budeš chtít pracovat **s CSV soubory** v Pythonu, musíš *nahrát* k tomu určenou **built-in knihovnu**:"
   ]
  },
  {
   "cell_type": "code",
   "execution_count": null,
   "metadata": {},
   "outputs": [],
   "source": [
    "import csv"
   ]
  },
  {
   "cell_type": "code",
   "execution_count": null,
   "metadata": {},
   "outputs": [],
   "source": [
    "help(csv)"
   ]
  },
  {
   "cell_type": "code",
   "execution_count": null,
   "metadata": {},
   "outputs": [],
   "source": [
    "dir(csv)"
   ]
  },
  {
   "cell_type": "markdown",
   "metadata": {},
   "source": [
    "#### Vyzkoušej si následující\n",
    "\n",
    "---\n",
    "\n",
    "| jméno objektu | účel metody |\n",
    "| :-| :- |\n",
    "| `csv.reader(m)` | funkce vrátí iterovatelný objekt (co cyklus, to řádek) |\n",
    "| `csv.writer(m)` | funkce zapíše objekt do souboru (+ `writerows`)|\n",
    "| `csv.DictWriter(m)` | třída pro zápis slovníku do souboru |\n",
    "| `csv.DictReader(m)` | třída pro čtení souboru do slovníku |\n",
    "\n",
    "<br>\n",
    "\n",
    "\n",
    "*pozn* `m` je objekt (proměnná)\n",
    "\n",
    "<br>\n",
    "\n",
    "Základní dva procesy (obdobně jako pro textové soubory), které budeš provádět jsou:\n",
    "1. __čtení__ souboru `csv`\n",
    "2. __zápis__ do souboru `csv`\n",
    "\n",
    "<br>"
   ]
  },
  {
   "cell_type": "markdown",
   "metadata": {},
   "source": [
    "### Vytvoříš soubor s příp. `.csv`\n",
    "\n",
    "Nejprve nahraj potřebnou knihovnu:"
   ]
  },
  {
   "cell_type": "code",
   "execution_count": null,
   "metadata": {},
   "outputs": [],
   "source": [
    "import csv"
   ]
  },
  {
   "cell_type": "markdown",
   "metadata": {},
   "source": [
    "Vytvoř údaje, ze kterých soubor založíš.\n",
    "\n",
    "Tedy *záhlaví* a dva řádky *záznamů* v tabulce."
   ]
  },
  {
   "cell_type": "code",
   "execution_count": null,
   "metadata": {},
   "outputs": [],
   "source": [
    "hlavicka = [\"jmeno\", \"prijmeni\", \"vek\"]\n",
    "osoba_1 = [\"Matous\", \"Holinka\", \"28\"]\n",
    "osoba_2 = [\"Petr\", \"Svetr\", \"27\"]"
   ]
  },
  {
   "cell_type": "markdown",
   "metadata": {},
   "source": [
    "Při tvorbě objektu je nutné zadat znak, který se bude objevovat **na konci řádků**:"
   ]
  },
  {
   "cell_type": "code",
   "execution_count": null,
   "metadata": {},
   "outputs": [],
   "source": [
    "csv_soubor = open(\n",
    "    \"prvni_tabulka.csv\",\n",
    "    mode=\"w\",\n",
    "    encoding=\"utf-8\",\n",
    "    newline=\"\"  # None\n",
    ")"
   ]
  },
  {
   "cell_type": "code",
   "execution_count": null,
   "metadata": {},
   "outputs": [],
   "source": [
    "print(csv_soubor)"
   ]
  },
  {
   "cell_type": "markdown",
   "metadata": {},
   "source": [
    "Jakmile vytvoříš **spojovací objekt**, můžeš definovat, co do něj zapíšeš.\n",
    "\n",
    "U knihovny `csv` se využívá tzv. *zapisovací* (*writer*) funkce.\n",
    "\n",
    "Ten je zase specifický tím, že zadáš oddělovač, který oddělí **jednotlivé buňky** v tabulce:"
   ]
  },
  {
   "cell_type": "code",
   "execution_count": null,
   "metadata": {},
   "outputs": [],
   "source": [
    "zapisovac = csv.writer(csv_soubor, delimiter=\",\")"
   ]
  },
  {
   "cell_type": "code",
   "execution_count": null,
   "metadata": {},
   "outputs": [],
   "source": [
    "zapisovac.writerow(hlavicka)\n",
    "zapisovac.writerow(osoba_1)\n",
    "zapisovac.writerow(osoba_2)  # writerows(iterable)"
   ]
  },
  {
   "cell_type": "code",
   "execution_count": null,
   "metadata": {},
   "outputs": [],
   "source": [
    "zapisovac.writerows((hlavicka, osoba_1, osoba_2))"
   ]
  },
  {
   "cell_type": "markdown",
   "metadata": {},
   "source": [
    "Po zaznamenání údajů a na konci workflow nezapomeň objekt načtený *interpretem* **ukončit**."
   ]
  },
  {
   "cell_type": "code",
   "execution_count": null,
   "metadata": {},
   "outputs": [],
   "source": [
    "csv_soubor.close()"
   ]
  },
  {
   "cell_type": "markdown",
   "metadata": {},
   "source": [
    "Pokud si nebudeš jistý, jestli je *stream* zavřený, vyzkoušej metodu `closed`.\n",
    "\n",
    "Ta vrací `True`, pokud je *spojení* opravdu **ukončené**:"
   ]
  },
  {
   "cell_type": "code",
   "execution_count": null,
   "metadata": {},
   "outputs": [],
   "source": [
    "csv_soubor.closed"
   ]
  },
  {
   "cell_type": "markdown",
   "metadata": {},
   "source": [
    "### DictWriter\n",
    "\n",
    "Objekty v Pythonu, použité před chvílí, byly **sekvenčního typu**.\n",
    "\n",
    "Pokud ovšem dostaneš mapovaný objekt, můžeš vyzkoušet další typ zapisovače, `DictWriter`:"
   ]
  },
  {
   "cell_type": "code",
   "execution_count": null,
   "metadata": {},
   "outputs": [],
   "source": [
    "osoba_1 = {\"jmeno\": \"Matous\", \"prijmeni\": \"Pokoj\", \"vek\": \"28\"}\n",
    "osoba_2 = {\"jmeno\": \"Petr\", \"prijmeni\": \"Svetr\", \"vek\": \"27\"}"
   ]
  },
  {
   "cell_type": "markdown",
   "metadata": {},
   "source": [
    "Pokud argument `newline` nepotřebuješ, můžeš pracovat s jeho defaultní hodnotou `None`:"
   ]
  },
  {
   "cell_type": "code",
   "execution_count": null,
   "metadata": {},
   "outputs": [],
   "source": [
    "dalsi_csv = open(\n",
    "    \"druha_tabulka.csv\",\n",
    "    mode=\"w\",\n",
    "    encoding=\"utf-8\"\n",
    ")"
   ]
  },
  {
   "cell_type": "markdown",
   "metadata": {},
   "source": [
    "Objektu zapisovače opět předáš přichystaný proměnnou `dalsi_csv` a **jména sloupečků** (záhlaví):"
   ]
  },
  {
   "cell_type": "code",
   "execution_count": null,
   "metadata": {},
   "outputs": [],
   "source": [
    "zapisovac = csv.DictWriter(dalsi_csv, fieldnames=osoba_1.keys())"
   ]
  },
  {
   "cell_type": "markdown",
   "metadata": {},
   "source": [
    "Můžeš záznamy zapsat **postupně**:"
   ]
  },
  {
   "cell_type": "code",
   "execution_count": null,
   "metadata": {},
   "outputs": [],
   "source": [
    "zapisovac.writeheader()"
   ]
  },
  {
   "cell_type": "code",
   "execution_count": null,
   "metadata": {},
   "outputs": [],
   "source": [
    "zapisovac.writerow(osoba_1)\n",
    "zapisovac.writerow(osoba_2)"
   ]
  },
  {
   "cell_type": "markdown",
   "metadata": {},
   "source": [
    "eventuálně zapsat také **hromadně**:"
   ]
  },
  {
   "cell_type": "code",
   "execution_count": null,
   "metadata": {},
   "outputs": [],
   "source": [
    "zapisovac.writerows((osoba_1, osoba_2))"
   ]
  },
  {
   "cell_type": "markdown",
   "metadata": {},
   "source": [
    "a nakonec *stream* zase důsledně uzavřít:"
   ]
  },
  {
   "cell_type": "code",
   "execution_count": null,
   "metadata": {},
   "outputs": [],
   "source": [
    "dalsi_csv.close()"
   ]
  },
  {
   "cell_type": "code",
   "execution_count": null,
   "metadata": {},
   "outputs": [],
   "source": [
    "dalsi_csv.closed"
   ]
  },
  {
   "cell_type": "markdown",
   "metadata": {},
   "source": [
    "### Přečti obsah souboru `.csv`"
   ]
  },
  {
   "cell_type": "code",
   "execution_count": null,
   "metadata": {},
   "outputs": [],
   "source": [
    "obsah_csv = open(\n",
    "    \"druha_tabulka.csv\",\n",
    "    encoding=\"utf-8\",\n",
    "    mode=\"r\"  # Default\n",
    ")"
   ]
  },
  {
   "cell_type": "code",
   "execution_count": null,
   "metadata": {},
   "outputs": [],
   "source": [
    "cteni = csv.reader(obsah_csv)"
   ]
  },
  {
   "cell_type": "markdown",
   "metadata": {},
   "source": [
    "Obsah souboru je možné vrátit **jako sekvenci**:"
   ]
  },
  {
   "cell_type": "code",
   "execution_count": null,
   "metadata": {},
   "outputs": [],
   "source": [
    "tuple(cteni)"
   ]
  },
  {
   "cell_type": "code",
   "execution_count": null,
   "metadata": {},
   "outputs": [],
   "source": [
    "obsah_csv.seek(0)"
   ]
  },
  {
   "cell_type": "markdown",
   "metadata": {},
   "source": [
    "Případně pro další processing **procházet smyčkou**:"
   ]
  },
  {
   "cell_type": "code",
   "execution_count": null,
   "metadata": {},
   "outputs": [],
   "source": [
    "for radek in cteni:\n",
    "    print(radek)"
   ]
  },
  {
   "cell_type": "code",
   "execution_count": null,
   "metadata": {},
   "outputs": [],
   "source": [
    "obsah_csv.close()"
   ]
  },
  {
   "cell_type": "markdown",
   "metadata": {},
   "source": [
    "### DictReader\n",
    "\n",
    "Analogicky je možnost data obsažená v *CSV* souboru reprezentovat s *interpretem* jako `dict`:"
   ]
  },
  {
   "cell_type": "code",
   "execution_count": null,
   "metadata": {},
   "outputs": [],
   "source": [
    "moje_csv = open(\n",
    "    \"druha_tabulka.csv\",\n",
    "    mode=\"r\",\n",
    "    encoding=\"utf-8\"\n",
    ")"
   ]
  },
  {
   "cell_type": "code",
   "execution_count": null,
   "metadata": {},
   "outputs": [],
   "source": [
    "obsah = csv.DictReader(moje_csv)"
   ]
  },
  {
   "cell_type": "code",
   "execution_count": null,
   "metadata": {},
   "outputs": [],
   "source": [
    "print(tuple(obsah))"
   ]
  },
  {
   "cell_type": "code",
   "execution_count": null,
   "metadata": {},
   "outputs": [],
   "source": [
    "moje_csv.seek(0)"
   ]
  },
  {
   "cell_type": "code",
   "execution_count": null,
   "metadata": {},
   "outputs": [],
   "source": [
    "for radek in obsah:\n",
    "    print(radek)"
   ]
  },
  {
   "cell_type": "code",
   "execution_count": null,
   "metadata": {},
   "outputs": [],
   "source": [
    "moje_csv.close()"
   ]
  },
  {
   "cell_type": "markdown",
   "metadata": {},
   "source": [
    "### Kontextový manažer\n",
    "\n",
    "Prakticky neustále se postup pro manipulaci se soubory kombinuje s manažerem `with`:"
   ]
  },
  {
   "cell_type": "code",
   "execution_count": null,
   "metadata": {},
   "outputs": [],
   "source": [
    "import csv"
   ]
  },
  {
   "cell_type": "code",
   "execution_count": null,
   "metadata": {},
   "outputs": [],
   "source": [
    "jmeno_csv = \"druha_tabulka.csv\""
   ]
  },
  {
   "cell_type": "code",
   "execution_count": null,
   "metadata": {},
   "outputs": [],
   "source": [
    "with open(jmeno_csv, encoding=\"utf-8\", mode=\"r\") as csv_soubor:\n",
    "    cteni = csv.DictReader(csv_soubor)\n",
    "\n",
    "    for zaznam in cteni:\n",
    "        print(zaznam)"
   ]
  },
  {
   "cell_type": "code",
   "execution_count": null,
   "metadata": {},
   "outputs": [],
   "source": [
    "csv_soubor.closed"
   ]
  },
  {
   "cell_type": "markdown",
   "metadata": {},
   "source": [
    "Takže tabulkový formát je zpracovaný, co když budeš potřebovat soubor **organizovaný pomocí klíčů**."
   ]
  },
  {
   "cell_type": "markdown",
   "metadata": {},
   "source": [
    "<br>\n",
    "\n",
    "### 🧠 CVIČENÍ 🧠, Vyzkoušej si práci s *csv*:"
   ]
  },
  {
   "cell_type": "markdown",
   "metadata": {},
   "source": [
    "Za úkol máš zpracovat tabulku o platech zaměstnanců. Tvým úkolem bude vyfiltrovat zaměstnance, kteří mají vyšší plat než je 1500 €. Data jsou uložená v souboru `salaries.csv` ve složce `data`.\n",
    "\n",
    "1. Vytvořte funkci `load_data`, která přijme jako parametr `file`, což je cesta k souboru a vrátí data jako `list`.\n",
    "1. Vytvořte funkci `filter_data_by_salary`, která přijme parametr `data` jako list a `salary` jako int nebo float a vrátí data, která jsou větší než položka `salary`. Data vrátí jako list.\n",
    "1. Vytvořte funkci `save_data`, která přijme parametr file, což je název souboru jako str a uloží vyfiltrovaná data do nového souboru"
   ]
  },
  {
   "cell_type": "markdown",
   "metadata": {},
   "source": [
    "<details>\n",
    "  <summary>▶️ Klikni zde pro zobrazení řešení</summary>\n",
    "\n",
    "  ```python\n",
    "  import csv\n",
    "\n",
    "def load_data(file: str) -> list:\n",
    "    with open(file, mode='r') as file:\n",
    "        reader = csv.DictReader(file)\n",
    "        return [row for row in reader]\n",
    "\n",
    "def filter_data_by_salary(data:list, salary: int | float):\n",
    "    result = [row for row in data if float(row['prijem']) > salary]\n",
    "    return result\n",
    "\n",
    "def save_data(data: list, file: str=\"output.csv\") -> None:\n",
    "    with open(file, mode='w') as file:\n",
    "        writer = csv.DictWriter(file, fieldnames=['jmeno', 'vek', 'mesto', 'prijem'])\n",
    "        writer.writeheader()\n",
    "        writer.writerows(data)\n",
    "\n",
    "def main():\n",
    "    data = load_data('./data/salaries.csv')\n",
    "    filtered_data = filter_data_by_salary(data, 1500)\n",
    "    save_data(filtered_data)\n",
    "\n",
    "main()\n",
    "```\n",
    "</details>"
   ]
  },
  {
   "cell_type": "markdown",
   "metadata": {},
   "source": [
    "<img src=\"https://external-content.duckduckgo.com/iu/?u=https%3A%2F%2Ftse1.mm.bing.net%2Fth%3Fid%3DOIP.HE9t18rjtPfxKI4noPxHiwHaHa%26pid%3DApi&f=1&ipt=75010c912a1bd645939e0cce59df21f5842a62439ba97cda758a4c7002f40ae6&ipo=images\" width=\"200\">\n",
    "\n",
    "## Soubor JSON\n",
    "\n",
    "---"
   ]
  },
  {
   "cell_type": "markdown",
   "metadata": {},
   "source": [
    "### Další materiály\n",
    "\n",
    "- [Oficiální dokumentace python.org](https://docs.python.org/3/library/json.html)\n",
    "- [Neoficiální tutoriál realpython.com](https://realpython.com/python-json/)\n",
    "- [Pyladies materiály](https://naucse.python.cz/lessons/intro/json/)\n",
    "\n",
    "---"
   ]
  },
  {
   "cell_type": "markdown",
   "metadata": {},
   "source": [
    "### Co je JSON?\n",
    "- JSON (JavaScript Object Notation) je lehký datový formát pro výměnu informací.\n",
    "- Jedná se o textový formát, který je snadno čitelný pro lidi a jednoduše zpracovatelný stroji.\n",
    "\n",
    "### Hlavní vlastnosti JSON\n",
    "- **Jednoduchý textový formát**: Data jsou reprezentována jako text, což usnadňuje jejich ukládání a přenos.\n",
    "- **Jazyková nezávislost**: I když má kořeny v JavaScriptu, je podporován většinou programovacích jazyků.\n",
    "- **Strukturovaný formát**: Umožňuje reprezentaci složitějších datových struktur.\n",
    "\n",
    "### Základní datové typy v JSON\n",
    "- **Objekt**: Složený z dvojic `klíč: hodnota`, obalený `{}`.\n",
    "  - Příklad:\n",
    "    ```json\n",
    "    { \"jmeno\": \"Daniel\", \"vek\": 30 }\n",
    "    ```\n",
    "- **Pole (Array)**: Seznam hodnot obalený `[]`.\n",
    "  - Příklad:\n",
    "    ```json\n",
    "    [ \"Python\", \"JavaScript\", \"C++\" ]\n",
    "    ```\n",
    "- **Primitivní typy**:\n",
    "  - **String**: `\"řetězec\"`\n",
    "  - **Číslo**: `123`, `45.6`\n",
    "  - **Boolean**: `true`, `false`\n",
    "  - **Null**: `null`\n",
    "\n",
    "### Použití JSON\n",
    "- **Výměna dat**: Mezi klientem a serverem (např. v REST API).\n",
    "- **Ukládání dat**: Např. v konfiguračních souborech.\n",
    "- **Zpracování dat**: Jednoduché parsování a serializace v různých jazycích.\n",
    "\n",
    "### Výhody JSON\n",
    "- Lehký a snadno přenositelný.\n",
    "- Lidsky čitelný a snadno upravitelný.\n",
    "- Široká podpora v různých ekosystémech a knihovnách."
   ]
  },
  {
   "cell_type": "markdown",
   "metadata": {},
   "source": [
    "**JSON** si můžeš představit následovně:\n",
    "```json\n",
    "{\n",
    "  \"nazev\": \"Inception\",\n",
    "  \"rok\": 2010,\n",
    "  \"reziser\": \"Christopher Nolan\",\n",
    "  \"zanry\": [\"Sci-fi\", \"Akční\", \"Thriller\"],\n",
    "  \"hodnoceni\": {\n",
    "    \"imdb\": 8.8,\n",
    "    \"rottentomatoes\": 87,\n",
    "    \"csfd\": 90\n",
    "  },\n",
    "  \"hlavni_herci\": [\n",
    "    {\n",
    "      \"jmeno\": \"Leonardo DiCaprio\",\n",
    "      \"role\": \"Dom Cobb\"\n",
    "    },\n",
    "    {\n",
    "      \"jmeno\": \"Joseph Gordon-Levitt\",\n",
    "      \"role\": \"Arthur\"\n",
    "    },\n",
    "    {\n",
    "      \"jmeno\": \"Elliot Page\",\n",
    "      \"role\": \"Ariadne\"\n",
    "    }\n",
    "  ],\n",
    "  \"doba_trvani_min\": 148,\n",
    "  \"jazyk\": \"Angličtina\",\n",
    "  \"rozpocet_usd\": 160000000,\n",
    "  \"vydelky_usd\": 829895144,\n",
    "  \"je_dostupny_streaming\": true\n",
    "}\n",
    "```\n"
   ]
  },
  {
   "cell_type": "markdown",
   "metadata": {},
   "source": [
    "Na první pohled můžeš říct, že se hodně podobá **Pythonovskému slovníku**.\n",
    "\n",
    "Nicméně má svoji vlastní charakteristickou **sadu pravidel** pro převod datových typů.\n",
    "\n",
    "Níže jsou uvedená některá pravidla, která se týkají ukázky výše (všechna pravidla najdeš [zde](https://docs.python.org/3/library/json.html#encoders-and-decoders)):\n",
    "\n",
    "\n",
    "| JSON | Python |\n",
    "| :-: | :-: |\n",
    "| string | str |\n",
    "| true | True |\n",
    "| false | False |\n",
    "| null | None |"
   ]
  },
  {
   "cell_type": "markdown",
   "metadata": {},
   "source": [
    "Účelem tohoto souboru je zejména **přenos dat** (*JavaScript Object Notation*).\n",
    "\n",
    "Jde o záměrně zjednodušený formát, který **není standardním datovým typem pro Python**."
   ]
  },
  {
   "cell_type": "markdown",
   "metadata": {},
   "source": [
    "Poměrně často se s ním setkáš u **webových aplikací** různých *eshopů*, které ti vykresují nabídku na základě informací získaných z databází.\n",
    "\n",
    "**Web**:\n",
    "- Ukázka API: https://api.chucknorris.io/jokes/random\n",
    "- Ukázka jak funguje načítání dat z API na webu: "
   ]
  },
  {
   "cell_type": "markdown",
   "metadata": {},
   "source": [
    "#### Balíček `json`:\n",
    "\n",
    "---"
   ]
  },
  {
   "cell_type": "markdown",
   "metadata": {},
   "source": [
    "Protože **JSON** není standardním datovým typem, jako takový jej nemůžeš v Pythonu použít.\n",
    "\n",
    "Pokud budeš chtít pracovat s JSON v Pythonu, musíš *nahrát* k tomu určenou **built-in knihovnu**."
   ]
  },
  {
   "cell_type": "markdown",
   "metadata": {},
   "source": [
    "\n",
    "V rámci <a href=\"https://docs.python.org/3/library/index.html\" target=\"_blank\">seznamu dokumentace Pythonu</a>  najdeš knihovnu `json`.\n",
    "\n",
    "Právě tato knihovna ti umožní pomocí *interpretu* Pythonu *vytvořit* nebo *načíst* JSON."
   ]
  },
  {
   "cell_type": "code",
   "execution_count": null,
   "metadata": {},
   "outputs": [],
   "source": [
    "import json  # nahrátí knihovny"
   ]
  },
  {
   "cell_type": "code",
   "execution_count": null,
   "metadata": {},
   "outputs": [],
   "source": [
    "help(json)   # nápověda"
   ]
  },
  {
   "cell_type": "code",
   "execution_count": null,
   "metadata": {},
   "outputs": [],
   "source": [
    "dir(json)    # seznam všech metod"
   ]
  },
  {
   "cell_type": "code",
   "execution_count": null,
   "metadata": {},
   "outputs": [],
   "source": [
    "tuple(       # bez magických metod\n",
    "    object\n",
    "    for object in dir(json)\n",
    "    if not object.startswith(\"__\")\n",
    ")"
   ]
  },
  {
   "cell_type": "markdown",
   "metadata": {},
   "source": [
    "<br>\n",
    "\n",
    "#### Vyzkoušíme si následující:\n",
    "\n",
    "---\n",
    "\n",
    "<br>\n",
    "\n",
    "| jméno metody | účel metody |\n",
    "| :-| :- |\n",
    "| json.load(m) | načte JSON data ze souboru (objektu) |\n",
    "| json.loads(m) | načte JSON data ze stringu |\n",
    "| json.dump(m, n) | zapíše JSON objekt do souboru (objektu) |\n",
    "| json.dumps(m) | zapíše JSON objekt do stringu |\n",
    "\n",
    "<br>\n",
    "\n",
    "*pozn* `m` je objekt (proměnná), `n` je jméno souboru\n",
    "\n",
    "<br>\n",
    "\n",
    "#### Vytvoření souboru `.json`:\n",
    "\n",
    "---\n",
    "\n",
    "Obecně se při práci se soubory typu `json` mluví o procesech *serialization* a *deserialization* (tedy čtení a zápis), ke kterým patří příslušné funkce uvedené výše v tabulce."
   ]
  },
  {
   "cell_type": "code",
   "execution_count": null,
   "metadata": {},
   "outputs": [],
   "source": [
    "chuck_sl = {\n",
    "    \"jmeno\": \"Chuck Norris\",\n",
    "    \"neuspech\": None,\n",
    "    \"kliky\": \"vsechny\",\n",
    "    \"konkurence\": False,\n",
    "    \"doplneni\": \"Łukasz\",\n",
    "}"
   ]
  },
  {
   "cell_type": "code",
   "execution_count": null,
   "metadata": {},
   "outputs": [],
   "source": [
    "print(type(chuck_sl))"
   ]
  },
  {
   "cell_type": "code",
   "execution_count": null,
   "metadata": {},
   "outputs": [],
   "source": [
    "vypis_json = json.dumps(chuck_sl)"
   ]
  },
  {
   "cell_type": "code",
   "execution_count": null,
   "metadata": {},
   "outputs": [],
   "source": [
    "# null (None), true/false (True/False)!\n",
    "vypis_json"
   ]
  },
  {
   "cell_type": "code",
   "execution_count": null,
   "metadata": {},
   "outputs": [],
   "source": [
    "# json arrays!\n",
    "json.dumps({\"tuple\": (1, 2, 3)})"
   ]
  },
  {
   "cell_type": "code",
   "execution_count": null,
   "metadata": {},
   "outputs": [],
   "source": [
    "# not a tuple!\n",
    "json.loads(json.dumps({\"tuple\": (1, 2, 3)}))"
   ]
  },
  {
   "cell_type": "code",
   "execution_count": null,
   "metadata": {},
   "outputs": [],
   "source": [
    "print(type(vypis_json))"
   ]
  },
  {
   "cell_type": "code",
   "execution_count": null,
   "metadata": {},
   "outputs": [],
   "source": [
    "json.dumps(chuck_sl)"
   ]
  },
  {
   "cell_type": "code",
   "execution_count": null,
   "metadata": {},
   "outputs": [],
   "source": [
    "# compact string\n",
    "json.dumps(chuck_sl, separators=(\",\", \":\"))"
   ]
  },
  {
   "cell_type": "code",
   "execution_count": null,
   "metadata": {},
   "outputs": [],
   "source": [
    "# pretty string\n",
    "json.dumps(chuck_sl, indent=4)"
   ]
  },
  {
   "cell_type": "code",
   "execution_count": null,
   "metadata": {},
   "outputs": [],
   "source": [
    "print(json.dumps(chuck_sl, indent=14))"
   ]
  },
  {
   "cell_type": "code",
   "execution_count": null,
   "metadata": {},
   "outputs": [],
   "source": [
    "# to file (wrong)\n",
    "zapis_json_jako_soubor = json.dump(chuck_sl, \"prvni_json.json\")"
   ]
  },
  {
   "cell_type": "code",
   "execution_count": null,
   "metadata": {},
   "outputs": [],
   "source": [
    "# to file\n",
    "json_soubor = open(\"prvni_json.json\", mode=\"w\")\n",
    "zapis_json_jako_soubor = json.dump(chuck_sl, json_soubor)\n",
    "zapis_json_jako_soubor"
   ]
  },
  {
   "cell_type": "code",
   "execution_count": null,
   "metadata": {},
   "outputs": [],
   "source": [
    "json_soubor.close()"
   ]
  },
  {
   "cell_type": "code",
   "execution_count": null,
   "metadata": {},
   "outputs": [],
   "source": [
    "# Zapis pomoci kontextoveho manageru `with`\n",
    "with open(\"prvni_json_kontext.json\", mode=\"w\") as json_soubor:\n",
    "    json.dump(chuck_sl, json_soubor)"
   ]
  },
  {
   "cell_type": "markdown",
   "metadata": {},
   "source": [
    "<br>\n",
    "\n",
    "#### Načteme existující soubor `.json`:\n",
    "\n",
    "---"
   ]
  },
  {
   "cell_type": "code",
   "execution_count": null,
   "metadata": {},
   "outputs": [],
   "source": [
    "# from file\n",
    "existujici_json = open(\"prvni_json.json\") "
   ]
  },
  {
   "cell_type": "code",
   "execution_count": null,
   "metadata": {},
   "outputs": [],
   "source": [
    "print(existujici_json)"
   ]
  },
  {
   "cell_type": "code",
   "execution_count": null,
   "metadata": {},
   "outputs": [],
   "source": [
    "obsah_json = json.load(existujici_json)"
   ]
  },
  {
   "cell_type": "code",
   "execution_count": null,
   "metadata": {},
   "outputs": [],
   "source": [
    "print(obsah_json)"
   ]
  },
  {
   "cell_type": "code",
   "execution_count": null,
   "metadata": {},
   "outputs": [],
   "source": [
    "type(obsah_json)"
   ]
  },
  {
   "cell_type": "code",
   "execution_count": null,
   "metadata": {},
   "outputs": [],
   "source": [
    "existujici_json.close()"
   ]
  },
  {
   "cell_type": "markdown",
   "metadata": {},
   "source": [
    "### Recap"
   ]
  },
  {
   "cell_type": "code",
   "execution_count": null,
   "metadata": {},
   "outputs": [],
   "source": [
    "# Q: what is error?\n",
    "json.loads('{\"jmeno\": \"Chuck Norris\", \"neuspech\": None, \"kliky\": \"vsechny\", \"konkurence\": False, \"doplneni\": \"Łukasz\"}')"
   ]
  },
  {
   "cell_type": "code",
   "execution_count": null,
   "metadata": {},
   "outputs": [],
   "source": [
    "json.loads('{\"jmeno\": \"Chuck Norris\", \"neuspech\": null, \"kliky\": \"vsechny\", \"konkurence\": false, \"doplneni\": \"Łukasz\"}')\n"
   ]
  },
  {
   "cell_type": "markdown",
   "metadata": {},
   "source": [
    "#### Doplňující argumenty:\n",
    "1. `indent = 4` - odsadí zapsaný `json` o 4 mezery\n",
    "2. `sort_keys` - seřadí klíče (`True`/`False`)\n",
    "3. `ensure_ascii` - `False` zapíše původní znak, `True` zapíše reprezentaci znaku pomocí lomítek.\n",
    "4. `allow_nan`"
   ]
  },
  {
   "cell_type": "code",
   "execution_count": null,
   "metadata": {},
   "outputs": [],
   "source": [
    "json.dumps(obsah_json, indent=4)"
   ]
  },
  {
   "cell_type": "code",
   "execution_count": null,
   "metadata": {},
   "outputs": [],
   "source": [
    "json.dumps(obsah_json, indent=10)"
   ]
  },
  {
   "cell_type": "code",
   "execution_count": null,
   "metadata": {},
   "outputs": [],
   "source": [
    "json.dumps(obsah_json, sort_keys=True)"
   ]
  },
  {
   "cell_type": "code",
   "execution_count": null,
   "metadata": {},
   "outputs": [],
   "source": [
    "json.dumps(obsah_json, ensure_ascii=False)"
   ]
  },
  {
   "cell_type": "code",
   "execution_count": null,
   "metadata": {},
   "outputs": [],
   "source": [
    "# the most useful thing in all today's lecture\n",
    "json.dumps({\"smiley\": \"\\U0001f600\"}, ensure_ascii=False)"
   ]
  },
  {
   "cell_type": "code",
   "execution_count": null,
   "metadata": {},
   "outputs": [],
   "source": [
    "json.dumps({\"smiley\": \"\\U0001f600\"}, ensure_ascii=True)"
   ]
  },
  {
   "cell_type": "code",
   "execution_count": null,
   "metadata": {},
   "outputs": [],
   "source": [
    "import math\n",
    "\n",
    "json.dumps({\"float_nan\": math.nan})  # Not a Number "
   ]
  },
  {
   "cell_type": "code",
   "execution_count": null,
   "metadata": {},
   "outputs": [],
   "source": [
    "json.dumps({\"float_nan\": math.nan}, allow_nan=False)"
   ]
  },
  {
   "cell_type": "code",
   "execution_count": null,
   "metadata": {},
   "outputs": [],
   "source": [
    "# and more...\n",
    "json.loads('{\"one\": 1.0}')"
   ]
  },
  {
   "cell_type": "code",
   "execution_count": null,
   "metadata": {},
   "outputs": [],
   "source": [
    "def add_one(x):\n",
    "    return float(x) + 1.\n",
    "\n",
    "json.loads('{\"one\": 1.0}', parse_float=add_one)"
   ]
  },
  {
   "cell_type": "code",
   "execution_count": null,
   "metadata": {},
   "outputs": [],
   "source": [
    "# and more and more complex...\n",
    "\n",
    "json.loads('{\"__complex__\": true, \"real\": 1, \"imag\": 2}')"
   ]
  },
  {
   "cell_type": "code",
   "execution_count": null,
   "metadata": {},
   "outputs": [],
   "source": [
    "def as_complex(d):\n",
    "    if '__complex__' in d:\n",
    "        return complex(d['real'], d['imag'])\n",
    "    return d\n",
    "\n",
    "json.loads('{\"__complex__\": true, \"real\": 1, \"imag\": 2}', object_hook=as_complex)"
   ]
  },
  {
   "cell_type": "code",
   "execution_count": null,
   "metadata": {},
   "outputs": [],
   "source": [
    "# remembering exceptions :)\n",
    "\n",
    "json.loads('{\"name\":\"Valerie\", \"age\": null, \"universityCompleted\": true}')"
   ]
  },
  {
   "cell_type": "code",
   "execution_count": null,
   "metadata": {},
   "outputs": [],
   "source": [
    "try:\n",
    "    json.loads('{\"name\":\"Valerie\", \"age\": null, \"universityCompleted\": true},{\"name\":\"Valerie\", \"age\": null, \"universityCompleted\": true}')\n",
    "except json.JSONDecodeError:\n",
    "    print(\"Bad formatted json\")"
   ]
  },
  {
   "cell_type": "markdown",
   "metadata": {},
   "source": [
    "---"
   ]
  },
  {
   "cell_type": "markdown",
   "metadata": {},
   "source": [
    "#### Serializace do binární podoby `Pickle`"
   ]
  },
  {
   "cell_type": "markdown",
   "metadata": {},
   "source": [
    "Pokud chceme ukládat objekty Pythonu a nelze využít JSON, tak můžeme použít knihovnu `Pickle`, která ukládá objekty v binární podobě."
   ]
  },
  {
   "cell_type": "markdown",
   "metadata": {},
   "source": [
    "**Kdy lze použít**:\n",
    "\n",
    "- Ukládání stavu programu.\n",
    "- Mezipamět pro rychlejší výpočty (nátrénovaný model strojového učení).\n",
    "- Ukládání složitých datových struktur.\n"
   ]
  },
  {
   "cell_type": "markdown",
   "metadata": {},
   "source": [
    "**Příklad**"
   ]
  },
  {
   "cell_type": "code",
   "execution_count": null,
   "metadata": {},
   "outputs": [],
   "source": [
    "import pickle\n",
    "\n",
    "# Definice vlastní třídy\n",
    "class User:\n",
    "    def __init__(self, username, age):\n",
    "        self.username = username\n",
    "        self.age = age\n",
    "\n",
    "    def greet(self):\n",
    "        return f\"Hello, {self.username}!\"\n",
    "\n",
    "# Vytvoření instance\n",
    "user = User(\"Daniel\", 18)\n",
    "\n",
    "# Serializace pomocí Pickle\n",
    "with open(\"user.pkl\", \"wb\") as file:\n",
    "    pickle.dump(user, file)\n",
    "print(\"User object saved!\")\n",
    "\n",
    "# Deserializace\n",
    "with open(\"user.pkl\", \"rb\") as file:\n",
    "    loaded_user = pickle.load(file)\n",
    "print(\"Loaded User:\", loaded_user.greet())\n"
   ]
  },
  {
   "cell_type": "markdown",
   "metadata": {},
   "source": [
    "<br>\n",
    "\n",
    "<img src=\"https://external-content.duckduckgo.com/iu/?u=https%3A%2F%2Ftse1.mm.bing.net%2Fth%3Fid%3DOIP._kpwh7Nlbd9zz581knhxIgHaHa%26pid%3DApi&f=1&ipt=8b3537d53bff97aa8ee01b5f42a34e5740448207c5c479158e94be6a62b75cdc&ipo=images\" width=\"220\">"
   ]
  },
  {
   "cell_type": "markdown",
   "metadata": {},
   "source": [
    "## Spouštění skriptu s argumenty\n",
    "\n",
    "---"
   ]
  },
  {
   "cell_type": "markdown",
   "metadata": {},
   "source": [
    "#### knihovna `sys`\n",
    "\n",
    "Tato knihovna ti umožní různé operace.\n",
    "\n",
    "Od spouštění různých systémových příkazů, zpřístupní nejrůznější systémové proměnné.\n",
    "\n",
    "Dále umí také doplnit spuštění tvého skriptu.\n",
    "\n",
    "Jak předáš jednoduchému skriptu informaci, že tvoje jméno je `\"Matouš\"`?"
   ]
  },
  {
   "cell_type": "code",
   "execution_count": null,
   "metadata": {},
   "outputs": [],
   "source": [
    "jmeno = input(\"zadej jméno:\".upper())"
   ]
  },
  {
   "cell_type": "code",
   "execution_count": null,
   "metadata": {
    "scrolled": true
   },
   "outputs": [],
   "source": [
    "print(jmeno)"
   ]
  },
  {
   "cell_type": "markdown",
   "metadata": {},
   "source": [
    "Velkou nevýhodou takového zápisu je ovšem samotná funkce `input`.\n",
    "\n",
    "Zejména kvůli:\n",
    "* **nepraktickému** chování (funkce zkrátká čeká),\n",
    "* následnému **testování** (potřeba přepisovat *\"mockovat\"* funkcionalitu).\n",
    "\n",
    "Proto ji **v produkčním prostředí** prakticky nepotkáš."
   ]
  },
  {
   "cell_type": "markdown",
   "metadata": {},
   "source": [
    "Jak tedy elegantně zadat hodnotu pro tvůj program?"
   ]
  },
  {
   "cell_type": "markdown",
   "metadata": {},
   "source": [
    "### Knihovna SYS"
   ]
  },
  {
   "cell_type": "markdown",
   "metadata": {},
   "source": [
    "Další způsob, jak efektivně předat hodnotu pro tvůj skript, je pomocí spouštěcích argumentů této knihovny:"
   ]
  },
  {
   "cell_type": "markdown",
   "metadata": {},
   "source": [
    "<br>\n",
    "\n",
    "#### Simulace příkazové řádky\n",
    "\n",
    "---\n",
    "\n",
    "Příkazy pro spuštění v konzoli se v prostředí Jupyter označují vykřičníkem na začátku řádku. Poté následuje zápis shodný s příkazem psaným do příkazové řádky."
   ]
  },
  {
   "cell_type": "code",
   "execution_count": null,
   "metadata": {},
   "outputs": [],
   "source": [
    "%%file test_sys.py\n",
    "\n",
    "import sys\n",
    "\n",
    "print(sys.argv)"
   ]
  },
  {
   "cell_type": "code",
   "execution_count": null,
   "metadata": {},
   "outputs": [],
   "source": [
    "!python test_sys.py ahoj čau"
   ]
  },
  {
   "cell_type": "markdown",
   "metadata": {},
   "source": [
    "V ukázce výše je `sys.argv` objekt typu `list`.\n",
    "\n",
    "Tím pádem jej můžeš indexovat, jak budeš potřebovat."
   ]
  },
  {
   "cell_type": "code",
   "execution_count": null,
   "metadata": {},
   "outputs": [],
   "source": [
    "%%file test_sys.py\n",
    "\n",
    "import sys\n",
    "\n",
    "print(\n",
    "    \"0: Nultý index:\", sys.argv[0],\n",
    "    \"1: První index:\", sys.argv[1],\n",
    "    sep=\"\\n\"\n",
    ")"
   ]
  },
  {
   "cell_type": "code",
   "execution_count": null,
   "metadata": {},
   "outputs": [],
   "source": [
    "!python test_sys.py ahoj čau"
   ]
  },
  {
   "cell_type": "markdown",
   "metadata": {},
   "source": [
    "Kde platí:\n",
    "1. **Nultý index** reprezentuje vždy jméno souboru, který spouštíš,\n",
    "2. **První index** potom první údaj, který zadáš."
   ]
  },
  {
   "cell_type": "markdown",
   "metadata": {},
   "source": [
    "Argumenty takhle můžeš zadávat různými způsoby.\n",
    "\n",
    "Pokud potřebuješ **specifický údaj**, můžeš přidat podmínku:"
   ]
  },
  {
   "cell_type": "code",
   "execution_count": null,
   "metadata": {},
   "outputs": [],
   "source": [
    "%%file test_sys.py\n",
    "\n",
    "import sys\n",
    "\n",
    "if sys.argv[1] not in (\"ano\", \"ne\"):\n",
    "    print(\"Neplatný argument\")\n",
    "else:\n",
    "    print(\"Pokračuji\")"
   ]
  },
  {
   "cell_type": "code",
   "execution_count": null,
   "metadata": {},
   "outputs": [],
   "source": [
    "!python test_sys.py ano"
   ]
  },
  {
   "cell_type": "code",
   "execution_count": null,
   "metadata": {},
   "outputs": [],
   "source": [
    "!python test_sys.py blbost"
   ]
  },
  {
   "cell_type": "markdown",
   "metadata": {},
   "source": [
    "<br>\n",
    "\n",
    "Pokud budeš potřebovat určité množství argumentů, můžeš hlídat jejich počet:"
   ]
  },
  {
   "cell_type": "code",
   "execution_count": null,
   "metadata": {},
   "outputs": [],
   "source": [
    "%%file test_sys.py\n",
    "\n",
    "import sys\n",
    "\n",
    "if len(sys.argv) != 3:\n",
    "    print(\n",
    "        \"Chybné spuštění\",\n",
    "        \"Příklad: python jmeno.py 'arg1' 'arg2'\",\n",
    "        sep=\"\\n\"\n",
    "    )\n",
    "else:\n",
    "    print(\"Pokračuji\")"
   ]
  },
  {
   "cell_type": "code",
   "execution_count": null,
   "metadata": {},
   "outputs": [],
   "source": [
    "!python test_sys.py ahoj lidi"
   ]
  },
  {
   "cell_type": "code",
   "execution_count": null,
   "metadata": {},
   "outputs": [],
   "source": [
    "!python test_sys.py ahoj"
   ]
  },
  {
   "cell_type": "markdown",
   "metadata": {},
   "source": [
    "\n",
    "<br>\n",
    "\n",
    "Pracování s několika argumenty:"
   ]
  },
  {
   "cell_type": "code",
   "execution_count": null,
   "metadata": {},
   "outputs": [],
   "source": [
    "%%file test_sys.py\n",
    "\n",
    "import sys\n",
    "\n",
    "vsechny_hodnoty = sys.argv[1:]\n",
    "pocet_hodnot = len(sys.argv[1:])\n",
    "\n",
    "print(vsechny_hodnoty, pocet_hodnot, sep=\"\\n\")"
   ]
  },
  {
   "cell_type": "code",
   "execution_count": null,
   "metadata": {},
   "outputs": [],
   "source": [
    "!python test_sys.py 1 2 3"
   ]
  },
  {
   "cell_type": "markdown",
   "metadata": {},
   "source": [
    "\n",
    "<br>\n",
    "\n",
    "Ovšem i tento způsob pracování s argumenty není elegantním řešením pro složitější zadání.\n",
    "\n",
    "Další varianty:\n",
    "1. Knihovny `argparse` ([dokumentace](https://docs.python.org/3/library/argparse.html?highlight=argparse#module-argparse)), *zabudovaná* knihovna,\n",
    "2. knihovna `click` ([dokumentace](https://pypi.org/project/click/)), knihovna *třetí strany*.\n",
    "\n"
   ]
  },
  {
   "cell_type": "markdown",
   "metadata": {},
   "source": [
    "#### Knihovna `argparse`"
   ]
  },
  {
   "cell_type": "code",
   "execution_count": null,
   "metadata": {},
   "outputs": [],
   "source": [
    "%%file test_argparse.py\n",
    "\n",
    "import argparse\n",
    "\n",
    "# Vytvoření parseru\n",
    "parser = argparse.ArgumentParser(\n",
    "    description=\"Ukázka klíčových funkcí knihovny argparse.\"\n",
    ")\n",
    "\n",
    "# Povinný poziční argument\n",
    "parser.add_argument(\n",
    "    \"soubor\",                    # Název argumentu\n",
    "    type=str,                    # Typ argumentu (řetězec)\n",
    "    help=\"Cesta k vstupnímu souboru\"  # Popis argumentu\n",
    ")\n",
    "\n",
    "# Volitelný argument s výchozí hodnotou\n",
    "parser.add_argument(\n",
    "    \"--vystup\",                  # Volitelný argument\n",
    "    type=str,                    # Typ argumentu (řetězec)\n",
    "    default=\"output.txt\",        # Výchozí hodnota\n",
    "    help=\"Cesta k výstupnímu souboru (výchozí: output.txt)\"\n",
    ")\n",
    "\n",
    "# Argument s omezením na konkrétní hodnoty\n",
    "parser.add_argument(\n",
    "    \"--format\",\n",
    "    choices=[\"text\", \"json\", \"csv\"],  # Omezení na povolené hodnoty\n",
    "    default=\"text\",              # Výchozí hodnota\n",
    "    help=\"Formát výstupu: text, json nebo csv (výchozí: text)\"\n",
    ")\n",
    "\n",
    "# Přepínač (True, pokud je uveden)\n",
    "parser.add_argument(\n",
    "    \"-v\", \"--verbose\",\n",
    "    action=\"store_true\",         # Přepínač\n",
    "    help=\"Zapne detailní výstup\"\n",
    ")\n",
    "\n",
    "# Argument, který přijímá více hodnot\n",
    "parser.add_argument(\n",
    "    \"--filtry\",\n",
    "    nargs=\"+\",                   # Přijímá jednu nebo více hodnot\n",
    "    type=str,                    # Typ každé hodnoty (řetězec)\n",
    "    help=\"Seznam filtrů pro zpracování dat (např. filter1 filter2)\"\n",
    ")\n",
    "\n",
    "# Číselný argument s výchozím rozsahem\n",
    "parser.add_argument(\n",
    "    \"--iterace\",\n",
    "    type=int,                    # Typ argumentu (integer)\n",
    "    default=1,                   # Výchozí hodnota\n",
    "    help=\"Počet iterací zpracování (výchozí: 1)\"\n",
    ")\n",
    "\n",
    "# Parsování argumentů\n",
    "args = parser.parse_args()\n",
    "\n",
    "# --- Použití argumentů ---\n",
    "print(f\"Vstupní soubor: {args.soubor}\")\n",
    "print(f\"Výstupní soubor: {args.vystup}\")\n",
    "print(f\"Formát výstupu: {args.format}\")\n",
    "\n",
    "if args.verbose:\n",
    "    print(\"Detailní výstup je zapnut.\")\n",
    "\n",
    "if args.filtry:\n",
    "    print(f\"Aktivní filtry: {', '.join(args.filtry)}\")\n",
    "else:\n",
    "    print(\"Žádné filtry nebyly zadány.\")\n",
    "\n",
    "print(f\"Počet iterací: {args.iterace}\")\n"
   ]
  },
  {
   "cell_type": "code",
   "execution_count": null,
   "metadata": {},
   "outputs": [],
   "source": [
    "!python test_argparse.py --help"
   ]
  },
  {
   "cell_type": "code",
   "execution_count": null,
   "metadata": {},
   "outputs": [],
   "source": [
    "!python test_argparse.py zdrojovy_soubor.txt"
   ]
  },
  {
   "cell_type": "code",
   "execution_count": null,
   "metadata": {},
   "outputs": [],
   "source": [
    "!python test_argparse.py zdrojovy_soubor.txt --vystup results.csv --format csv -v --filtry filter1 filter2 --iterace 5\n"
   ]
  },
  {
   "cell_type": "markdown",
   "metadata": {},
   "source": [
    "##### Knihovna `click`"
   ]
  },
  {
   "cell_type": "markdown",
   "metadata": {},
   "source": [
    "**📄 Oficální dokumentace: https://click.palletsprojects.com/en/stable/**"
   ]
  },
  {
   "cell_type": "markdown",
   "metadata": {},
   "source": [
    "**💪 Zase ty dekorátory**"
   ]
  },
  {
   "cell_type": "code",
   "execution_count": 70,
   "metadata": {},
   "outputs": [
    {
     "name": "stdout",
     "output_type": "stream",
     "text": [
      "Overwriting test_click.py\n"
     ]
    }
   ],
   "source": [
    "%%file test_click.py\n",
    "\n",
    "import click\n",
    "\n",
    "# Definice hlavní funkce\n",
    "@click.command()\n",
    "@click.argument(\"soubor\")  # Povinný poziční argument\n",
    "@click.option(\n",
    "    \"--vystup\", \"-o\",\n",
    "    default=\"output.txt\",\n",
    "    help=\"Cesta k výstupnímu souboru (výchozí: output.txt)\"\n",
    ")\n",
    "@click.option(\n",
    "    \"--format\", \"-f\",\n",
    "    type=click.Choice([\"text\", \"json\", \"csv\"], case_sensitive=False),\n",
    "    default=\"text\",\n",
    "    help=\"Formát výstupu: text, json nebo csv (výchozí: text)\"\n",
    ")\n",
    "@click.option(\n",
    "    \"--verbose\", \"-v\",\n",
    "    is_flag=True,\n",
    "    help=\"Zapne detailní výstup\"\n",
    ")\n",
    "@click.option(\n",
    "    \"--filtry\", \"-fl\",\n",
    "    multiple=True,  # Umožňuje zadat více hodnot\n",
    "    help=\"Seznam filtrů pro zpracování dat\"\n",
    ")\n",
    "@click.option(\n",
    "    \"--iterace\", \"-i\",\n",
    "    default=1,\n",
    "    type=int,\n",
    "    show_default=True,\n",
    "    help=\"Počet iterací zpracování\"\n",
    ")\n",
    "def cli(soubor, vystup, format, verbose, filtry, iterace):\n",
    "    \"\"\"\n",
    "    Ukázka klíčových funkcí knihovny Click.\n",
    "    \"\"\"\n",
    "    # --- Použití argumentů ---\n",
    "    click.echo(f\"Vstupní soubor: {soubor}\")\n",
    "    click.echo(f\"Výstupní soubor: {vystup}\")\n",
    "    click.echo(f\"Formát výstupu: {format}\")\n",
    "\n",
    "    if verbose:\n",
    "        click.echo(\"Detailní výstup je zapnut.\")\n",
    "\n",
    "    if filtry:\n",
    "        click.echo(f\"Aktivní filtry: {', '.join(filtry)}\")\n",
    "    else:\n",
    "        click.echo(\"Žádné filtry nebyly zadány.\")\n",
    "\n",
    "    click.echo(f\"Počet iterací: {iterace}\")\n",
    "\n",
    "    # Simulace iterací\n",
    "    for i in range(iterace):\n",
    "        click.echo(f\"Iterace {i + 1}...\")\n",
    "\n",
    "# Spuštění programu\n",
    "if __name__ == \"__main__\":\n",
    "    cli()\n"
   ]
  },
  {
   "cell_type": "code",
   "execution_count": 71,
   "metadata": {},
   "outputs": [
    {
     "name": "stdout",
     "output_type": "stream",
     "text": [
      "Usage: test_click.py [OPTIONS] SOUBOR\n",
      "\n",
      "  Ukázka klíčových funkcí knihovny Click.\n",
      "\n",
      "Options:\n",
      "  -o, --vystup TEXT             Cesta k výstupnímu souboru (výchozí:\n",
      "                                output.txt)\n",
      "  -f, --format [text|json|csv]  Formát výstupu: text, json nebo csv (výchozí:\n",
      "                                text)\n",
      "  -v, --verbose                 Zapne detailní výstup\n",
      "  -fl, --filtry TEXT            Seznam filtrů pro zpracování dat\n",
      "  -i, --iterace INTEGER         Počet iterací zpracování  [default: 1]\n",
      "  --help                        Show this message and exit.\n"
     ]
    }
   ],
   "source": [
    "!python test_click.py --help"
   ]
  },
  {
   "cell_type": "code",
   "execution_count": 72,
   "metadata": {},
   "outputs": [
    {
     "name": "stdout",
     "output_type": "stream",
     "text": [
      "Vstupní soubor: zdrojovy_soubor.txt\n",
      "Výstupní soubor: output.txt\n",
      "Formát výstupu: text\n",
      "Žádné filtry nebyly zadány.\n",
      "Počet iterací: 1\n",
      "Iterace 1...\n"
     ]
    }
   ],
   "source": [
    "!python test_click.py zdrojovy_soubor.txt"
   ]
  },
  {
   "cell_type": "code",
   "execution_count": 74,
   "metadata": {},
   "outputs": [
    {
     "name": "stdout",
     "output_type": "stream",
     "text": [
      "Vstupní soubor: zdrojovy_soubor.txt\n",
      "Výstupní soubor: results.csv\n",
      "Formát výstupu: csv\n",
      "Detailní výstup je zapnut.\n",
      "Aktivní filtry: filter1, filter2\n",
      "Počet iterací: 5\n",
      "Iterace 1...\n",
      "Iterace 2...\n",
      "Iterace 3...\n",
      "Iterace 4...\n",
      "Iterace 5...\n"
     ]
    }
   ],
   "source": [
    "!python test_click.py zdrojovy_soubor.txt --vystup results.csv --format csv -v --filtry filter1 --filtry filter2 --iterace 5\n"
   ]
  },
  {
   "cell_type": "markdown",
   "metadata": {},
   "source": [
    "<br>\n",
    "\n",
    "<img src=\"https://external-content.duckduckgo.com/iu/?u=https%3A%2F%2Ftse3.mm.bing.net%2Fth%3Fid%3DOIP.GMJvJ-GG0YS8H5JmHR3CbwHaHm%26pid%3DApi&f=1&ipt=110157bae9409977a59d895a970a6d51afa8a31e0c7fca53a1f95fd2402f9a35&ipo=images\" width=\"200\">\n",
    "\n",
    "## Domácí úloha\n",
    "\n",
    "---"
   ]
  },
  {
   "cell_type": "markdown",
   "metadata": {},
   "source": [
    "Napiš *skript*, který:\n",
    "\n",
    "1. Načte soubor typu `JSON`,\n",
    "2. rozdělí obsah **podle klíčů**,\n",
    "3. zapíšeš rozdělená data do sloupečků **v CSV souboru**,\n",
    "4. (nepovinné), zadávání vstupního a výstupního jména souborů proběhne pomocí spouštěcích argumentů.\n",
    "\n",
    "Vstupní **JSON** soubor:"
   ]
  },
  {
   "cell_type": "markdown",
   "metadata": {},
   "source": [
    "```\n",
    "    {\n",
    "        \"id\": 1,\n",
    "        \"first_name\": \"Dorri\",\n",
    "        \"last_name\": \"Di Bernardo\",\n",
    "        \"email\": \"ddibernardo0@nba.com\",\n",
    "        \"gender\": \"Female\",\n",
    "        \"ip_address\": \"158.223.131.8\"\n",
    "    },\n",
    "    {\n",
    "        \"id\": 2,\n",
    "        \"first_name\": \"Nisse\",\n",
    "        \"last_name\": \"Noye\",\n",
    "        \"email\": \"nnoye1@theatlantic.com\",\n",
    "        \"gender\": \"Female\",\n",
    "        \"ip_address\": \"252.57.218.72\"\n",
    "    },\n",
    "    ...\n",
    "```"
   ]
  },
  {
   "cell_type": "markdown",
   "metadata": {},
   "source": [
    "Výstupní **CSV**:\n",
    "```\n",
    "[\"id\", \"first_name\", \"last_name\", \"email\", \"gender\", \"ip_address\"],\n",
    "[\"1\", \"Dorri\", \"Di Bernardo\", \"ddibernardo0@nba.com\", \"Female\", \"158.223.131.8\"],\n",
    "[\"2\", \"Nisse\", \"Noye\", \"nnoye1@theatlantic.com\", \"Female\", \"252.57.218.72\"],\n",
    "...\n",
    "```"
   ]
  },
  {
   "cell_type": "markdown",
   "metadata": {},
   "source": [
    "---"
   ]
  },
  {
   "cell_type": "markdown",
   "metadata": {},
   "source": [
    "# Když zbyde čas ⌛"
   ]
  },
  {
   "cell_type": "markdown",
   "metadata": {},
   "source": [
    "Knihovna Marshmallow"
   ]
  },
  {
   "cell_type": "markdown",
   "metadata": {},
   "source": [
    "Knihovna PyDantic"
   ]
  },
  {
   "cell_type": "markdown",
   "metadata": {},
   "source": [
    "XML, TOML, YAML"
   ]
  },
  {
   "cell_type": "markdown",
   "metadata": {},
   "source": [
    "Ukázka argparse"
   ]
  },
  {
   "cell_type": "markdown",
   "metadata": {},
   "source": []
  }
 ],
 "metadata": {
  "kernelspec": {
   "display_name": "Python 3",
   "language": "python",
   "name": "python3"
  },
  "language_info": {
   "codemirror_mode": {
    "name": "ipython",
    "version": 3
   },
   "file_extension": ".py",
   "mimetype": "text/x-python",
   "name": "python",
   "nbconvert_exporter": "python",
   "pygments_lexer": "ipython3",
   "version": "3.12.3"
  }
 },
 "nbformat": 4,
 "nbformat_minor": 4
}
