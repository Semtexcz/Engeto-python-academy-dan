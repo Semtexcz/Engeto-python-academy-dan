{
 "cells": [
  {
   "cell_type": "markdown",
   "metadata": {},
   "source": [
    "### Soubory `csv`\n",
    "---\n",
    "- [Oficiální dokumentace na python.org](https://docs.python.org/3/library/csv.html)\n",
    "\n",
    "<br>\n",
    "\n",
    "#### Obecně k formátu\n",
    "\n",
    "---\n",
    "\n",
    "Je formát založený na hodnotách oddělených obecně **oddělovačem** (~*comma-separated values*). Dále je tento typ souboru psaný v určitém **dialektu** (*newline*, *separator*).\n",
    "\n",
    "<br>\n",
    "\n",
    "**Oddělovačem** je (defaultně) čárka. Ale lze použít středník, tabulátor, mezera, aj.\n",
    "\n",
    "<br>\n",
    "\n",
    "**Dialektem** rozumíme nějaký soubor pravidel, podle kterých `csv` soubory zapisujeme a čteme. Např.typ oddělovače, ukončení řádků, mezery za oddělovači, aj.\n",
    "\n",
    "<br>\n",
    "\n",
    "Základní stavební jednotkou jsou *buňky* (*columns*), které jsou naskládané do *řádků* (*rows*).\n",
    "\n",
    "<br>\n",
    "\n",
    "#### Možnosti modulu `csv`\n",
    "\n",
    "---"
   ]
  },
  {
   "cell_type": "code",
   "execution_count": null,
   "metadata": {},
   "outputs": [],
   "source": [
    "import csv  # nahrajeme knihovnu"
   ]
  },
  {
   "cell_type": "code",
   "execution_count": null,
   "metadata": {
    "tags": []
   },
   "outputs": [],
   "source": [
    "help(csv)   # nápověda knihovny"
   ]
  },
  {
   "cell_type": "code",
   "execution_count": null,
   "metadata": {
    "tags": []
   },
   "outputs": [],
   "source": [
    "dir(csv)    # objekty knihovny"
   ]
  },
  {
   "cell_type": "markdown",
   "metadata": {},
   "source": [
    "<br>\n",
    "\n",
    "#### Vyzkoušíme si následující\n",
    "\n",
    "---\n",
    "\n",
    "| jméno objektu | účel metody |\n",
    "| :-| :- |\n",
    "| csv.reader(m) | funkce vrátí iterovatelný objekt (co cyklus, to řádek) |\n",
    "| csv.writer(m) | funkce zapíše objekt do souboru (+ `writerows`)|\n",
    "| csv.DictWriter(m) | třída pro zápis slovníku do souboru |\n",
    "| csv.DictReader(m) | třída pro čtení souboru do slovníku |\n",
    "\n",
    "<br>\n",
    "\n",
    "\n",
    "*pozn* `m` je objekt (proměnná)\n",
    "\n",
    "<br>\n",
    "\n",
    "Základní dva procesy, které budeme provádět jsou:\n",
    "1. __čtení__ souboru `csv`\n",
    "2. __zápis__ do souboru `csv`\n",
    "\n",
    "<br>\n",
    "\n",
    "#### Vytvoříme soubor s příp. `.csv`\n",
    "\n",
    "---"
   ]
  },
  {
   "cell_type": "code",
   "execution_count": null,
   "metadata": {},
   "outputs": [],
   "source": [
    "!dir data "
   ]
  },
  {
   "cell_type": "code",
   "execution_count": null,
   "metadata": {},
   "outputs": [],
   "source": [
    "hlavicka = [\"jmeno\", \"prijmeni\", \"vek\"]\n",
    "osoba_1 = [\"Jana\", \"Novakova\", \"28\"]\n",
    "osoba_2 = [\"Petr\", \"Svetr\", \"27\"]\n"
   ]
  },
  {
   "cell_type": "code",
   "execution_count": null,
   "metadata": {},
   "outputs": [],
   "source": [
    "zapis_csv = open(\"data/prvni_tabulka.csv\", mode=\"w\", newline=\"\")"
   ]
  },
  {
   "cell_type": "code",
   "execution_count": null,
   "metadata": {},
   "outputs": [],
   "source": [
    "print(zapis_csv)"
   ]
  },
  {
   "cell_type": "code",
   "execution_count": null,
   "metadata": {},
   "outputs": [],
   "source": [
    "zapis = csv.writer(zapis_csv, delimiter=\",\")"
   ]
  },
  {
   "cell_type": "code",
   "execution_count": null,
   "metadata": {},
   "outputs": [],
   "source": [
    "zapis.writerow(hlavicka)\n",
    "zapis.writerow(osoba_1)\n",
    "zapis.writerow(osoba_2)"
   ]
  },
  {
   "cell_type": "code",
   "execution_count": null,
   "metadata": {},
   "outputs": [],
   "source": [
    "zapis_csv.close()"
   ]
  },
  {
   "cell_type": "markdown",
   "metadata": {},
   "source": [
    "<br>\n",
    "\n",
    "#### Přečteme obsah souboru `.csv`\n",
    "\n",
    "---"
   ]
  },
  {
   "cell_type": "code",
   "execution_count": null,
   "metadata": {},
   "outputs": [],
   "source": [
    "!dir data "
   ]
  },
  {
   "cell_type": "code",
   "execution_count": null,
   "metadata": {},
   "outputs": [],
   "source": [
    "# Q: will this work?..\n",
    "cteni = csv.reader(\"data/prvni_tabulka.csv\", delimiter=\",\")"
   ]
  },
  {
   "cell_type": "code",
   "execution_count": null,
   "metadata": {},
   "outputs": [],
   "source": [
    "# oh, probably not what we wanted...\n",
    "for radek in cteni:\n",
    "    print(radek)"
   ]
  },
  {
   "cell_type": "code",
   "execution_count": null,
   "metadata": {},
   "outputs": [],
   "source": [
    "import csv\n",
    "cteni_csv = open(\"data/prvni_tabulka.csv\", encoding=\"utf-8\")"
   ]
  },
  {
   "cell_type": "code",
   "execution_count": null,
   "metadata": {},
   "outputs": [],
   "source": [
    "cteni = csv.reader(cteni_csv, dialect=\"excel\")"
   ]
  },
  {
   "cell_type": "code",
   "execution_count": null,
   "metadata": {},
   "outputs": [],
   "source": [
    "print(cteni)"
   ]
  },
  {
   "cell_type": "code",
   "execution_count": null,
   "metadata": {},
   "outputs": [],
   "source": [
    "for radek in cteni:\n",
    "    print(radek)"
   ]
  },
  {
   "cell_type": "code",
   "execution_count": null,
   "metadata": {},
   "outputs": [],
   "source": [
    "cteni_csv.close()"
   ]
  },
  {
   "cell_type": "code",
   "execution_count": null,
   "metadata": {},
   "outputs": [],
   "source": [
    "# but can also work in (maybe) unexpected way\n",
    "# => csvfile: Iterable[str]\n",
    "\n",
    "radky = [\"jmeno,prijmeni,vek\",\"Jana,Novakova,28\",\"Petr,Svetr,27\"]\n",
    "cteni = csv.reader(radky, dialect=\"excel\")\n",
    "\n",
    "for radek in cteni:\n",
    "    print(radek)"
   ]
  },
  {
   "cell_type": "code",
   "execution_count": null,
   "metadata": {},
   "outputs": [],
   "source": [
    "cteni.dialect"
   ]
  },
  {
   "cell_type": "code",
   "execution_count": null,
   "metadata": {},
   "outputs": [],
   "source": [
    "cteni.dialect.delimiter"
   ]
  },
  {
   "cell_type": "code",
   "execution_count": null,
   "metadata": {},
   "outputs": [],
   "source": [
    "# Alternative read/write: DictReader / DictWriter\n",
    "# works with dictionaries"
   ]
  },
  {
   "cell_type": "code",
   "execution_count": null,
   "metadata": {},
   "outputs": [],
   "source": [
    "with open(\"data/prvni_tabulka.csv\", newline=\"\") as f:\n",
    "    cteni = csv.DictReader(f)\n",
    "    for radek in cteni:\n",
    "        print(radek)"
   ]
  },
  {
   "cell_type": "code",
   "execution_count": null,
   "metadata": {},
   "outputs": [],
   "source": [
    "slovniky = [\n",
    "    {'jmeno': 'Jana', 'prijmeni': 'Novakova', 'vek': '28'},\n",
    "    {'jmeno': 'Petr', 'prijmeni': 'Svetr', 'vek': '27'}\n",
    "]\n",
    "with open(\"data/druha_tabulka.csv\", newline=\"\", mode=\"w\") as f:\n",
    "    klice = [\"jmeno\", \"prijmeni\", \"vek\"]\n",
    "    zapis = csv.DictWriter(f, fieldnames=klice)\n",
    "    zapis.writeheader()\n",
    "    for radek in slovniky:\n",
    "        zapis.writerow(radek)"
   ]
  },
  {
   "cell_type": "markdown",
   "metadata": {},
   "source": [
    "---"
   ]
  }
 ],
 "metadata": {
  "kernelspec": {
   "display_name": "Python 3.8.2 64-bit ('3.8.2')",
   "language": "python",
   "name": "python3"
  },
  "language_info": {
   "codemirror_mode": {
    "name": "ipython",
    "version": 3
   },
   "file_extension": ".py",
   "mimetype": "text/x-python",
   "name": "python",
   "nbconvert_exporter": "python",
   "pygments_lexer": "ipython3",
   "version": "3.8.2"
  },
  "vscode": {
   "interpreter": {
    "hash": "ecd8761dea100a2d9e1fdeaf69ac1f388bbf96fb845ba6f63a89cc6490b98639"
   }
  }
 },
 "nbformat": 4,
 "nbformat_minor": 4
}
