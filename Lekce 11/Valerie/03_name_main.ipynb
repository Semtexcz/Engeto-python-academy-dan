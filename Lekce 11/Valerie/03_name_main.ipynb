{
 "cells": [
  {
   "cell_type": "markdown",
   "metadata": {},
   "source": [
    "### if \\_\\_name__ == \"\\_\\_main__\"\n",
    "---\n",
    "- [Oficiální dokumentace na python.org](https://docs.python.org/3/library/csv.html)\n",
    "\n",
    "<br>\n",
    "\n",
    "#### Obecně\n",
    "\n",
    "---\n",
    "\n",
    "Jde o zápis, který nám umožní **bezkonfliktně importovat** naše objekty ze souborů, který se chová jako modul.\n",
    "\n",
    "<br>\n",
    "\n",
    "#### Ukázka\n",
    "\n",
    "---"
   ]
  },
  {
   "cell_type": "code",
   "execution_count": null,
   "metadata": {},
   "outputs": [],
   "source": [
    "def hlavni():\n",
    "    print(\"Volani prvni funkce...\")\n",
    "    funkce_1()\n",
    "    print(\"Volani druhe funkce...\")\n",
    "    funkce_2()\n",
    "    print(\"Volani treti funkce...\")\n",
    "    funkce_3()\n",
    "\n",
    "def funkce_1():\n",
    "    print(\"Spousteni prvni funkce...\")\n",
    "\n",
    "def funkce_2():\n",
    "    print(\"Spousteni druhe funkce...\")\n",
    "\n",
    "def funkce_3():\n",
    "    print(\"Spousteni treti funkce...\")\n",
    "\n",
    "hlavni()"
   ]
  },
  {
   "cell_type": "markdown",
   "metadata": {},
   "source": [
    "<br>\n",
    "\n",
    "⬆️ Představte si situaci, kdy budu z tohoto modulu chtít nahrát pouze funkci `funkce_2`.\n",
    "\n",
    "<br>\n",
    "\n",
    "Pokud importujeme nyní modul s těmito funkcemi, dojde k nežádoucímu spuštění všech funkcí."
   ]
  },
  {
   "cell_type": "code",
   "execution_count": null,
   "metadata": {},
   "outputs": [],
   "source": [
    "def hlavni():\n",
    "    print(\"Volani prvni funkce...\")\n",
    "    funkce_1()\n",
    "    print(\"Volani druhe funkce...\")\n",
    "    funkce_2()\n",
    "    print(\"Volani treti funkce...\")\n",
    "    funkce_3()\n",
    "\n",
    "\n",
    "def funkce_1():\n",
    "    print(\"Spousteni prvni funkce...\")\n",
    "\n",
    "\n",
    "def funkce_2():\n",
    "    print(\"Spousteni druhe funkce...\")\n",
    "\n",
    "\n",
    "def funkce_3():\n",
    "    print(\"Spousteni treti funkce...\")\n",
    "    \n",
    "\n",
    "if __name__ == \"__main__\":\n",
    "    print(\"Spousteni jako soubor\")\n",
    "    hlavni()\n",
    "else:\n",
    "    print(\"Spousteni pres importovani\")\n",
    "           # pouze pro představu"
   ]
  },
  {
   "cell_type": "markdown",
   "metadata": {},
   "source": [
    "<br>\n",
    "\n",
    "#### Více teorie\n",
    "\n",
    "---\n",
    "\n",
    "Python čte zdrojový soubor (náš .py soubor) a provádí následující:\n",
    "\n",
    "1. Nastaví několik *speciálních proměnných* (mezi němi `__name__`),\n",
    "2. spustí všechen zápis v souboru.\n",
    "\n",
    "<br>\n",
    "\n",
    "Pokud spouštím zdrojový soubor:\n",
    "```bash\n",
    "$ python example.py\n",
    "Spousteni jako soubor\n",
    "Volani prvni funkce...\n",
    "Spousteni prvni funkce...\n",
    "Volani druhe funkce...\n",
    "Spousteni druhe funkce...\n",
    "Volani treti funkce...\n",
    "Spousteni treti funkce...\n",
    "\n",
    "```\n",
    "Interpret nastaví do proměnné `__name__` hodnotu `\"example.py\"`\n",
    "\n",
    "<br>\n",
    "\n",
    "Pokud ale spustím interpret a zdrojový soubor importuji jako modul:\n",
    "```bash\n",
    "$ python\n",
    ">>> import example\n",
    "Spousteni pres importovani\n",
    "```\n",
    "Interpret nastaví do proměnné `__name__` hodnotu `\"__main__\"`"
   ]
  },
  {
   "cell_type": "markdown",
   "metadata": {},
   "source": [
    "---"
   ]
  }
 ],
 "metadata": {
  "kernelspec": {
   "display_name": "Python 3 (ipykernel)",
   "language": "python",
   "name": "python3"
  },
  "language_info": {
   "codemirror_mode": {
    "name": "ipython",
    "version": 3
   },
   "file_extension": ".py",
   "mimetype": "text/x-python",
   "name": "python",
   "nbconvert_exporter": "python",
   "pygments_lexer": "ipython3",
   "version": "3.9.5"
  }
 },
 "nbformat": 4,
 "nbformat_minor": 4
}
