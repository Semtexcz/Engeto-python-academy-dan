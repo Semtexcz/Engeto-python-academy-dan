{
 "cells": [
  {
   "cell_type": "markdown",
   "metadata": {},
   "source": [
    "### Lekce #11, Python akademie\n",
    "\n",
    "---"
   ]
  },
  {
   "cell_type": "markdown",
   "metadata": {},
   "source": [
    "<br>\n",
    "\n",
    "#### Obsah lekce\n",
    "\n",
    "---\n",
    "\n",
    "\n",
    "1. [Knihovna json](01_json.ipynb)\n",
    "2. [Knihovna csv](02_csv.ipynb)\n",
    "3. [name == main](03_name_main.ipynb)\n",
    "4. [Knihovna sys, argumenty](04_sys_args.ipynb)\n",
    "5. [Onsite `json2csv`](05_onsite_json2csv.ipynb)\n",
    "6. [Opakování `CHALLENGES`](06_challenges_p11.ipynb)"
   ]
  },
  {
   "cell_type": "markdown",
   "metadata": {},
   "source": [
    "<img src=https://media.giphy.com/media/Y0b2MpUTfnrUa3jIM7/giphy.gif width=\"200\">"
   ]
  },
  {
   "cell_type": "markdown",
   "metadata": {},
   "source": [
    "<br>\n",
    "\n",
    "#### Užitečné odkazy\n",
    "\n",
    "---\n",
    "\n",
    "- [Pomocný nástroj **generátor náhodných slov** (mockaroo.com)](https://mockaroo.com/)\n",
    "- [Oficiální dokumentace balíku **json** (python.org)](https://docs.python.org/3/library/json.html)\n",
    "- [Oficiální dokumentace modulu **sys** (python.org)](https://docs.python.org/3/library/sys.html)\n",
    "- [Oficiální dokumentace modulu **os**(python.org)](https://docs.python.org/3/library/os.html)"
   ]
  },
  {
   "cell_type": "markdown",
   "metadata": {},
   "source": [
    "<br>\n",
    "\n",
    "#### Motivace\n",
    "\n",
    "---\n",
    "\n",
    "Podobně jako nám Python umožní pracovat s textovými soubory, můžeme s formáty typů `json` a `csv`(je jich samozřejmě více).\n",
    "\n",
    "<br>\n",
    "\n",
    "Pokud potřebuješ uložit slovník jako `json`, pokud potřebuješ rychle zpracovat opravdu dlouhý tabulkový formát `csv`, můžeš jednoduše nahrát některou z vestavěných knihoven a práci si usnadnit.\n",
    "\n",
    "<br>\n",
    "\n",
    "Nebo dokonce automatizovat, abys takovou manuální práci nemusel nikdy provádět znovu!\n",
    "\n",
    "<br>\n",
    "\n",
    "#### Úvod\n",
    "\n",
    "---\n",
    "\n",
    "Bohužel formáty typu `json` a `csv` nejsou nativními formáty Pythonu (narozdíl od `list`, `dict`, `set`).\n",
    "\n",
    "<br>\n",
    "\n",
    "Pokud s nimi chceš pracovat v rámci Pythonu budeš muset použít knihovny.\n",
    "1. `import json` - pokud chceš pracovat s `.json` soubory,\n",
    "2. `import csv` - pokud chceš pracovat s `.csv` soubory,"
   ]
  },
  {
   "cell_type": "markdown",
   "metadata": {},
   "source": [
    "---"
   ]
  }
 ],
 "metadata": {
  "kernelspec": {
   "display_name": "Python 3.8.2 64-bit ('3.8.2')",
   "language": "python",
   "name": "python3"
  },
  "language_info": {
   "codemirror_mode": {
    "name": "ipython",
    "version": 3
   },
   "file_extension": ".py",
   "mimetype": "text/x-python",
   "name": "python",
   "nbconvert_exporter": "python",
   "pygments_lexer": "ipython3",
   "version": "3.8.2"
  },
  "vscode": {
   "interpreter": {
    "hash": "ecd8761dea100a2d9e1fdeaf69ac1f388bbf96fb845ba6f63a89cc6490b98639"
   }
  }
 },
 "nbformat": 4,
 "nbformat_minor": 4
}
