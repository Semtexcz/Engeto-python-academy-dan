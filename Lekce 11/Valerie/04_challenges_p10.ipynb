{
 "cells": [
  {
   "cell_type": "markdown",
   "metadata": {},
   "source": [
    "### Opakování po desáté lekci!\n",
    "\n",
    "---\n",
    "\n",
    "Trochu rozehřejeme šedou kůru mozkovou s opakováním po lekci handling a debugování.\n",
    "\n",
    "<br>\n",
    "\n",
    "#### Ukázka #01\n",
    "---"
   ]
  },
  {
   "cell_type": "code",
   "execution_count": 2,
   "metadata": {},
   "outputs": [
    {
     "name": "stdout",
     "output_type": "stream",
     "text": [
      "File not found\n"
     ]
    }
   ],
   "source": [
    "# Kdy použijeme 'error handling', kdy 'debugování'?\n",
    "\n",
    "try:\n",
    "    f = open(\"file1.txt\")\n",
    "except ValueError:\n",
    "    ...\n",
    "except FileNotFoundError:\n",
    "    print(\"File not found\")\n",
    "#else:\n",
    "#finally:"
   ]
  },
  {
   "cell_type": "code",
   "execution_count": null,
   "metadata": {},
   "outputs": [],
   "source": [
    "try:\n",
    "    device.connect()\n",
    "    while True:\n",
    "        device.buffer.read() # cist buffer\n",
    "except KeyboardInterrupt:  # Ctrl+C\n",
    "    device.buffer.clear()\n",
    "    device.close()"
   ]
  },
  {
   "cell_type": "markdown",
   "metadata": {},
   "source": [
    "<details>\n",
    "  <summary>▶️  Klikni zde pro zobrazení řešení</summary>\n",
    "\n",
    "*Error handling* je syntaxe, kterou použiješ pro práci s konkrétními výjimkami (chyba ~ výjimka).\n",
    "\n",
    "<br>\n",
    "    \n",
    "*Debugging* je postup, kterým odstraňuješ logické chyby ze svého zápisu.\n",
    "\n",
    "</details>"
   ]
  },
  {
   "cell_type": "code",
   "execution_count": null,
   "metadata": {},
   "outputs": [],
   "source": []
  },
  {
   "cell_type": "markdown",
   "metadata": {},
   "source": [
    "<br>\n",
    "\n",
    "\n",
    "#### Ukázka #02\n",
    "\n",
    "---"
   ]
  },
  {
   "cell_type": "code",
   "execution_count": 7,
   "metadata": {},
   "outputs": [
    {
     "ename": "FileNotFoundError",
     "evalue": "[Errno 2] No such file or directory: 'datadata/soubor.txt'",
     "output_type": "error",
     "traceback": [
      "\u001b[0;31m---------------------------------------------------------------------------\u001b[0m",
      "\u001b[0;31mFileNotFoundError\u001b[0m                         Traceback (most recent call last)",
      "\u001b[0;32m/tmp/ipykernel_13649/1536012129.py\u001b[0m in \u001b[0;36m<module>\u001b[0;34m\u001b[0m\n\u001b[0;32m----> 1\u001b[0;31m \u001b[0;32mwith\u001b[0m \u001b[0mopen\u001b[0m\u001b[0;34m(\u001b[0m\u001b[0;34m\"datadata/soubor.txt\"\u001b[0m\u001b[0;34m,\u001b[0m \u001b[0;34m\"w\"\u001b[0m\u001b[0;34m)\u001b[0m \u001b[0;32mas\u001b[0m \u001b[0mf\u001b[0m\u001b[0;34m:\u001b[0m\u001b[0;34m\u001b[0m\u001b[0;34m\u001b[0m\u001b[0m\n\u001b[0m\u001b[1;32m      2\u001b[0m     \u001b[0mf\u001b[0m\u001b[0;34m.\u001b[0m\u001b[0mwrite\u001b[0m\u001b[0;34m(\u001b[0m\u001b[0;34m\"Text.\"\u001b[0m\u001b[0;34m)\u001b[0m\u001b[0;34m\u001b[0m\u001b[0;34m\u001b[0m\u001b[0m\n",
      "\u001b[0;31mFileNotFoundError\u001b[0m: [Errno 2] No such file or directory: 'datadata/soubor.txt'"
     ]
    }
   ],
   "source": [
    "with open(\"datadata/soubor.txt\", \"w\") as f:\n",
    "    f.write(\"Text.\")"
   ]
  },
  {
   "cell_type": "code",
   "execution_count": 13,
   "metadata": {},
   "outputs": [
    {
     "name": "stdout",
     "output_type": "stream",
     "text": [
      "Some other error\n"
     ]
    }
   ],
   "source": [
    "# Jak by měla vypadat správně napsaná syntaxe try-except-else?\n",
    "# nacist soubor\n",
    "import os \n",
    "try:\n",
    "    with open(\"soubor.txt\", \"w\") as f:\n",
    "        f.write(\"Text.\")\n",
    "\n",
    "    import numpy as np\n",
    "    np.zeros((3, 3)).reshape((1,))\n",
    "except:\n",
    "    os.makedirs(\"datadata\")\n",
    "    print(\"Some error\")\n",
    "\n",
    "else:\n",
    "    print(\"Ok\")"
   ]
  },
  {
   "cell_type": "code",
   "execution_count": null,
   "metadata": {},
   "outputs": [],
   "source": [
    "for iteration in range(10):\n",
    "    try:\n",
    "        run_experiment()\n",
    "    except:\n",
    "        continue"
   ]
  },
  {
   "cell_type": "markdown",
   "metadata": {},
   "source": [
    "<details>\n",
    "  <summary>▶️  Klikni zde pro zobrazení řešení</summary>\n",
    "\n",
    "Konkrétní zápis pro syntaxi try-except-else, může vypadat následně:\n",
    "```python\n",
    "try:\n",
    "    txt_objekt = open(\"muj_soubor.txt\")\n",
    "    # ohlaseni, ktere chci provest\n",
    "    \n",
    "except FileNotFoundError:\n",
    "    obsah = \"Soubor neni k dispozici\"\n",
    "else:\n",
    "    obsah = txt_objekt.read()\n",
    "finally:  # volitelne, ne povinne\n",
    "    print(\"Konec importu txt souboru\")\n",
    "    return obsah  # \"Soubor neni k dispozici\"/\"toto je prvni radek\\ntoto...\"\n",
    "```\n",
    "\n",
    "</details>"
   ]
  },
  {
   "cell_type": "markdown",
   "metadata": {},
   "source": [
    "<br>\n",
    "\n",
    "#### Ukázka #03\n",
    "\n",
    "---"
   ]
  },
  {
   "cell_type": "code",
   "execution_count": 20,
   "metadata": {},
   "outputs": [
    {
     "name": "stdout",
     "output_type": "stream",
     "text": [
      "ERROR\n"
     ]
    }
   ],
   "source": [
    "# Kdy bych neměl používát try-except-else?\n",
    "\n",
    "try:\n",
    "    ...\n",
    "except (ValueError, ZeroDivisionError):\n",
    "    ...\n",
    "except FileNotFoundError:\n",
    "    ...\n",
    "except:  # zbytek vyjimek\n",
    "    ...\n",
    "else:\n",
    "    ..."
   ]
  },
  {
   "cell_type": "markdown",
   "metadata": {},
   "source": [
    "<details>\n",
    "  <summary>▶️  Klikni zde pro zobrazení řešení</summary>\n",
    "\n",
    "Obecně řečeno, pokud tvůj zápis vypadá následně:\n",
    "```python\n",
    "try:\n",
    "    # neco\n",
    "except:\n",
    "    pass\n",
    "```\n",
    "Nepracuješ s žádnou **konkrétní výjimkou**. Tudíž nemá význam tuto syntaxi aplikovat.\n",
    "    \n",
    "<br>\n",
    "    \n",
    "Často je vhodnější v takovém případě zapsat podmínkový strom.\n",
    "    \n",
    "</details>"
   ]
  },
  {
   "cell_type": "markdown",
   "metadata": {},
   "source": [
    "<br>\n",
    "\n",
    "#### Ukázka #04\n",
    "\n",
    "---"
   ]
  },
  {
   "cell_type": "code",
   "execution_count": null,
   "metadata": {},
   "outputs": [],
   "source": [
    "# Co znamená tato zpráva?\n",
    "\"\"\"\n",
    "Traceback (most recent call last):\n",
    "  File \"solution/solution11.py\", line 80, in <module>\n",
    "    hlavni()\n",
    "  File \"solution/modul_matematika.py\", line 9, in hlavni\n",
    "    json_to_csv(rel_cesta, zadouci_klice)\n",
    "  File \"solution/modul_vizualizace.py\", line 26, in json_to_csv\n",
    "    zapis_upravene_do_csv(\"vysledky.csv\", obsah_jsonu)\n",
    "  File \"solution/modul_vizualizace.py\", line 68, in zapis_upravene_do_csv\n",
    "    sloupecky = udaje.keys()\n",
    "AttributeError: 'list' object has no attribute 'keys'\n",
    "\"\"\""
   ]
  },
  {
   "cell_type": "markdown",
   "metadata": {},
   "source": [
    "<details>\n",
    "  <summary>▶️  Klikni zde pro zobrazení řešení</summary>\n",
    "\n",
    "*Traceback* je jak policejní pes. Projde tvůj zápis od začátku až do místa s chybou a vypíše ti o tom každý krok (každý řádek), kterým prošel.\n",
    "    \n",
    "Následuje jméno výjimky `AttributeError` a zpráva výjimky `'list' object has no attribute 'keys'`.\n",
    "    \n",
    "</details>"
   ]
  },
  {
   "cell_type": "markdown",
   "metadata": {},
   "source": [
    "---"
   ]
  }
 ],
 "metadata": {
  "kernelspec": {
   "display_name": "Python 3.8.2 64-bit ('3.8.2')",
   "language": "python",
   "name": "python3"
  },
  "language_info": {
   "codemirror_mode": {
    "name": "ipython",
    "version": 3
   },
   "file_extension": ".py",
   "mimetype": "text/x-python",
   "name": "python",
   "nbconvert_exporter": "python",
   "pygments_lexer": "ipython3",
   "version": "3.8.2"
  },
  "vscode": {
   "interpreter": {
    "hash": "ecd8761dea100a2d9e1fdeaf69ac1f388bbf96fb845ba6f63a89cc6490b98639"
   }
  }
 },
 "nbformat": 4,
 "nbformat_minor": 4
}
