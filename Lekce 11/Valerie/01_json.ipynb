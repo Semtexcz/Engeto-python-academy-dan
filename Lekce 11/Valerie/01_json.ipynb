{
 "cells": [
  {
   "cell_type": "markdown",
   "metadata": {},
   "source": [
    "### Soubory `json`\n",
    "---\n",
    "\n",
    "- [Oficiální dokumentace python.org](https://docs.python.org/3/library/json.html)\n",
    "- [Neoficiální tutoriál realpython.com](https://realpython.com/python-json/)\n",
    "- [Pyladies materiály](https://naucse.python.cz/lessons/intro/json/)\n",
    "\n",
    "<br>\n",
    "\n",
    "#### Obecně `.json`\n",
    "\n",
    "---\n",
    "\n",
    "Účelně zjednoduššený formát, určený pro přenos dat & objektů (JSON ~ *JavaScript Object Notation*), tedy standartní formát pro výměnu dat.\n",
    "\n",
    "<br>\n",
    "\n",
    "Jeho účelem je zřejmý, používá se k přenosu dat mezi **webovou aplikací** a **serverem**. Je snadno čitelný, lehce formátovatelný, poměrně často používaný.\n",
    "\n",
    "<br>\n",
    "\n",
    "Při prvním pohledu můžeme říct, že se podobá Pythonovskému slovníku. Nicméně má svoji vlastní charakteristickou sadu pravidel:\n",
    "\n",
    "<br>\n",
    "\n",
    "| JSON | Python |\n",
    "| :-: | :-: |\n",
    "| string | str |\n",
    "| true | True |\n",
    "| false | False |\n",
    "| null | None |\n",
    "\n",
    "<br>\n",
    "\n",
    "*pozn.* jde o mapování jednotlivý datových typů na jiné ([zdroj](https://docs.python.org/3/library/json.html#encoders-and-decoders))\n",
    "\n",
    "<br>\n",
    "\n",
    "#### Ukázka souboru `json`:\n",
    "\n",
    "---\n",
    "\n",
    "```python\n",
    "{\n",
    "    \"jmeno\": \"Chuck Norris\",\n",
    "    \"neuspech\": null,\n",
    "    \"kliky\": \"vsechny\",\n",
    "    \"konkurence\": false,\n",
    "}\n",
    "```\n",
    "\n",
    "Praktická ukázka [webu](https://www.knihydobrovsky.cz/)\n",
    "\n",
    "<br>\n",
    "\n",
    "#### Balíček `json`:\n",
    "\n",
    "---"
   ]
  },
  {
   "cell_type": "code",
   "execution_count": null,
   "metadata": {},
   "outputs": [],
   "source": [
    "import json  # nahrátí knihovny"
   ]
  },
  {
   "cell_type": "code",
   "execution_count": null,
   "metadata": {
    "tags": []
   },
   "outputs": [],
   "source": [
    "help(json)   # nápověda"
   ]
  },
  {
   "cell_type": "code",
   "execution_count": null,
   "metadata": {},
   "outputs": [],
   "source": [
    "dir(json)    # seznam všech metod\n",
    "\n",
    "try:\n",
    "    # read json\n",
    "except json.JSONDecodeError:\n",
    "    print(\"Badly formatted JSON\")"
   ]
  },
  {
   "cell_type": "markdown",
   "metadata": {},
   "source": [
    "<br>\n",
    "\n",
    "#### Vyzkoušíme si následující:\n",
    "\n",
    "---\n",
    "\n",
    "<br>\n",
    "\n",
    "| jméno metody | účel metody |\n",
    "| :-| :- |\n",
    "| json.load(m) | načte JSON data ze souboru (objektu) |\n",
    "| json.loads(m) | načte JSON data ze stringu |\n",
    "| json.dump(m, n) | zapíše JSON objekt do souboru (objektu) |\n",
    "| json.dumps(m) | zapíše JSON objekt do stringu |\n",
    "\n",
    "<br>\n",
    "\n",
    "*pozn* `m` je objekt (proměnná), `n` je jméno souboru\n",
    "\n",
    "<br>\n",
    "\n",
    "#### Vytvoření souboru `.json`:\n",
    "\n",
    "---\n",
    "\n",
    "Obecně se při práci se soubory typu `json` mluví o procesech *serialization* a *deserialization* (tedy čtení a zápis), ke kterým patří příslušné funkce uvedené výše v tabulce."
   ]
  },
  {
   "cell_type": "code",
   "execution_count": null,
   "metadata": {},
   "outputs": [],
   "source": [
    "chuck_sl = {\n",
    "    \"jmeno\": \"Chuck Norris\",\n",
    "    \"neuspech\": None,\n",
    "    \"kliky\": \"vsechny\",\n",
    "    \"konkurence\": False,\n",
    "    \"doplneni\": \"Łukasz\",\n",
    "}"
   ]
  },
  {
   "cell_type": "code",
   "execution_count": null,
   "metadata": {},
   "outputs": [],
   "source": [
    "print(type(chuck_sl))"
   ]
  },
  {
   "cell_type": "code",
   "execution_count": null,
   "metadata": {},
   "outputs": [],
   "source": [
    "vypis_json = json.dumps(chuck_sl)"
   ]
  },
  {
   "cell_type": "code",
   "execution_count": null,
   "metadata": {},
   "outputs": [],
   "source": [
    "# null (None), true/false (True/False)!\n",
    "vypis_json"
   ]
  },
  {
   "cell_type": "code",
   "execution_count": null,
   "metadata": {},
   "outputs": [],
   "source": [
    "# json arrays!\n",
    "json.dumps({\"tuple\": (1, 2, 3)})"
   ]
  },
  {
   "cell_type": "code",
   "execution_count": null,
   "metadata": {},
   "outputs": [],
   "source": [
    "# not a tuple!\n",
    "json.loads(json.dumps({\"tuple\": (1, 2, 3)}))"
   ]
  },
  {
   "cell_type": "code",
   "execution_count": null,
   "metadata": {
    "scrolled": true
   },
   "outputs": [],
   "source": [
    "print(type(vypis_json))"
   ]
  },
  {
   "cell_type": "code",
   "execution_count": null,
   "metadata": {},
   "outputs": [],
   "source": [
    "json.dumps(chuck_sl)"
   ]
  },
  {
   "cell_type": "code",
   "execution_count": null,
   "metadata": {},
   "outputs": [],
   "source": [
    "# compact string\n",
    "json.dumps(chuck_sl, separators=(\",\", \":\"))"
   ]
  },
  {
   "cell_type": "code",
   "execution_count": null,
   "metadata": {},
   "outputs": [],
   "source": [
    "# pretty string\n",
    "json.dumps(chuck_sl, indent=4)"
   ]
  },
  {
   "cell_type": "code",
   "execution_count": null,
   "metadata": {},
   "outputs": [],
   "source": [
    "print(json.dumps(chuck_sl, indent=14))"
   ]
  },
  {
   "cell_type": "code",
   "execution_count": null,
   "metadata": {},
   "outputs": [],
   "source": [
    "# to file (wrong)\n",
    "zapis_json_jako_soubor = json.dump(chuck_sl, \"prvni_json.json\")"
   ]
  },
  {
   "cell_type": "code",
   "execution_count": null,
   "metadata": {},
   "outputs": [],
   "source": [
    "# to file\n",
    "json_soubor = open(\"prvni_json.json\", mode=\"w\")\n",
    "zapis_json_jako_soubor = json.dump(chuck_sl, json_soubor)\n",
    "zapis_json_jako_soubor"
   ]
  },
  {
   "cell_type": "code",
   "execution_count": null,
   "metadata": {},
   "outputs": [],
   "source": [
    "json_soubor.close()"
   ]
  },
  {
   "cell_type": "code",
   "execution_count": null,
   "metadata": {},
   "outputs": [],
   "source": [
    "# Zapis pomoci kontextoveho manageru `with`\n",
    "with open(\"prvni_json_kontext.json\", mode=\"w\") as json_soubor:\n",
    "    json.dump(chuck_sl, json_soubor)"
   ]
  },
  {
   "cell_type": "markdown",
   "metadata": {},
   "source": [
    "<br>\n",
    "\n",
    "#### Načteme existující soubor `.json`:\n",
    "\n",
    "---"
   ]
  },
  {
   "cell_type": "code",
   "execution_count": null,
   "metadata": {},
   "outputs": [],
   "source": [
    "# from file\n",
    "existujici_json = open(\"prvni_json.json\") "
   ]
  },
  {
   "cell_type": "code",
   "execution_count": null,
   "metadata": {},
   "outputs": [],
   "source": [
    "print(existujici_json)"
   ]
  },
  {
   "cell_type": "code",
   "execution_count": null,
   "metadata": {},
   "outputs": [],
   "source": [
    "obsah_json = json.load(existujici_json)"
   ]
  },
  {
   "cell_type": "code",
   "execution_count": null,
   "metadata": {},
   "outputs": [],
   "source": [
    "print(obsah_json)"
   ]
  },
  {
   "cell_type": "code",
   "execution_count": null,
   "metadata": {},
   "outputs": [],
   "source": [
    "type(obsah_json)"
   ]
  },
  {
   "cell_type": "code",
   "execution_count": null,
   "metadata": {},
   "outputs": [],
   "source": [
    "existujici_json.close()"
   ]
  },
  {
   "cell_type": "markdown",
   "metadata": {},
   "source": [
    "### Recap"
   ]
  },
  {
   "cell_type": "code",
   "execution_count": null,
   "metadata": {},
   "outputs": [],
   "source": [
    "# Q: what is error?\n",
    "json.loads('{\"jmeno\": \"Chuck Norris\", \"neuspech\": None, \"kliky\": \"vsechny\", \"konkurence\": False, \"doplneni\": \"Łukasz\"}')"
   ]
  },
  {
   "cell_type": "code",
   "execution_count": null,
   "metadata": {},
   "outputs": [],
   "source": [
    "json.loads('{\"jmeno\": \"Chuck Norris\", \"neuspech\": null, \"kliky\": \"vsechny\", \"konkurence\": false, \"doplneni\": \"Łukasz\"}')\n"
   ]
  },
  {
   "cell_type": "markdown",
   "metadata": {},
   "source": [
    "#### Doplňující argumenty:\n",
    "1. `indent = 4` - odsadí zapsaný `json` o 4 mezery\n",
    "2. `sort_keys` - seřadí klíče (`True`/`False`)\n",
    "3. `ensure_ascii` - `False` zapíše původní znak, `True` zapíše reprezentaci znaku pomocí lomítek.\n",
    "4. `allow_nan`"
   ]
  },
  {
   "cell_type": "code",
   "execution_count": null,
   "metadata": {},
   "outputs": [],
   "source": [
    "json.dumps(obsah_json, indent=4)"
   ]
  },
  {
   "cell_type": "code",
   "execution_count": null,
   "metadata": {},
   "outputs": [],
   "source": [
    "json.dumps(obsah_json, indent=10)"
   ]
  },
  {
   "cell_type": "code",
   "execution_count": null,
   "metadata": {},
   "outputs": [],
   "source": [
    "json.dumps(obsah_json, sort_keys=True)"
   ]
  },
  {
   "cell_type": "code",
   "execution_count": null,
   "metadata": {},
   "outputs": [],
   "source": [
    "json.dumps(obsah_json, ensure_ascii=False)"
   ]
  },
  {
   "cell_type": "code",
   "execution_count": null,
   "metadata": {},
   "outputs": [],
   "source": [
    "# the most useful thing in all today's lecture\n",
    "json.dumps({\"smiley\": \"\\U0001f600\"}, ensure_ascii=False)"
   ]
  },
  {
   "cell_type": "code",
   "execution_count": null,
   "metadata": {},
   "outputs": [],
   "source": [
    "json.dumps({\"smiley\": \"\\U0001f600\"}, ensure_ascii=True)"
   ]
  },
  {
   "cell_type": "code",
   "execution_count": null,
   "metadata": {},
   "outputs": [],
   "source": [
    "import math\n",
    "\n",
    "json.dumps({\"float_nan\": math.nan})  # Not a Number "
   ]
  },
  {
   "cell_type": "code",
   "execution_count": null,
   "metadata": {},
   "outputs": [],
   "source": [
    "json.dumps({\"float_nan\": math.nan}, allow_nan=False)"
   ]
  },
  {
   "cell_type": "code",
   "execution_count": null,
   "metadata": {},
   "outputs": [],
   "source": [
    "# and more...\n",
    "json.loads('{\"one\": 1.0}')"
   ]
  },
  {
   "cell_type": "code",
   "execution_count": null,
   "metadata": {},
   "outputs": [],
   "source": [
    "def add_one(x):\n",
    "    return float(x) + 1.\n",
    "\n",
    "json.loads('{\"one\": 1.0}', parse_float=add_one)"
   ]
  },
  {
   "cell_type": "code",
   "execution_count": null,
   "metadata": {},
   "outputs": [],
   "source": [
    "# and more and more complex...\n",
    "\n",
    "json.loads('{\"__complex__\": true, \"real\": 1, \"imag\": 2}')"
   ]
  },
  {
   "cell_type": "code",
   "execution_count": null,
   "metadata": {},
   "outputs": [],
   "source": [
    "def as_complex(d):\n",
    "    if '__complex__' in d:\n",
    "        return complex(d['real'], d['imag'])\n",
    "    return d\n",
    "\n",
    "json.loads('{\"__complex__\": true, \"real\": 1, \"imag\": 2}', object_hook=as_complex)"
   ]
  },
  {
   "cell_type": "code",
   "execution_count": null,
   "metadata": {},
   "outputs": [],
   "source": [
    "# remembering exceptions :)\n",
    "\n",
    "json.loads('{\"name\":\"Valerie\", \"age\": null, \"universityCompleted\": true}')"
   ]
  },
  {
   "cell_type": "code",
   "execution_count": null,
   "metadata": {},
   "outputs": [],
   "source": [
    "try:\n",
    "    json.loads('{\"name\":\"Valerie\", \"age\": null, \"universityCompleted\": true},{\"name\":\"Valerie\", \"age\": null, \"universityCompleted\": true}')\n",
    "except json.JSONDecodeError:\n",
    "    print(\"Bad formatted json\")"
   ]
  },
  {
   "cell_type": "markdown",
   "metadata": {},
   "source": [
    "---"
   ]
  },
  {
   "cell_type": "markdown",
   "metadata": {},
   "source": [
    "`pickle`"
   ]
  },
  {
   "cell_type": "code",
   "execution_count": null,
   "metadata": {},
   "outputs": [],
   "source": [
    "import pickle as pkl\n",
    "\n",
    "with open(\"example_pickle.pkl\", \"wb\") as fb:\n",
    "    pkl.dump({1: \"one\", 2: \"two\"}, fb)"
   ]
  },
  {
   "cell_type": "code",
   "execution_count": null,
   "metadata": {},
   "outputs": [],
   "source": [
    "with open(\"example_pickle.pkl\", \"rb\") as fb:\n",
    "    d = pkl.load(fb)\n",
    "d"
   ]
  },
  {
   "cell_type": "markdown",
   "metadata": {},
   "source": [
    "`requests`"
   ]
  },
  {
   "cell_type": "code",
   "execution_count": null,
   "metadata": {},
   "outputs": [],
   "source": [
    "import requests\n",
    "r = requests.get('https://httpbin.org/basic-auth/user/pass', auth=('user', 'pass'))\n",
    "r.status_code"
   ]
  },
  {
   "cell_type": "code",
   "execution_count": null,
   "metadata": {},
   "outputs": [],
   "source": [
    "r.headers['content-type']"
   ]
  },
  {
   "cell_type": "code",
   "execution_count": null,
   "metadata": {},
   "outputs": [],
   "source": [
    "r.encoding"
   ]
  },
  {
   "cell_type": "code",
   "execution_count": null,
   "metadata": {},
   "outputs": [],
   "source": [
    "r.text"
   ]
  },
  {
   "cell_type": "code",
   "execution_count": null,
   "metadata": {},
   "outputs": [],
   "source": [
    "r.json()"
   ]
  }
 ],
 "metadata": {
  "kernelspec": {
   "display_name": "Python 3.9.13 ('bipyt')",
   "language": "python",
   "name": "python3"
  },
  "language_info": {
   "codemirror_mode": {
    "name": "ipython",
    "version": 3
   },
   "file_extension": ".py",
   "mimetype": "text/x-python",
   "name": "python",
   "nbconvert_exporter": "python",
   "pygments_lexer": "ipython3",
   "version": "3.9.13"
  },
  "vscode": {
   "interpreter": {
    "hash": "111025fe049df1d2982165707d76263615b7b2736c5f013f5b0dc67e943d3e82"
   }
  }
 },
 "nbformat": 4,
 "nbformat_minor": 4
}
